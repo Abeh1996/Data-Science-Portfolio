{
 "cells": [
  {
   "cell_type": "markdown",
   "id": "10df38af",
   "metadata": {},
   "source": [
    "### Project Title: Customer Review Analysis\n",
    "Today, customers are increasily buying from online.E-commerce platforms allow the customers to drop reviews and ratings for the products they buy.These reviews are usually from confirmed buyers.However, with thousands and millions of reviews on a product, one cannot easily say how the customers feel about a given product. Therefore a method will be needed to classify these reviews and this is where web scraping and text classification/ analysis comes in.\n",
    "\n",
    "#### Problem statement\n",
    "To scrape the reviews of customers about a particular product on Amazon and perform sentimental analysis to find out how they feel about the product.\n",
    "\n",
    "#### Methodology\n",
    "To perform web scraping, Python libraries *requests and BeautifulSoup* will be used. For sentimental analysis the *VADER(Valence Aware Dictionary sEntiment Reasoner)* NLTK library will be used.\n",
    "\n",
    "#### Steps\n",
    "1. Import Libraries\n",
    "2. Downloading the webpages\n",
    "3. Parsing the dowloaded web page(text document) in to an HTML document\n",
    "4. Extracting the required information from the BeautifulSoup document(HTML).\n",
    "5. Creating an automatic workflow of the webscraping process\n",
    "   - Using for-loops\n",
    "   - Uisng pagination\n",
    "6. Saving and reading the data as a csv file\n",
    "7. Sentiment Analysis\n",
    "\n",
    "\n"
   ]
  },
  {
   "cell_type": "markdown",
   "id": "30130a41",
   "metadata": {},
   "source": [
    "To be able to download the webpage and parse it into an html format, the python libraries *requests and BeautifulSoup* will be used.\n",
    "- *Parse*:To parse data or information means to break it down into component parts so that its syntax can be analyzed, categorized, and understood."
   ]
  },
  {
   "cell_type": "markdown",
   "id": "ab2bc7a9",
   "metadata": {},
   "source": [
    "#### (A) Web scraping for data"
   ]
  },
  {
   "cell_type": "markdown",
   "id": "10bb3fb0",
   "metadata": {},
   "source": [
    "#### 1. Import Libraries"
   ]
  },
  {
   "cell_type": "code",
   "execution_count": 6,
   "id": "5aa645a4",
   "metadata": {},
   "outputs": [],
   "source": [
    "import requests\n",
    "from bs4 import BeautifulSoup"
   ]
  },
  {
   "cell_type": "markdown",
   "id": "5e6a344f",
   "metadata": {},
   "source": [
    "#### 2. Downloading the webpage"
   ]
  },
  {
   "cell_type": "markdown",
   "id": "dbcd6b93",
   "metadata": {},
   "source": [
    "To ensure that the target website that is about to be scraped does not see the traffic from \n",
    "our program as spam and not to get blocked by it, a header file will be created to contain a user agent( any Software acting behalf of user which enable the end-user to be able to interact with web contents.).\n"
   ]
  },
  {
   "cell_type": "markdown",
   "id": "ce5ab747",
   "metadata": {},
   "source": [
    "\n",
    "#### 2.1 User agent creation and webpage url"
   ]
  },
  {
   "cell_type": "code",
   "execution_count": 7,
   "id": "19540453",
   "metadata": {},
   "outputs": [],
   "source": [
    "header = {'User-Agent':'Mozilla/5.0 (Windows NT 10.0; Win64; x64) AppleWebKit/537.36 (KHTML, like Gecko) Chrome/103.0.5060.114 Safari/537.36 Edg/103.0.1264.49'}"
   ]
  },
  {
   "cell_type": "code",
   "execution_count": 8,
   "id": "a2b30563",
   "metadata": {},
   "outputs": [],
   "source": [
    "URL = 'https://www.amazon.co.uk/ASUS-Vivobook-L410MA-Microsoft-Subscription/product-reviews/B09MSGWJFR/ref=cm_cr_getr_d_paging_btm_prev_1?pageNumber=1'"
   ]
  },
  {
   "cell_type": "markdown",
   "id": "5278cb01",
   "metadata": {},
   "source": [
    "The user_agent and url can now be used to download the webpage "
   ]
  },
  {
   "cell_type": "markdown",
   "id": "512e2af5",
   "metadata": {},
   "source": [
    "####  2.2 Downloading the web page using User-Agent and url"
   ]
  },
  {
   "cell_type": "code",
   "execution_count": 9,
   "id": "81d97b51",
   "metadata": {},
   "outputs": [],
   "source": [
    "webpage = requests.get(URL, headers = header)"
   ]
  },
  {
   "cell_type": "markdown",
   "id": "3770855b",
   "metadata": {},
   "source": [
    "Checking whether the request was successful"
   ]
  },
  {
   "cell_type": "code",
   "execution_count": 10,
   "id": "7337c881",
   "metadata": {},
   "outputs": [
    {
     "data": {
      "text/plain": [
       "200"
      ]
     },
     "execution_count": 10,
     "metadata": {},
     "output_type": "execute_result"
    }
   ],
   "source": [
    "webpage.status_code"
   ]
  },
  {
   "cell_type": "markdown",
   "id": "de794ae5",
   "metadata": {},
   "source": [
    "Converting the webpage in to text."
   ]
  },
  {
   "cell_type": "code",
   "execution_count": 11,
   "id": "87645f6a",
   "metadata": {},
   "outputs": [
    {
     "data": {
      "text/plain": [
       "'<!doctype html><html lang=\"en-gb\" class=\"a-no-js\" data-19ax5a9jf=\"dingo\"><!-- sp:feature:head-start -->\\n<head><script>var aPageStart = (new Date()).getTime();</script><meta charset=\"utf-8\"/>\\n<!-- sp:end-feature:head-start -->\\n<!-- sp:feature:csm:head-open-part1 -->\\n\\n<script type=\\'text/javascript\\'>var ue_t0=ue_t0||+new Date();</script>\\n<!-- sp:end-feature:csm:head-open-part1 -->\\n<!-- sp:feature:cs-optimization -->\\n<meta http-equiv=\\'x-dns-prefetch-control\\' content=\\'on\\'>\\n<link rel=\"dns-prefetch\" href=\"https://images-eu.ssl-images-amazon.com\">\\n<link rel=\"dns-prefetch\" href=\"https://m.media-amazon.com\">\\n<link rel=\"dns-prefetch\" href=\"https://completion.amazon.com\">\\n<!-- sp:end-feature:cs-optimization -->\\n<!-- sp:feature:csm:head-open-part2 -->\\n<script type=\\'text/javascript\\'>\\nwindow.ue_ihb = (window.ue_ihb || window.ueinit || 0) + 1;\\nif (window.ue_ihb === 1) {\\n\\nvar ue_csm = window,\\n    ue_hob = +new Date();\\n(function(d){var e=d.ue=d.ue||{},f=Date.now||function(){return+new Date};e.d=function'"
      ]
     },
     "execution_count": 11,
     "metadata": {},
     "output_type": "execute_result"
    }
   ],
   "source": [
    "webpage.text[:1000]"
   ]
  },
  {
   "cell_type": "markdown",
   "id": "f128f0e4",
   "metadata": {},
   "source": [
    "It could be observed from above that the text doccument type contains html tags but it is not yet broken down compnents part so that its syntax can easily be understood.This document will then be parsed to an html document using $BeautifulSoup$."
   ]
  },
  {
   "cell_type": "markdown",
   "id": "fed252e8",
   "metadata": {},
   "source": [
    "#### 3. Parsing the dowloaded web page(text document) in to an HTML document"
   ]
  },
  {
   "cell_type": "code",
   "execution_count": 12,
   "id": "504fe248",
   "metadata": {},
   "outputs": [],
   "source": [
    "soup = BeautifulSoup(webpage.text, 'html.parser')"
   ]
  },
  {
   "cell_type": "markdown",
   "id": "3502360f",
   "metadata": {},
   "source": [
    "Finding the different tags in the html document that contains each required information."
   ]
  },
  {
   "cell_type": "markdown",
   "id": "d40310b7",
   "metadata": {},
   "source": [
    "#### 4. Extracting the required information from the BeautifulSoup document(HTML)"
   ]
  },
  {
   "cell_type": "markdown",
   "id": "8914b36a",
   "metadata": {},
   "source": [
    "1. Finding the tags that contain information on ratings"
   ]
  },
  {
   "cell_type": "code",
   "execution_count": 13,
   "id": "82dc15dc",
   "metadata": {},
   "outputs": [],
   "source": [
    "rate_tags = soup.find_all('i',{'data-hook':'review-star-rating'})"
   ]
  },
  {
   "cell_type": "code",
   "execution_count": 14,
   "id": "4cdb7b43",
   "metadata": {},
   "outputs": [
    {
     "name": "stdout",
     "output_type": "stream",
     "text": [
      "5.0\n",
      "5.0\n",
      "5.0\n",
      "5.0\n",
      "5.0\n",
      "5.0\n",
      "4.0\n",
      "5.0\n",
      "4.0\n",
      "5.0\n"
     ]
    }
   ],
   "source": [
    "#rating tag\n",
    "for tag in rate_tags:\n",
    "    print(tag.text.replace('out of 5 stars','').strip())"
   ]
  },
  {
   "cell_type": "markdown",
   "id": "94bfb50f",
   "metadata": {},
   "source": [
    "2. Extracting the reviews titles"
   ]
  },
  {
   "cell_type": "code",
   "execution_count": 17,
   "id": "4a3d46d2",
   "metadata": {},
   "outputs": [
    {
     "name": "stdout",
     "output_type": "stream",
     "text": [
      "Fabulous\n",
      "It's great\n",
      "Nice laptop\n",
      "laptop\n",
      "Fab all rounder\n",
      "excellent product\n",
      "Assis 14” laptop\n",
      "Amazing.\n",
      "good price, good unit.\n",
      "Perfect\n"
     ]
    }
   ],
   "source": [
    "#Title tag\n",
    "title_tags = soup.find_all('a',{'data-hook':'review-title'})\n",
    "for tag in title_tags:\n",
    "    title = tag.text.strip()\n",
    "    print(title)"
   ]
  },
  {
   "cell_type": "markdown",
   "id": "73e59488",
   "metadata": {},
   "source": [
    "3. Extracting reviews date"
   ]
  },
  {
   "cell_type": "code",
   "execution_count": 18,
   "id": "47e431b1",
   "metadata": {},
   "outputs": [],
   "source": [
    "#review date\n",
    "date_tag = soup.find_all('span',{'data-hook':'review-date'})"
   ]
  },
  {
   "cell_type": "code",
   "execution_count": 19,
   "id": "d0cab80a",
   "metadata": {},
   "outputs": [
    {
     "data": {
      "text/plain": [
       "[<span class=\"a-size-base a-color-secondary review-date\" data-hook=\"review-date\">Reviewed in the United Kingdom on 9 September 2022</span>,\n",
       " <span class=\"a-size-base a-color-secondary review-date\" data-hook=\"review-date\">Reviewed in the United Kingdom on 6 September 2022</span>,\n",
       " <span class=\"a-size-base a-color-secondary review-date\" data-hook=\"review-date\">Reviewed in the United Kingdom on 10 September 2022</span>]"
      ]
     },
     "execution_count": 19,
     "metadata": {},
     "output_type": "execute_result"
    }
   ],
   "source": [
    "date_tag[0:3]"
   ]
  },
  {
   "cell_type": "code",
   "execution_count": 20,
   "id": "9dbe8018",
   "metadata": {},
   "outputs": [
    {
     "name": "stdout",
     "output_type": "stream",
     "text": [
      "9 Sep\n",
      "6 Sep\n",
      "10 Se\n",
      "4 Sep\n",
      "25 Au\n",
      "23 Ju\n",
      "30 Ap\n",
      "3 Aug\n",
      "10 Ju\n",
      "7 Aug\n"
     ]
    }
   ],
   "source": [
    "for dt_tag in date_tag:\n",
    "    date = dt_tag.text.replace('Reviewed in the United Kingdom on','').strip()\n",
    "    print(date[0:5])"
   ]
  },
  {
   "cell_type": "markdown",
   "id": "109acfb9",
   "metadata": {},
   "source": [
    "4. Extracting reviews"
   ]
  },
  {
   "cell_type": "code",
   "execution_count": 21,
   "id": "e87dcc50",
   "metadata": {},
   "outputs": [],
   "source": [
    "#review\n",
    "review_tag = soup.find_all('span', {'data-hook':'review-body'})"
   ]
  },
  {
   "cell_type": "code",
   "execution_count": 22,
   "id": "16e86825",
   "metadata": {},
   "outputs": [
    {
     "data": {
      "text/plain": [
       "\"I've always had chromebooks so was looking for an affordable Windows laptop and this does the trick. Mainly wanted for streaming and can't fault so far. Good screen size and sound. Disappointing battery life though for constant streaming but doesn't take away from the overall product. Really pleased I purchased this and for £150 what's not to like!**Had a week now and still impressed but disappointed the keypad function is hit and miss in switching on and working **\""
      ]
     },
     "execution_count": 22,
     "metadata": {},
     "output_type": "execute_result"
    }
   ],
   "source": [
    "review_tag[0].text.strip()"
   ]
  },
  {
   "cell_type": "markdown",
   "id": "9235b4df",
   "metadata": {},
   "source": [
    "5. Extracting profile names"
   ]
  },
  {
   "cell_type": "code",
   "execution_count": 23,
   "id": "34ea18fe",
   "metadata": {},
   "outputs": [
    {
     "name": "stdout",
     "output_type": "stream",
     "text": [
      "Sarah Blackham\n",
      "Peter\n",
      "mark deegan\n",
      "Kevin Buchanan\n",
      "Viki Bond\n",
      "lawrence mufwinda\n",
      "Chazoninternational\n",
      "Alex Benham\n",
      "clin riou\n",
      "George Roman\n"
     ]
    }
   ],
   "source": [
    "name_tags = soup.find_all('div',{'class':'a-section celwidget'})\n",
    "for name in name_tags:\n",
    "    name = name.find('span',{'class':'a-profile-name'}).text\n",
    "    print(name)"
   ]
  },
  {
   "cell_type": "markdown",
   "id": "26b47fb2",
   "metadata": {},
   "source": [
    "#### 5. Creating  an automatic workflow of the webscraping process"
   ]
  },
  {
   "cell_type": "code",
   "execution_count": 24,
   "id": "42dcd76b",
   "metadata": {},
   "outputs": [],
   "source": [
    "import pandas as pd\n",
    "import numpy as np"
   ]
  },
  {
   "cell_type": "markdown",
   "id": "b0ab248c",
   "metadata": {},
   "source": [
    "#### 5.1 Using the for-loops"
   ]
  },
  {
   "cell_type": "code",
   "execution_count": 25,
   "id": "1a88e0e9",
   "metadata": {},
   "outputs": [
    {
     "name": "stdout",
     "output_type": "stream",
     "text": [
      "Wall time: 7.26 s\n"
     ]
    }
   ],
   "source": [
    "%%time\n",
    "URLs,soup_docs,Rating,Title,Date,Review,profile_names = [],[],[],[],[],[],[]\n",
    "pages = np.arange(1,5)\n",
    "for x in pages:\n",
    "    url = 'https://www.amazon.co.uk/ASUS-Vivobook-L410MA-Microsoft-Subscription/product-reviews/B09MSGWJFR/ref=cm_cr_getr_d_paging_btm_prev_1?ie=UTF8&reviewerType=all_reviews&pageNumber='+str(x)\n",
    "    URLs.append(url)\n",
    "for url in URLs:\n",
    "    webpage = requests.get(url, headers = header)\n",
    "    soup = BeautifulSoup(webpage.text,'html.parser')\n",
    "    soup_docs.append(soup)\n",
    "for soup_doc in soup_docs:\n",
    "    rating_tags = soup_doc.find_all('i',{'data-hook':'review-star-rating'})\n",
    "    title_tags = soup_doc.find_all('a',{'data-hook':'review-title'})\n",
    "    date_tags = soup_doc.find_all('span',{'data-hook':'review-date'})\n",
    "    review_tags = soup_doc.find_all('span', {'data-hook':'review-body'})\n",
    "    name_tags = soup_doc.find_all('div',{'class':'a-section celwidget'})\n",
    "    for rating in rating_tags:\n",
    "        rating = float(rating.text.replace('out of 5 stars','').strip())\n",
    "        Rating.append(rating)\n",
    "    for title in title_tags:  \n",
    "        title = title.text.strip()\n",
    "        Title.append(title)\n",
    "    for name in name_tags:\n",
    "        name = name.find('span',{'class':'a-profile-name'}).text\n",
    "        profile_names.append(name)\n",
    "    for date in date_tags:\n",
    "        date = date.text.replace('Reviewed in the United Kingdom on','').strip()\n",
    "        Date.append(date)\n",
    "    for review in review_tags:\n",
    "        review = review.text.strip()\n",
    "        Review.append(review)\n",
    "review_df = pd.DataFrame({'Profile_name':profile_names,'Title':Title,'Rating':Rating,'Date':Date,'Review':Review})"
   ]
  },
  {
   "cell_type": "code",
   "execution_count": 26,
   "id": "4e4e3937",
   "metadata": {},
   "outputs": [
    {
     "data": {
      "text/html": [
       "<div>\n",
       "<style scoped>\n",
       "    .dataframe tbody tr th:only-of-type {\n",
       "        vertical-align: middle;\n",
       "    }\n",
       "\n",
       "    .dataframe tbody tr th {\n",
       "        vertical-align: top;\n",
       "    }\n",
       "\n",
       "    .dataframe thead th {\n",
       "        text-align: right;\n",
       "    }\n",
       "</style>\n",
       "<table border=\"1\" class=\"dataframe\">\n",
       "  <thead>\n",
       "    <tr style=\"text-align: right;\">\n",
       "      <th></th>\n",
       "      <th>Profile_name</th>\n",
       "      <th>Title</th>\n",
       "      <th>Rating</th>\n",
       "      <th>Date</th>\n",
       "      <th>Review</th>\n",
       "    </tr>\n",
       "  </thead>\n",
       "  <tbody>\n",
       "    <tr>\n",
       "      <th>0</th>\n",
       "      <td>Sarah Blackham</td>\n",
       "      <td>Fabulous</td>\n",
       "      <td>5.0</td>\n",
       "      <td>9 September 2022</td>\n",
       "      <td>I've always had chromebooks so was looking for...</td>\n",
       "    </tr>\n",
       "    <tr>\n",
       "      <th>1</th>\n",
       "      <td>Peter</td>\n",
       "      <td>It's great</td>\n",
       "      <td>5.0</td>\n",
       "      <td>6 September 2022</td>\n",
       "      <td>Had it 3 days now finding it great at the begi...</td>\n",
       "    </tr>\n",
       "    <tr>\n",
       "      <th>2</th>\n",
       "      <td>mark deegan</td>\n",
       "      <td>Nice laptop</td>\n",
       "      <td>5.0</td>\n",
       "      <td>10 September 2022</td>\n",
       "      <td>Good price</td>\n",
       "    </tr>\n",
       "    <tr>\n",
       "      <th>3</th>\n",
       "      <td>Kevin Buchanan</td>\n",
       "      <td>laptop</td>\n",
       "      <td>5.0</td>\n",
       "      <td>4 September 2022</td>\n",
       "      <td>this is my second asus, they are perfect lapto...</td>\n",
       "    </tr>\n",
       "    <tr>\n",
       "      <th>4</th>\n",
       "      <td>Viki Bond</td>\n",
       "      <td>Fab all rounder</td>\n",
       "      <td>5.0</td>\n",
       "      <td>25 August 2022</td>\n",
       "      <td>Fab laptop does everything I need it to and si...</td>\n",
       "    </tr>\n",
       "  </tbody>\n",
       "</table>\n",
       "</div>"
      ],
      "text/plain": [
       "     Profile_name            Title  Rating               Date  \\\n",
       "0  Sarah Blackham         Fabulous     5.0   9 September 2022   \n",
       "1           Peter       It's great     5.0   6 September 2022   \n",
       "2     mark deegan      Nice laptop     5.0  10 September 2022   \n",
       "3  Kevin Buchanan           laptop     5.0   4 September 2022   \n",
       "4       Viki Bond  Fab all rounder     5.0     25 August 2022   \n",
       "\n",
       "                                              Review  \n",
       "0  I've always had chromebooks so was looking for...  \n",
       "1  Had it 3 days now finding it great at the begi...  \n",
       "2                                         Good price  \n",
       "3  this is my second asus, they are perfect lapto...  \n",
       "4  Fab laptop does everything I need it to and si...  "
      ]
     },
     "execution_count": 26,
     "metadata": {},
     "output_type": "execute_result"
    }
   ],
   "source": [
    "review_df.head()"
   ]
  },
  {
   "cell_type": "markdown",
   "id": "88567f63",
   "metadata": {},
   "source": [
    "#### 5.2 Using pagination\n",
    "Scraping just a few pages using the $for-loops$ is very easy as the number of pages can easily be gotten but for thousands or hundreds of webpages to be scraped automatically the for-loops becomes limited as one may not actually know the exact number of pages(Assuming one has to scrape all the web pages).Thus to facilitate the process  $Pagination$ is used."
   ]
  },
  {
   "cell_type": "code",
   "execution_count": 20,
   "id": "50f9492c",
   "metadata": {},
   "outputs": [
    {
     "name": "stdout",
     "output_type": "stream",
     "text": [
      "https://www.amazon.co.uk/ASUS-Vivobook-L410MA-Microsoft-Subscription/product-reviews/B09MSGWJFR/ref=cm_cr_arp_d_paging_btm_2?ie=UTF8&pageNumber=2\n"
     ]
    }
   ],
   "source": [
    "u = 'https://www.amazon.co.uk/ASUS-Vivobook-L410MA-Microsoft-Subscription/product-reviews/B09MSGWJFR'\n",
    "root_url = 'https://www.amazon.co.uk'\n",
    "web = requests.get(u,headers = header)\n",
    "so = BeautifulSoup(web.text, 'html.parser')\n",
    "nextpage = so.find('ul',{'class':'a-pagination'})\n",
    "ur = root_url + str(nextpage.find('li',{'class':'a-last'}).find('a')['href'])\n",
    "print(ur)"
   ]
  },
  {
   "cell_type": "markdown",
   "id": "dcf053b6",
   "metadata": {},
   "source": [
    "#### An automatic workflow of the webscraping process using pagination"
   ]
  },
  {
   "cell_type": "code",
   "execution_count": 24,
   "id": "c0dc286f",
   "metadata": {},
   "outputs": [
    {
     "name": "stdout",
     "output_type": "stream",
     "text": [
      "Wall time: 14.5 s\n"
     ]
    }
   ],
   "source": [
    "%%time\n",
    "URLs,soup_docs,Rating,Title,Date,Review,profile_names = [],[],[],[],[],[],[]\n",
    "#Get the urls\n",
    "root_url ='https://www.amazon.co.uk'\n",
    "url = 'https://www.amazon.co.uk/ASUS-Vivobook-L410MA-Microsoft-Subscription/product-reviews/B09MSGWJFR'\n",
    "URLs.append(url)\n",
    "def get_webpage(url):\n",
    "    webpage = requests.get(url,headers = header)\n",
    "    soup = BeautifulSoup(webpage.text, 'html.parser')\n",
    "    return soup\n",
    "def get_nextpage(soup):\n",
    "    nextpage = soup.find('ul',{'class':'a-pagination'})\n",
    "    if not nextpage.find('li',{'class':'a-disabled a-last'}):\n",
    "        url = root_url+str(nextpage.find('li',{'class':'a-last'}).find('a')['href'])\n",
    "        return url\n",
    "    else:\n",
    "        return\n",
    "# URLs Extraction for the different web pages\n",
    "while True:\n",
    "    soup = get_webpage(url)\n",
    "    url = get_nextpage(soup)\n",
    "    if not url:\n",
    "        break\n",
    "    URLs.append(url)\n",
    "# Data Extraction from the different web pages\n",
    "for url in URLs:\n",
    "    webpage = requests.get(url, headers = header)\n",
    "    soup = BeautifulSoup(webpage.text,'html.parser')\n",
    "    soup_docs.append(soup)\n",
    "for soup_doc in soup_docs:\n",
    "    rating_tags = soup_doc.find_all('i',{'data-hook':'review-star-rating'})\n",
    "    title_tags = soup_doc.find_all('a',{'data-hook':'review-title'})\n",
    "    date_tags = soup_doc.find_all('span',{'data-hook':'review-date'})\n",
    "    review_tags = soup_doc.find_all('span', {'data-hook':'review-body'})\n",
    "    name_tags = soup_doc.find_all('div',{'class':'a-section celwidget'})\n",
    "    for rating in rating_tags:\n",
    "        rating = float(rating.text.replace('out of 5 stars','').strip())\n",
    "        Rating.append(rating)\n",
    "    for title in title_tags:  \n",
    "        title = title.text.strip()\n",
    "        Title.append(title)\n",
    "    for name in name_tags:\n",
    "        name = name.find('span',{'class':'a-profile-name'}).text\n",
    "        profile_names.append(name)\n",
    "    for date in date_tags:\n",
    "        date = date.text.replace('Reviewed in the United Kingdom on','').strip()\n",
    "        Date.append(date)\n",
    "    for review in review_tags:\n",
    "        review = review.text.strip()\n",
    "        Review.append(review)\n",
    "review_df = pd.DataFrame({'Profile_name':profile_names,'Title':Title,'Rating':Rating,\n",
    "                          'Date':Date,'Review':Review})"
   ]
  },
  {
   "cell_type": "code",
   "execution_count": 26,
   "id": "bccd92e6",
   "metadata": {},
   "outputs": [
    {
     "data": {
      "text/html": [
       "<div>\n",
       "<style scoped>\n",
       "    .dataframe tbody tr th:only-of-type {\n",
       "        vertical-align: middle;\n",
       "    }\n",
       "\n",
       "    .dataframe tbody tr th {\n",
       "        vertical-align: top;\n",
       "    }\n",
       "\n",
       "    .dataframe thead th {\n",
       "        text-align: right;\n",
       "    }\n",
       "</style>\n",
       "<table border=\"1\" class=\"dataframe\">\n",
       "  <thead>\n",
       "    <tr style=\"text-align: right;\">\n",
       "      <th></th>\n",
       "      <th>Profile_name</th>\n",
       "      <th>Title</th>\n",
       "      <th>Rating</th>\n",
       "      <th>Date</th>\n",
       "      <th>Review</th>\n",
       "    </tr>\n",
       "  </thead>\n",
       "  <tbody>\n",
       "    <tr>\n",
       "      <th>0</th>\n",
       "      <td>Sarah Blackham</td>\n",
       "      <td>Fabulous</td>\n",
       "      <td>5.0</td>\n",
       "      <td>9 September 2022</td>\n",
       "      <td>I've always had chromebooks so was looking for...</td>\n",
       "    </tr>\n",
       "    <tr>\n",
       "      <th>1</th>\n",
       "      <td>Peter</td>\n",
       "      <td>It's great</td>\n",
       "      <td>5.0</td>\n",
       "      <td>6 September 2022</td>\n",
       "      <td>Had it 3 days now finding it great at the begi...</td>\n",
       "    </tr>\n",
       "    <tr>\n",
       "      <th>2</th>\n",
       "      <td>mark deegan</td>\n",
       "      <td>Nice laptop</td>\n",
       "      <td>5.0</td>\n",
       "      <td>10 September 2022</td>\n",
       "      <td>Good price</td>\n",
       "    </tr>\n",
       "    <tr>\n",
       "      <th>3</th>\n",
       "      <td>Kevin Buchanan</td>\n",
       "      <td>laptop</td>\n",
       "      <td>5.0</td>\n",
       "      <td>4 September 2022</td>\n",
       "      <td>this is my second asus, they are perfect lapto...</td>\n",
       "    </tr>\n",
       "    <tr>\n",
       "      <th>4</th>\n",
       "      <td>Viki Bond</td>\n",
       "      <td>Fab all rounder</td>\n",
       "      <td>5.0</td>\n",
       "      <td>25 August 2022</td>\n",
       "      <td>Fab laptop does everything I need it to and si...</td>\n",
       "    </tr>\n",
       "  </tbody>\n",
       "</table>\n",
       "</div>"
      ],
      "text/plain": [
       "     Profile_name            Title  Rating               Date  \\\n",
       "0  Sarah Blackham         Fabulous     5.0   9 September 2022   \n",
       "1           Peter       It's great     5.0   6 September 2022   \n",
       "2     mark deegan      Nice laptop     5.0  10 September 2022   \n",
       "3  Kevin Buchanan           laptop     5.0   4 September 2022   \n",
       "4       Viki Bond  Fab all rounder     5.0     25 August 2022   \n",
       "\n",
       "                                              Review  \n",
       "0  I've always had chromebooks so was looking for...  \n",
       "1  Had it 3 days now finding it great at the begi...  \n",
       "2                                         Good price  \n",
       "3  this is my second asus, they are perfect lapto...  \n",
       "4  Fab laptop does everything I need it to and si...  "
      ]
     },
     "execution_count": 26,
     "metadata": {},
     "output_type": "execute_result"
    }
   ],
   "source": [
    "review_df.head()"
   ]
  },
  {
   "cell_type": "markdown",
   "id": "cf9b03cb",
   "metadata": {},
   "source": [
    "#### 6. Saving and reading  the data as a csv file"
   ]
  },
  {
   "cell_type": "code",
   "execution_count": 27,
   "id": "b0ee3ab9",
   "metadata": {},
   "outputs": [],
   "source": [
    "review_df.to_csv('Amazon_ASUS_reviews.csv',index = False)"
   ]
  },
  {
   "cell_type": "code",
   "execution_count": 1,
   "id": "a35ed56a",
   "metadata": {},
   "outputs": [],
   "source": [
    "import pandas as pd\n",
    "import numpy as np\n",
    "import matplotlib.pyplot as plt\n",
    "import seaborn as sns\n",
    "df = pd.read_csv('Amazon_ASUS_reviews.csv')"
   ]
  },
  {
   "cell_type": "code",
   "execution_count": 2,
   "id": "a9785af6",
   "metadata": {},
   "outputs": [],
   "source": [
    "import warnings\n",
    "warnings.filterwarnings('ignore')"
   ]
  },
  {
   "cell_type": "code",
   "execution_count": 3,
   "id": "37a5a260",
   "metadata": {},
   "outputs": [
    {
     "data": {
      "text/html": [
       "<div>\n",
       "<style scoped>\n",
       "    .dataframe tbody tr th:only-of-type {\n",
       "        vertical-align: middle;\n",
       "    }\n",
       "\n",
       "    .dataframe tbody tr th {\n",
       "        vertical-align: top;\n",
       "    }\n",
       "\n",
       "    .dataframe thead th {\n",
       "        text-align: right;\n",
       "    }\n",
       "</style>\n",
       "<table border=\"1\" class=\"dataframe\">\n",
       "  <thead>\n",
       "    <tr style=\"text-align: right;\">\n",
       "      <th></th>\n",
       "      <th>Profile_name</th>\n",
       "      <th>Title</th>\n",
       "      <th>Rating</th>\n",
       "      <th>Date</th>\n",
       "      <th>Review</th>\n",
       "    </tr>\n",
       "  </thead>\n",
       "  <tbody>\n",
       "    <tr>\n",
       "      <th>0</th>\n",
       "      <td>Sarah Blackham</td>\n",
       "      <td>Fabulous</td>\n",
       "      <td>5.0</td>\n",
       "      <td>9 September 2022</td>\n",
       "      <td>I've always had chromebooks so was looking for...</td>\n",
       "    </tr>\n",
       "    <tr>\n",
       "      <th>1</th>\n",
       "      <td>Peter</td>\n",
       "      <td>It's great</td>\n",
       "      <td>5.0</td>\n",
       "      <td>6 September 2022</td>\n",
       "      <td>Had it 3 days now finding it great at the begi...</td>\n",
       "    </tr>\n",
       "    <tr>\n",
       "      <th>2</th>\n",
       "      <td>mark deegan</td>\n",
       "      <td>Nice laptop</td>\n",
       "      <td>5.0</td>\n",
       "      <td>10 September 2022</td>\n",
       "      <td>Good price</td>\n",
       "    </tr>\n",
       "    <tr>\n",
       "      <th>3</th>\n",
       "      <td>Kevin Buchanan</td>\n",
       "      <td>laptop</td>\n",
       "      <td>5.0</td>\n",
       "      <td>4 September 2022</td>\n",
       "      <td>this is my second asus, they are perfect lapto...</td>\n",
       "    </tr>\n",
       "    <tr>\n",
       "      <th>4</th>\n",
       "      <td>Viki Bond</td>\n",
       "      <td>Fab all rounder</td>\n",
       "      <td>5.0</td>\n",
       "      <td>25 August 2022</td>\n",
       "      <td>Fab laptop does everything I need it to and si...</td>\n",
       "    </tr>\n",
       "  </tbody>\n",
       "</table>\n",
       "</div>"
      ],
      "text/plain": [
       "     Profile_name            Title  Rating               Date  \\\n",
       "0  Sarah Blackham         Fabulous     5.0   9 September 2022   \n",
       "1           Peter       It's great     5.0   6 September 2022   \n",
       "2     mark deegan      Nice laptop     5.0  10 September 2022   \n",
       "3  Kevin Buchanan           laptop     5.0   4 September 2022   \n",
       "4       Viki Bond  Fab all rounder     5.0     25 August 2022   \n",
       "\n",
       "                                              Review  \n",
       "0  I've always had chromebooks so was looking for...  \n",
       "1  Had it 3 days now finding it great at the begi...  \n",
       "2                                         Good price  \n",
       "3  this is my second asus, they are perfect lapto...  \n",
       "4  Fab laptop does everything I need it to and si...  "
      ]
     },
     "execution_count": 3,
     "metadata": {},
     "output_type": "execute_result"
    }
   ],
   "source": [
    "df.head()"
   ]
  },
  {
   "cell_type": "markdown",
   "id": "1feff7e4",
   "metadata": {},
   "source": [
    "The dataframe above consists of 38 reviews made in UK in 2022 about the ASUS Vivobook Laptop"
   ]
  },
  {
   "cell_type": "markdown",
   "id": "b2d781ec",
   "metadata": {},
   "source": [
    "#### B. Analysis"
   ]
  },
  {
   "cell_type": "markdown",
   "id": "b15e3c14",
   "metadata": {},
   "source": [
    "#### 1. Data Wrangling"
   ]
  },
  {
   "cell_type": "code",
   "execution_count": 4,
   "id": "936ba02e",
   "metadata": {},
   "outputs": [
    {
     "name": "stdout",
     "output_type": "stream",
     "text": [
      "<class 'pandas.core.frame.DataFrame'>\n",
      "RangeIndex: 38 entries, 0 to 37\n",
      "Data columns (total 5 columns):\n",
      " #   Column        Non-Null Count  Dtype  \n",
      "---  ------        --------------  -----  \n",
      " 0   Profile_name  38 non-null     object \n",
      " 1   Title         38 non-null     object \n",
      " 2   Rating        38 non-null     float64\n",
      " 3   Date          38 non-null     object \n",
      " 4   Review        38 non-null     object \n",
      "dtypes: float64(1), object(4)\n",
      "memory usage: 1.6+ KB\n"
     ]
    }
   ],
   "source": [
    "#Dataframe Information\n",
    "df.info()"
   ]
  },
  {
   "cell_type": "markdown",
   "id": "514dfa2c",
   "metadata": {},
   "source": [
    "From the above information it shows that rating is the only column with numeric data while the rest of the columns contain categorical data.It could also be observed that there no NaN values in the dataset."
   ]
  },
  {
   "cell_type": "code",
   "execution_count": 5,
   "id": "fa7389b0",
   "metadata": {},
   "outputs": [],
   "source": [
    "from jupyterthemes import jtplot\n",
    "jtplot.style()"
   ]
  },
  {
   "cell_type": "markdown",
   "id": "794e6ac9",
   "metadata": {},
   "source": [
    "#### 2. Exploratory Data Analysis(EDA)\n",
    "###### Question:\n",
    "Which of the ratings has the highest occurence?"
   ]
  },
  {
   "cell_type": "code",
   "execution_count": 6,
   "id": "cbfa1194",
   "metadata": {},
   "outputs": [],
   "source": [
    "ratings = df['Rating'].value_counts().sort_values(ascending = False)"
   ]
  },
  {
   "cell_type": "code",
   "execution_count": 7,
   "id": "d87682f2",
   "metadata": {},
   "outputs": [
    {
     "data": {
      "text/plain": [
       "Text(0.5, 1.0, 'Counts per rating')"
      ]
     },
     "execution_count": 7,
     "metadata": {},
     "output_type": "execute_result"
    },
    {
     "data": {
      "image/png": "[encoded data removed]",
      "text/plain": [
       "<Figure size 576x216 with 1 Axes>"
      ]
     },
     "metadata": {},
     "output_type": "display_data"
    }
   ],
   "source": [
    "plt.figure(figsize = (8,3))\n",
    "plt.barh(ratings.index,ratings.values,color = ['red','brown','blue','green','black'])\n",
    "plt.xlabel('count', fontsize = 12,fontweight = 'bold')\n",
    "plt.ylabel('rating', fontsize = 12,fontweight = 'bold')\n",
    "plt.title('Counts per rating', fontweight = 'bold')"
   ]
  },
  {
   "cell_type": "code",
   "execution_count": 8,
   "id": "fe2c1956",
   "metadata": {},
   "outputs": [
    {
     "data": {
      "text/plain": [
       "5.0    63.157895\n",
       "1.0    18.421053\n",
       "4.0     7.894737\n",
       "3.0     5.263158\n",
       "2.0     5.263158\n",
       "Name: Rating, dtype: float64"
      ]
     },
     "execution_count": 8,
     "metadata": {},
     "output_type": "execute_result"
    }
   ],
   "source": [
    "df['Rating'].value_counts(normalize = True)*100"
   ]
  },
  {
   "cell_type": "code",
   "execution_count": 9,
   "id": "88560778",
   "metadata": {},
   "outputs": [
    {
     "data": {
      "image/png": "[encoded data removed]",
      "text/plain": [
       "<Figure size 460.8x403.2 with 1 Axes>"
      ]
     },
     "metadata": {},
     "output_type": "display_data"
    }
   ],
   "source": [
    "colors = ['red','brown','blue','green','black']\n",
    "plt.pie(ratings.values,labels = ratings.index,colors = colors,autopct = '%.1f%%',\n",
    "        textprops = {'fontsize':13, 'color':'w','fontweight':'bold'})\n",
    "circle = plt.Circle((0,0),0.7,color = 'black')\n",
    "p = plt.gcf()\n",
    "p.gca().add_artist(circle)\n",
    "plt.show()"
   ]
  },
  {
   "cell_type": "markdown",
   "id": "88de306a",
   "metadata": {},
   "source": [
    "The reviews are categorized on an overall rating scale of 1 to 5, with 1 being the lowest approval and 5 being the highest.From the above information it could be observed that about 63% of customers rated the product(ASUS Vivobook Laptop) as 5.0. It could be assume that most of the customers having a positive feeling about the profuct."
   ]
  },
  {
   "cell_type": "markdown",
   "id": "50cb1595",
   "metadata": {},
   "source": [
    "### 3. Sentiment Analysis and NLTK Basics"
   ]
  },
  {
   "cell_type": "code",
   "execution_count": 10,
   "id": "d44678ed",
   "metadata": {},
   "outputs": [
    {
     "data": {
      "text/plain": [
       "['I', \"'ve\", 'always', 'had', 'chromebooks']"
      ]
     },
     "execution_count": 10,
     "metadata": {},
     "output_type": "execute_result"
    }
   ],
   "source": [
    "#Tokenization using NLTK\n",
    "import nltk\n",
    "text = df['Review'][0]\n",
    "tokens = nltk.word_tokenize(text)\n",
    "tokens[:5]"
   ]
  },
  {
   "cell_type": "code",
   "execution_count": 11,
   "id": "9173ad37",
   "metadata": {},
   "outputs": [
    {
     "data": {
      "text/plain": [
       "[('I', 'PRP'), (\"'ve\", 'VBP')]"
      ]
     },
     "execution_count": 11,
     "metadata": {},
     "output_type": "execute_result"
    }
   ],
   "source": [
    "#Identifying part of speech of each word in a sentense\n",
    "tags = nltk.pos_tag(tokens)\n",
    "tags[:2]"
   ]
  },
  {
   "cell_type": "markdown",
   "id": "655700c4",
   "metadata": {},
   "source": [
    "#### 3.1 VADER Sentiment Scoring\n",
    "NLTK's *SentimentIntensityAnalyzer* will be used get the positive, neutral and negative scores of a text.VADER uses a Bag of word approach.A text is tokenized,stop words and special characters removed,each root word in the text is scored and combined to a total score."
   ]
  },
  {
   "cell_type": "code",
   "execution_count": 12,
   "id": "05768cb4",
   "metadata": {},
   "outputs": [],
   "source": [
    "from nltk.sentiment import SentimentIntensityAnalyzer\n",
    "from tqdm.notebook import tqdm"
   ]
  },
  {
   "cell_type": "code",
   "execution_count": 13,
   "id": "7af22123",
   "metadata": {},
   "outputs": [
    {
     "data": {
      "text/plain": [
       "Index(['Profile_name', 'Title', 'Rating', 'Date', 'Review'], dtype='object')"
      ]
     },
     "execution_count": 13,
     "metadata": {},
     "output_type": "execute_result"
    }
   ],
   "source": [
    "df.columns"
   ]
  },
  {
   "cell_type": "code",
   "execution_count": 14,
   "id": "68aec089",
   "metadata": {},
   "outputs": [],
   "source": [
    "df = df.reset_index().rename(columns = {'index':'Id'})"
   ]
  },
  {
   "cell_type": "code",
   "execution_count": 15,
   "id": "101fb40b",
   "metadata": {},
   "outputs": [
    {
     "data": {
      "text/html": [
       "<div>\n",
       "<style scoped>\n",
       "    .dataframe tbody tr th:only-of-type {\n",
       "        vertical-align: middle;\n",
       "    }\n",
       "\n",
       "    .dataframe tbody tr th {\n",
       "        vertical-align: top;\n",
       "    }\n",
       "\n",
       "    .dataframe thead th {\n",
       "        text-align: right;\n",
       "    }\n",
       "</style>\n",
       "<table border=\"1\" class=\"dataframe\">\n",
       "  <thead>\n",
       "    <tr style=\"text-align: right;\">\n",
       "      <th></th>\n",
       "      <th>Id</th>\n",
       "      <th>Profile_name</th>\n",
       "      <th>Title</th>\n",
       "      <th>Rating</th>\n",
       "      <th>Date</th>\n",
       "      <th>Review</th>\n",
       "    </tr>\n",
       "  </thead>\n",
       "  <tbody>\n",
       "    <tr>\n",
       "      <th>0</th>\n",
       "      <td>0</td>\n",
       "      <td>Sarah Blackham</td>\n",
       "      <td>Fabulous</td>\n",
       "      <td>5.0</td>\n",
       "      <td>9 September 2022</td>\n",
       "      <td>I've always had chromebooks so was looking for...</td>\n",
       "    </tr>\n",
       "    <tr>\n",
       "      <th>1</th>\n",
       "      <td>1</td>\n",
       "      <td>Peter</td>\n",
       "      <td>It's great</td>\n",
       "      <td>5.0</td>\n",
       "      <td>6 September 2022</td>\n",
       "      <td>Had it 3 days now finding it great at the begi...</td>\n",
       "    </tr>\n",
       "    <tr>\n",
       "      <th>2</th>\n",
       "      <td>2</td>\n",
       "      <td>mark deegan</td>\n",
       "      <td>Nice laptop</td>\n",
       "      <td>5.0</td>\n",
       "      <td>10 September 2022</td>\n",
       "      <td>Good price</td>\n",
       "    </tr>\n",
       "    <tr>\n",
       "      <th>3</th>\n",
       "      <td>3</td>\n",
       "      <td>Kevin Buchanan</td>\n",
       "      <td>laptop</td>\n",
       "      <td>5.0</td>\n",
       "      <td>4 September 2022</td>\n",
       "      <td>this is my second asus, they are perfect lapto...</td>\n",
       "    </tr>\n",
       "    <tr>\n",
       "      <th>4</th>\n",
       "      <td>4</td>\n",
       "      <td>Viki Bond</td>\n",
       "      <td>Fab all rounder</td>\n",
       "      <td>5.0</td>\n",
       "      <td>25 August 2022</td>\n",
       "      <td>Fab laptop does everything I need it to and si...</td>\n",
       "    </tr>\n",
       "  </tbody>\n",
       "</table>\n",
       "</div>"
      ],
      "text/plain": [
       "   Id    Profile_name            Title  Rating               Date  \\\n",
       "0   0  Sarah Blackham         Fabulous     5.0   9 September 2022   \n",
       "1   1           Peter       It's great     5.0   6 September 2022   \n",
       "2   2     mark deegan      Nice laptop     5.0  10 September 2022   \n",
       "3   3  Kevin Buchanan           laptop     5.0   4 September 2022   \n",
       "4   4       Viki Bond  Fab all rounder     5.0     25 August 2022   \n",
       "\n",
       "                                              Review  \n",
       "0  I've always had chromebooks so was looking for...  \n",
       "1  Had it 3 days now finding it great at the begi...  \n",
       "2                                         Good price  \n",
       "3  this is my second asus, they are perfect lapto...  \n",
       "4  Fab laptop does everything I need it to and si...  "
      ]
     },
     "execution_count": 15,
     "metadata": {},
     "output_type": "execute_result"
    }
   ],
   "source": [
    "df.head()"
   ]
  },
  {
   "cell_type": "code",
   "execution_count": 16,
   "id": "723d2243",
   "metadata": {},
   "outputs": [],
   "source": [
    "# Building a sentiment Intensity analyzer\n",
    "sia = SentimentIntensityAnalyzer()"
   ]
  },
  {
   "cell_type": "code",
   "execution_count": 17,
   "id": "b148af0b",
   "metadata": {},
   "outputs": [
    {
     "data": {
      "text/plain": [
       "{'neg': 0.102, 'neu': 0.761, 'pos': 0.137, 'compound': 0.6369}"
      ]
     },
     "execution_count": 17,
     "metadata": {},
     "output_type": "execute_result"
    }
   ],
   "source": [
    "sia.polarity_scores(df['Review'][0])"
   ]
  },
  {
   "cell_type": "code",
   "execution_count": 18,
   "id": "073064b0",
   "metadata": {},
   "outputs": [
    {
     "data": {
      "text/plain": [
       "\"I've always had chromebooks so was looking for an affordable Windows laptop and this does the trick. Mainly wanted for streaming and can't fault so far. Good screen size and sound. Disappointing battery life though for constant streaming but doesn't take away from the overall product. Really pleased I purchased this and for £150 what's not to like!**Had a week now and still impressed but disappointed the keypad function is hit and miss in switching on and working **\""
      ]
     },
     "execution_count": 18,
     "metadata": {},
     "output_type": "execute_result"
    }
   ],
   "source": [
    "df['Review'][0]"
   ]
  },
  {
   "cell_type": "code",
   "execution_count": 19,
   "id": "58b49dda",
   "metadata": {},
   "outputs": [
    {
     "data": {
      "application/vnd.jupyter.widget-view+json": {
       "model_id": "e1efbe2cfda54b2591a143247bb95307",
       "version_major": 2,
       "version_minor": 0
      },
      "text/plain": [
       "  0%|          | 0/38 [00:00<?, ?it/s]"
      ]
     },
     "metadata": {},
     "output_type": "display_data"
    }
   ],
   "source": [
    "#Running sia on the whole dataset.This could done by iterating through the dataframe\n",
    "result = {}\n",
    "for i, row in tqdm(df.iterrows(), total = len(df)):\n",
    "    text = row['Review']\n",
    "    ID =   row['Id']\n",
    "    result[ID] = sia.polarity_scores(text) "
   ]
  },
  {
   "cell_type": "code",
   "execution_count": 20,
   "id": "fb681136",
   "metadata": {},
   "outputs": [],
   "source": [
    "sent_df=pd.DataFrame(result).T"
   ]
  },
  {
   "cell_type": "code",
   "execution_count": 21,
   "id": "503e554a",
   "metadata": {},
   "outputs": [
    {
     "data": {
      "text/html": [
       "<div>\n",
       "<style scoped>\n",
       "    .dataframe tbody tr th:only-of-type {\n",
       "        vertical-align: middle;\n",
       "    }\n",
       "\n",
       "    .dataframe tbody tr th {\n",
       "        vertical-align: top;\n",
       "    }\n",
       "\n",
       "    .dataframe thead th {\n",
       "        text-align: right;\n",
       "    }\n",
       "</style>\n",
       "<table border=\"1\" class=\"dataframe\">\n",
       "  <thead>\n",
       "    <tr style=\"text-align: right;\">\n",
       "      <th></th>\n",
       "      <th>neg</th>\n",
       "      <th>neu</th>\n",
       "      <th>pos</th>\n",
       "      <th>compound</th>\n",
       "    </tr>\n",
       "  </thead>\n",
       "  <tbody>\n",
       "    <tr>\n",
       "      <th>0</th>\n",
       "      <td>0.102</td>\n",
       "      <td>0.761</td>\n",
       "      <td>0.137</td>\n",
       "      <td>0.6369</td>\n",
       "    </tr>\n",
       "    <tr>\n",
       "      <th>1</th>\n",
       "      <td>0.020</td>\n",
       "      <td>0.648</td>\n",
       "      <td>0.332</td>\n",
       "      <td>0.9798</td>\n",
       "    </tr>\n",
       "    <tr>\n",
       "      <th>2</th>\n",
       "      <td>0.000</td>\n",
       "      <td>0.256</td>\n",
       "      <td>0.744</td>\n",
       "      <td>0.4404</td>\n",
       "    </tr>\n",
       "    <tr>\n",
       "      <th>3</th>\n",
       "      <td>0.000</td>\n",
       "      <td>0.730</td>\n",
       "      <td>0.270</td>\n",
       "      <td>0.5719</td>\n",
       "    </tr>\n",
       "    <tr>\n",
       "      <th>4</th>\n",
       "      <td>0.000</td>\n",
       "      <td>0.769</td>\n",
       "      <td>0.231</td>\n",
       "      <td>0.4588</td>\n",
       "    </tr>\n",
       "  </tbody>\n",
       "</table>\n",
       "</div>"
      ],
      "text/plain": [
       "     neg    neu    pos  compound\n",
       "0  0.102  0.761  0.137    0.6369\n",
       "1  0.020  0.648  0.332    0.9798\n",
       "2  0.000  0.256  0.744    0.4404\n",
       "3  0.000  0.730  0.270    0.5719\n",
       "4  0.000  0.769  0.231    0.4588"
      ]
     },
     "execution_count": 21,
     "metadata": {},
     "output_type": "execute_result"
    }
   ],
   "source": [
    "\n",
    "sent_df.head()"
   ]
  },
  {
   "cell_type": "code",
   "execution_count": 22,
   "id": "408be4cd",
   "metadata": {},
   "outputs": [],
   "source": [
    "#Merging the sentiment scores with the original dataframe\n",
    "sent_df = sent_df.reset_index().rename(columns = {'index':'Id'})"
   ]
  },
  {
   "cell_type": "code",
   "execution_count": 23,
   "id": "3b4dee80",
   "metadata": {},
   "outputs": [],
   "source": [
    "vader = sent_df.merge(df, how = 'left')"
   ]
  },
  {
   "cell_type": "code",
   "execution_count": 24,
   "id": "17cfdbbc",
   "metadata": {},
   "outputs": [
    {
     "data": {
      "text/html": [
       "<div>\n",
       "<style scoped>\n",
       "    .dataframe tbody tr th:only-of-type {\n",
       "        vertical-align: middle;\n",
       "    }\n",
       "\n",
       "    .dataframe tbody tr th {\n",
       "        vertical-align: top;\n",
       "    }\n",
       "\n",
       "    .dataframe thead th {\n",
       "        text-align: right;\n",
       "    }\n",
       "</style>\n",
       "<table border=\"1\" class=\"dataframe\">\n",
       "  <thead>\n",
       "    <tr style=\"text-align: right;\">\n",
       "      <th></th>\n",
       "      <th>Id</th>\n",
       "      <th>neg</th>\n",
       "      <th>neu</th>\n",
       "      <th>pos</th>\n",
       "      <th>compound</th>\n",
       "      <th>Profile_name</th>\n",
       "      <th>Title</th>\n",
       "      <th>Rating</th>\n",
       "      <th>Date</th>\n",
       "      <th>Review</th>\n",
       "    </tr>\n",
       "  </thead>\n",
       "  <tbody>\n",
       "    <tr>\n",
       "      <th>0</th>\n",
       "      <td>0</td>\n",
       "      <td>0.102</td>\n",
       "      <td>0.761</td>\n",
       "      <td>0.137</td>\n",
       "      <td>0.6369</td>\n",
       "      <td>Sarah Blackham</td>\n",
       "      <td>Fabulous</td>\n",
       "      <td>5.0</td>\n",
       "      <td>9 September 2022</td>\n",
       "      <td>I've always had chromebooks so was looking for...</td>\n",
       "    </tr>\n",
       "    <tr>\n",
       "      <th>1</th>\n",
       "      <td>1</td>\n",
       "      <td>0.020</td>\n",
       "      <td>0.648</td>\n",
       "      <td>0.332</td>\n",
       "      <td>0.9798</td>\n",
       "      <td>Peter</td>\n",
       "      <td>It's great</td>\n",
       "      <td>5.0</td>\n",
       "      <td>6 September 2022</td>\n",
       "      <td>Had it 3 days now finding it great at the begi...</td>\n",
       "    </tr>\n",
       "    <tr>\n",
       "      <th>2</th>\n",
       "      <td>2</td>\n",
       "      <td>0.000</td>\n",
       "      <td>0.256</td>\n",
       "      <td>0.744</td>\n",
       "      <td>0.4404</td>\n",
       "      <td>mark deegan</td>\n",
       "      <td>Nice laptop</td>\n",
       "      <td>5.0</td>\n",
       "      <td>10 September 2022</td>\n",
       "      <td>Good price</td>\n",
       "    </tr>\n",
       "  </tbody>\n",
       "</table>\n",
       "</div>"
      ],
      "text/plain": [
       "   Id    neg    neu    pos  compound    Profile_name        Title  Rating  \\\n",
       "0   0  0.102  0.761  0.137    0.6369  Sarah Blackham     Fabulous     5.0   \n",
       "1   1  0.020  0.648  0.332    0.9798           Peter   It's great     5.0   \n",
       "2   2  0.000  0.256  0.744    0.4404     mark deegan  Nice laptop     5.0   \n",
       "\n",
       "                Date                                             Review  \n",
       "0   9 September 2022  I've always had chromebooks so was looking for...  \n",
       "1   6 September 2022  Had it 3 days now finding it great at the begi...  \n",
       "2  10 September 2022                                         Good price  "
      ]
     },
     "execution_count": 24,
     "metadata": {},
     "output_type": "execute_result"
    }
   ],
   "source": [
    "#The data frame below consist of sentiments, scores and meta data\n",
    "vader.head(3)"
   ]
  },
  {
   "cell_type": "markdown",
   "id": "ce4210bd",
   "metadata": {},
   "source": [
    "#### Visualizing the relationship between polarity scores  of the reviews and ratings"
   ]
  },
  {
   "cell_type": "code",
   "execution_count": 25,
   "id": "093622e0",
   "metadata": {},
   "outputs": [
    {
     "data": {
      "text/plain": [
       "Text(0.5, 1.0, 'Rating vs polarity_score')"
      ]
     },
     "execution_count": 25,
     "metadata": {},
     "output_type": "execute_result"
    },
    {
     "data": {
      "image/png": "[encoded data removed]",
      "text/plain": [
       "<Figure size 460.8x403.2 with 1 Axes>"
      ]
     },
     "metadata": {},
     "output_type": "display_data"
    }
   ],
   "source": [
    "import seaborn as sns\n",
    "sns.barplot(data = vader, x = 'Rating',y = 'compound')\n",
    "plt.title('Rating vs polarity_score')"
   ]
  },
  {
   "cell_type": "markdown",
   "id": "c11f0084",
   "metadata": {},
   "source": [
    "It could be observed from the bar chart above that as the rating increases the review score(compound) also increases. But some customers rated the product as 4.0 but their reviews were less positive."
   ]
  },
  {
   "cell_type": "code",
   "execution_count": 26,
   "id": "1cb6d085",
   "metadata": {},
   "outputs": [
    {
     "data": {
      "image/png": "[encoded data removed]",
      "text/plain": [
       "<Figure size 864x288 with 3 Axes>"
      ]
     },
     "metadata": {},
     "output_type": "display_data"
    }
   ],
   "source": [
    "fig,ax = plt.subplots(1,3,figsize = (12,4))\n",
    "sns.barplot(data = vader, x = 'Rating',y = 'pos',ax = ax[0])\n",
    "sns.barplot(data = vader, x = 'Rating',y = 'neu',ax = ax[1])\n",
    "sns.barplot(data = vader, x = 'Rating',y = 'neg',ax = ax[2])\n",
    "ax[0].set_title('Positive')\n",
    "ax[1].set_title('Neutral')\n",
    "ax[2].set_title('Negative')\n",
    "fig.tight_layout()"
   ]
  },
  {
   "cell_type": "markdown",
   "id": "db3dec17",
   "metadata": {},
   "source": [
    "It could be observed from above that;\n",
    "1. As the rating increases so too the text becomes more and more positive\n",
    "2. Some customers rated the product high(rating = 4.0) but the reviews they made were more negative or neutral."
   ]
  },
  {
   "cell_type": "markdown",
   "id": "dddbd21a",
   "metadata": {},
   "source": [
    "Below is the standard scoring metric followed by most of the sentiment analyzers.\n",
    "1. Positive sentiment: compound score >= 0.05\n",
    "2. Neutral sentiment: (compound score > -0.05) and (compound score < 0.05)\n",
    "3. Negative sentiment: compound score <= -0.05"
   ]
  },
  {
   "cell_type": "code",
   "execution_count": 27,
   "id": "70385631",
   "metadata": {},
   "outputs": [],
   "source": [
    "Positive = vader[(vader['compound']>= 0.05)]\n",
    "Neutral = vader[(vader['compound']> -0.05)&(vader['compound']<= 0.05)]\n",
    "Negative = vader[(vader['compound']<= -0.05)]"
   ]
  },
  {
   "cell_type": "code",
   "execution_count": 28,
   "id": "abfab894",
   "metadata": {},
   "outputs": [
    {
     "name": "stdout",
     "output_type": "stream",
     "text": [
      "len_pos:29 len_neu:4 len_neg:5\n"
     ]
    }
   ],
   "source": [
    "print('len_pos:{} len_neu:{} len_neg:{}'.format(len(Positive),len(Neutral),len(Negative)))"
   ]
  },
  {
   "cell_type": "code",
   "execution_count": 29,
   "id": "bf276f60",
   "metadata": {},
   "outputs": [
    {
     "data": {
      "text/plain": [
       "<matplotlib.legend.Legend at 0x12d9a500160>"
      ]
     },
     "execution_count": 29,
     "metadata": {},
     "output_type": "execute_result"
    },
    {
     "data": {
      "image/png": "[encoded data removed]",
      "text/plain": [
       "<Figure size 460.8x403.2 with 1 Axes>"
      ]
     },
     "metadata": {},
     "output_type": "display_data"
    }
   ],
   "source": [
    "import warnings\n",
    "warnings.filterwarnings('ignore')\n",
    "values = [len(Positive),len(Neutral),len(Negative)]\n",
    "labels =  ['Positive','Neutral','Negative']\n",
    "colors = [ \"orange\",\"cyan\", \"brown\",\"grey\"] \n",
    "plt.pie(values, labels = labels, autopct = '%.1f%%',shadow = True, colors = colors,\n",
    "        textprops={'fontsize': 14,'fontweight' :'bold','color':'w'})\n",
    "plt.legend(bbox_to_anchor = (0.8,0.5,0.4,0.4))"
   ]
  },
  {
   "cell_type": "markdown",
   "id": "ec34b3e0",
   "metadata": {},
   "source": [
    "From the results of the VADER model, 76% of the reviews were positve, 11 neutral and 13 negative.Though the dataset is too small, it could still be concluded that the product,ASUS Vivobook Laptop will be successful in the market since most customers may develop poitive feelings about the product due to the positive reviews made by the previous customers.  "
   ]
  },
  {
   "cell_type": "markdown",
   "id": "3b332960",
   "metadata": {},
   "source": [
    "#### Top 5 positive and Negative reviews"
   ]
  },
  {
   "cell_type": "code",
   "execution_count": 56,
   "id": "2d0c85f5",
   "metadata": {},
   "outputs": [],
   "source": [
    "pos_rev = vader[vader['compound']>=0.4][:5]['Review'].values"
   ]
  },
  {
   "cell_type": "code",
   "execution_count": 57,
   "id": "77649c08",
   "metadata": {},
   "outputs": [],
   "source": [
    "neg_rev = vader[vader['compound'] <= -0.05][:5]['Review'].values"
   ]
  },
  {
   "cell_type": "code",
   "execution_count": 58,
   "id": "75af75b4",
   "metadata": {},
   "outputs": [],
   "source": [
    "pos_neg_revs = pd.DataFrame({'Pos':pos_rev,'Neg':neg_rev})"
   ]
  },
  {
   "cell_type": "code",
   "execution_count": 60,
   "id": "3df734d9",
   "metadata": {},
   "outputs": [
    {
     "data": {
      "text/html": [
       "<div>\n",
       "<style scoped>\n",
       "    .dataframe tbody tr th:only-of-type {\n",
       "        vertical-align: middle;\n",
       "    }\n",
       "\n",
       "    .dataframe tbody tr th {\n",
       "        vertical-align: top;\n",
       "    }\n",
       "\n",
       "    .dataframe thead th {\n",
       "        text-align: right;\n",
       "    }\n",
       "</style>\n",
       "<table border=\"1\" class=\"dataframe\">\n",
       "  <thead>\n",
       "    <tr style=\"text-align: right;\">\n",
       "      <th></th>\n",
       "      <th>Pos</th>\n",
       "      <th>Neg</th>\n",
       "    </tr>\n",
       "  </thead>\n",
       "  <tbody>\n",
       "    <tr>\n",
       "      <th>0</th>\n",
       "      <td>I've always had chromebooks so was looking for...</td>\n",
       "      <td>No sd card slot.</td>\n",
       "    </tr>\n",
       "    <tr>\n",
       "      <th>1</th>\n",
       "      <td>Had it 3 days now finding it great at the begi...</td>\n",
       "      <td>Bought this laptop as have had ASUS before and...</td>\n",
       "    </tr>\n",
       "    <tr>\n",
       "      <th>2</th>\n",
       "      <td>Good price</td>\n",
       "      <td>The ausu didn't come with a misco slot  as it ...</td>\n",
       "    </tr>\n",
       "    <tr>\n",
       "      <th>3</th>\n",
       "      <td>this is my second asus, they are perfect lapto...</td>\n",
       "      <td>Not as advertised would not have bought it had...</td>\n",
       "    </tr>\n",
       "    <tr>\n",
       "      <th>4</th>\n",
       "      <td>Fab laptop does everything I need it to and si...</td>\n",
       "      <td>Very slow. Freezes regularly wouldn’t recommen...</td>\n",
       "    </tr>\n",
       "  </tbody>\n",
       "</table>\n",
       "</div>"
      ],
      "text/plain": [
       "                                                 Pos  \\\n",
       "0  I've always had chromebooks so was looking for...   \n",
       "1  Had it 3 days now finding it great at the begi...   \n",
       "2                                         Good price   \n",
       "3  this is my second asus, they are perfect lapto...   \n",
       "4  Fab laptop does everything I need it to and si...   \n",
       "\n",
       "                                                 Neg  \n",
       "0                                   No sd card slot.  \n",
       "1  Bought this laptop as have had ASUS before and...  \n",
       "2  The ausu didn't come with a misco slot  as it ...  \n",
       "3  Not as advertised would not have bought it had...  \n",
       "4  Very slow. Freezes regularly wouldn’t recommen...  "
      ]
     },
     "execution_count": 60,
     "metadata": {},
     "output_type": "execute_result"
    }
   ],
   "source": [
    "pos_neg_revs"
   ]
  },
  {
   "cell_type": "markdown",
   "id": "120df795",
   "metadata": {},
   "source": [
    "#### Common Reviews"
   ]
  },
  {
   "cell_type": "markdown",
   "id": "8ff7d354",
   "metadata": {},
   "source": [
    "#### References\n",
    "data :https://www.amazon.co.uk/ASUS-Vivobook-L410MA-Microsoft-Subscription/product-reviews\n",
    "\n",
    "#### Further work\n",
    "Thousands of customers reviews will be scrapped from the Amazon site using Pagination and ML models from sklearn will be used to perform sentiment analysis."
   ]
  },
  {
   "cell_type": "code",
   "execution_count": 51,
   "id": "e89e9a2f",
   "metadata": {},
   "outputs": [],
   "source": [
    "import jovian\n"
   ]
  },
  {
   "cell_type": "code",
   "execution_count": 52,
   "id": "c86d4d3b",
   "metadata": {},
   "outputs": [
    {
     "data": {
      "application/javascript": [
       "window.require && require([\"base/js/namespace\"],function(Jupyter){Jupyter.notebook.save_checkpoint()})"
      ],
      "text/plain": [
       "<IPython.core.display.Javascript object>"
      ]
     },
     "metadata": {},
     "output_type": "display_data"
    },
    {
     "name": "stdout",
     "output_type": "stream",
     "text": [
      "[jovian] Please enter your API key ( from https://jovian.ai/ ):\n",
      "API KEY: ········\n",
      "[jovian] Committed successfully! https://jovian.ai/abehsongkiss/costomer-review-analysis-041c7\n"
     ]
    },
    {
     "data": {
      "text/plain": [
       "'https://jovian.ai/abehsongkiss/costomer-review-analysis-041c7'"
      ]
     },
     "execution_count": 52,
     "metadata": {},
     "output_type": "execute_result"
    }
   ],
   "source": [
    "jovian.commit()"
   ]
  },
  {
   "cell_type": "code",
   "execution_count": null,
   "id": "847ae677",
   "metadata": {},
   "outputs": [],
   "source": []
  }
 ],
 "metadata": {
  "kernelspec": {
   "display_name": "Python 3",
   "language": "python",
   "name": "python3"
  },
  "language_info": {
   "codemirror_mode": {
    "name": "ipython",
    "version": 3
   },
   "file_extension": ".py",
   "mimetype": "text/x-python",
   "name": "python",
   "nbconvert_exporter": "python",
   "pygments_lexer": "ipython3",
   "version": "3.8.8"
  }
 },
 "nbformat": 4,
 "nbformat_minor": 5
}
