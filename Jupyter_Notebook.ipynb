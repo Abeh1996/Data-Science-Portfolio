{
 "cells": [
  {
   "cell_type": "markdown",
   "metadata": {},
   "source": [
    "<center>\n",
    "    <img src=\"https://s3-api.us-geo.objectstorage.softlayer.net/cf-courses-data/CognitiveClass/Logos/organization_logo/organization_logo.png\" width=\"300\" alt=\"cognitiveclass.ai logo\"  />\n",
    "</center>\n"
   ]
  },
  {
   "cell_type": "markdown",
   "metadata": {},
   "source": [
    "#### Add your code below following the instructions given in the course\n"
   ]
  },
  {
   "cell_type": "markdown",
   "metadata": {},
   "source": [
    "# My Jupyter Notebook on IBM Watson Studio"
   ]
  },
  {
   "cell_type": "markdown",
   "metadata": {},
   "source": [
    "### Abeh Kisito"
   ]
  },
  {
   "cell_type": "markdown",
   "metadata": {},
   "source": [
    "I desire to become a data scientist so as to provide solutions to problems using insights from data."
   ]
  },
  {
   "cell_type": "markdown",
   "metadata": {},
   "source": [
    "### The following code compute and add values to a list"
   ]
  },
  {
   "cell_type": "code",
   "execution_count": 3,
   "metadata": {},
   "outputs": [
    {
     "name": "stdout",
     "output_type": "stream",
     "text": [
      "[1.5, 2.0, 2.5, 3.0, 3.5]\n"
     ]
    }
   ],
   "source": [
    "List = []\n",
    "x = [3,4,5,6,7]\n",
    "for i in x:\n",
    "    List.append(i/2)\n",
    "print(List)"
   ]
  },
  {
   "cell_type": "markdown",
   "metadata": {},
   "source": [
    "|Name |Region    | Salary(FCFA)  |                 \n",
    "|-----|----------|---------------|\n",
    "|Peter|South     |    100000     |      \n",
    "|John |North     |    500000     |\n",
    "\n",
    "#### Bulleted List:\n",
    "- Name\n",
    "- Region\n",
    "- Salary(FCFA)\n",
    "\n",
    "#### Number List\n",
    "1. Name\n",
    "2. Region\n",
    "3. Salary(FCFA)\n",
    "\n",
    "#### Hyperlink to this course\n",
    "[Cousera IBM Data Science Certificate for Professional ](https://www.coursera.org/learn/open-source-tools-for-data-science/home/welcome)\n",
    "\n",
    "\n"
   ]
  },
  {
   "cell_type": "code",
   "execution_count": null,
   "metadata": {},
   "outputs": [],
   "source": []
  }
 ],
 "metadata": {
  "kernelspec": {
   "display_name": "Python",
   "language": "python",
   "name": "conda-env-python-py"
  },
  "language_info": {
   "codemirror_mode": {
    "name": "ipython",
    "version": 3
   },
   "file_extension": ".py",
   "mimetype": "text/x-python",
   "name": "python",
   "nbconvert_exporter": "python",
   "pygments_lexer": "ipython3",
   "version": "3.7.12"
  }
 },
 "nbformat": 4,
 "nbformat_minor": 4
}
