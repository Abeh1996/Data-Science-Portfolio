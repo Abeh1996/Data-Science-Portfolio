{
 "cells": [
  {
   "cell_type": "markdown",
   "id": "632a21f7",
   "metadata": {},
   "source": [
    "#### Finding insights from the dataset, Amazon_best_sellers_June_2021."
   ]
  },
  {
   "cell_type": "markdown",
   "id": "6eea2ee0",
   "metadata": {},
   "source": [
    "#### Task:\n",
    "- The main aim of this project is to explore the dataset Amazon_best_sellers_June_2021,make general findings related to it create visualizations and identify the top selling products for the month of June 2021."
   ]
  },
  {
   "cell_type": "markdown",
   "id": "378b768f",
   "metadata": {},
   "source": [
    "#### Project Outline\n",
    "This project includes the following steps \n",
    "- Reading and Cleaning of data,\n",
    "- Exploratory Data Analysis(EDA),\n",
    "- Statistical Analysis,\n",
    "- Data Visualization and\n",
    "- Observations(Insights gotten from the Amazon_Seller dataset)"
   ]
  },
  {
   "cell_type": "code",
   "execution_count": 1,
   "id": "d3f571bb",
   "metadata": {},
   "outputs": [],
   "source": [
    "#Importing useful libraries\n",
    "\n",
    "import pandas as pd\n",
    "import matplotlib.pyplot as plt\n",
    "import numpy as np\n",
    "import seaborn as sns"
   ]
  },
  {
   "cell_type": "markdown",
   "id": "0b6833e9",
   "metadata": {},
   "source": [
    "### 1.  Data aquisition and Data cleaning"
   ]
  },
  {
   "cell_type": "code",
   "execution_count": 2,
   "id": "3003656f",
   "metadata": {},
   "outputs": [],
   "source": [
    "#Reading data using pandas library\n",
    "dataset = pd.read_csv('Amazon_Best_Seller_2021.csv')"
   ]
  },
  {
   "cell_type": "code",
   "execution_count": 3,
   "id": "f37c7163",
   "metadata": {},
   "outputs": [
    {
     "data": {
      "text/html": [
       "<div>\n",
       "<style scoped>\n",
       "    .dataframe tbody tr th:only-of-type {\n",
       "        vertical-align: middle;\n",
       "    }\n",
       "\n",
       "    .dataframe tbody tr th {\n",
       "        vertical-align: top;\n",
       "    }\n",
       "\n",
       "    .dataframe thead th {\n",
       "        text-align: right;\n",
       "    }\n",
       "</style>\n",
       "<table border=\"1\" class=\"dataframe\">\n",
       "  <thead>\n",
       "    <tr style=\"text-align: right;\">\n",
       "      <th></th>\n",
       "      <th>ASIN</th>\n",
       "      <th>Category</th>\n",
       "      <th>Product Link</th>\n",
       "      <th>No of Sellers</th>\n",
       "      <th>Rank</th>\n",
       "      <th>Rating</th>\n",
       "      <th>Reviews Count</th>\n",
       "      <th>Price</th>\n",
       "    </tr>\n",
       "  </thead>\n",
       "  <tbody>\n",
       "    <tr>\n",
       "      <th>0</th>\n",
       "      <td>B079QHML21</td>\n",
       "      <td>Electronics</td>\n",
       "      <td>https://www.amazon.com/gp/offer-listing/B079QH...</td>\n",
       "      <td>1 Sellers</td>\n",
       "      <td>#1</td>\n",
       "      <td>4.7</td>\n",
       "      <td>640,721</td>\n",
       "      <td>$39.99</td>\n",
       "    </tr>\n",
       "    <tr>\n",
       "      <th>1</th>\n",
       "      <td>B07FZ8S74R</td>\n",
       "      <td>Electronics</td>\n",
       "      <td>https://www.amazon.com/gp/offer-listing/B07FZ8...</td>\n",
       "      <td>1 Sellers</td>\n",
       "      <td>#2</td>\n",
       "      <td>4.7</td>\n",
       "      <td>854,114</td>\n",
       "      <td>$34.99</td>\n",
       "    </tr>\n",
       "    <tr>\n",
       "      <th>2</th>\n",
       "      <td>B07XJ8C8F5</td>\n",
       "      <td>Electronics</td>\n",
       "      <td>https://www.amazon.com/gp/offer-listing/B07XJ8...</td>\n",
       "      <td>1 Sellers</td>\n",
       "      <td>#3</td>\n",
       "      <td>4.7</td>\n",
       "      <td>267,821</td>\n",
       "      <td>$44.99</td>\n",
       "    </tr>\n",
       "    <tr>\n",
       "      <th>3</th>\n",
       "      <td>B07WVFCVJN</td>\n",
       "      <td>Electronics</td>\n",
       "      <td>https://www.amazon.com/gp/offer-listing/B07WVF...</td>\n",
       "      <td>27 Sellers</td>\n",
       "      <td>#4</td>\n",
       "      <td>4.8</td>\n",
       "      <td>114,267</td>\n",
       "      <td>$28.48</td>\n",
       "    </tr>\n",
       "    <tr>\n",
       "      <th>4</th>\n",
       "      <td>B08YT2N5SX</td>\n",
       "      <td>Electronics</td>\n",
       "      <td>https://www.amazon.com/gp/offer-listing/B08YT2...</td>\n",
       "      <td>1 Sellers</td>\n",
       "      <td>#5</td>\n",
       "      <td>4.7</td>\n",
       "      <td>267,821</td>\n",
       "      <td>$49.99</td>\n",
       "    </tr>\n",
       "    <tr>\n",
       "      <th>...</th>\n",
       "      <td>...</td>\n",
       "      <td>...</td>\n",
       "      <td>...</td>\n",
       "      <td>...</td>\n",
       "      <td>...</td>\n",
       "      <td>...</td>\n",
       "      <td>...</td>\n",
       "      <td>...</td>\n",
       "    </tr>\n",
       "    <tr>\n",
       "      <th>702</th>\n",
       "      <td>B007DW6F34</td>\n",
       "      <td>Toys &amp; Games</td>\n",
       "      <td>https://www.amazon.com/gp/offer-listing/B007DW...</td>\n",
       "      <td>10 Sellers</td>\n",
       "      <td>#95</td>\n",
       "      <td>4.6</td>\n",
       "      <td>8,795</td>\n",
       "      <td>$6.99</td>\n",
       "    </tr>\n",
       "    <tr>\n",
       "      <th>703</th>\n",
       "      <td>B01N16VX79</td>\n",
       "      <td>Toys &amp; Games</td>\n",
       "      <td>https://www.amazon.com/gp/offer-listing/B01N16...</td>\n",
       "      <td>5 Sellers</td>\n",
       "      <td>#96</td>\n",
       "      <td>4.7</td>\n",
       "      <td>649</td>\n",
       "      <td>$16.99</td>\n",
       "    </tr>\n",
       "    <tr>\n",
       "      <th>704</th>\n",
       "      <td>B09197N995</td>\n",
       "      <td>Toys &amp; Games</td>\n",
       "      <td>https://www.amazon.com/gp/offer-listing/B09197...</td>\n",
       "      <td>1 Sellers</td>\n",
       "      <td>#97</td>\n",
       "      <td>4.8</td>\n",
       "      <td>9,121</td>\n",
       "      <td>$8.99</td>\n",
       "    </tr>\n",
       "    <tr>\n",
       "      <th>705</th>\n",
       "      <td>B015CCR1FW</td>\n",
       "      <td>Toys &amp; Games</td>\n",
       "      <td>https://www.amazon.com/gp/offer-listing/B015CC...</td>\n",
       "      <td>26 Sellers</td>\n",
       "      <td>#98</td>\n",
       "      <td>4.7</td>\n",
       "      <td>18,449</td>\n",
       "      <td>$19.99</td>\n",
       "    </tr>\n",
       "    <tr>\n",
       "      <th>706</th>\n",
       "      <td>B07TS96J7Q</td>\n",
       "      <td>Toys &amp; Games</td>\n",
       "      <td>https://www.amazon.com/gp/offer-listing/B07TS9...</td>\n",
       "      <td>2 Sellers</td>\n",
       "      <td>#99</td>\n",
       "      <td>4.7</td>\n",
       "      <td>12,902</td>\n",
       "      <td>$24.99</td>\n",
       "    </tr>\n",
       "  </tbody>\n",
       "</table>\n",
       "<p>707 rows × 8 columns</p>\n",
       "</div>"
      ],
      "text/plain": [
       "           ASIN      Category  \\\n",
       "0    B079QHML21   Electronics   \n",
       "1    B07FZ8S74R   Electronics   \n",
       "2    B07XJ8C8F5   Electronics   \n",
       "3    B07WVFCVJN   Electronics   \n",
       "4    B08YT2N5SX   Electronics   \n",
       "..          ...           ...   \n",
       "702  B007DW6F34  Toys & Games   \n",
       "703  B01N16VX79  Toys & Games   \n",
       "704  B09197N995  Toys & Games   \n",
       "705  B015CCR1FW  Toys & Games   \n",
       "706  B07TS96J7Q  Toys & Games   \n",
       "\n",
       "                                          Product Link No of Sellers Rank  \\\n",
       "0    https://www.amazon.com/gp/offer-listing/B079QH...     1 Sellers   #1   \n",
       "1    https://www.amazon.com/gp/offer-listing/B07FZ8...     1 Sellers   #2   \n",
       "2    https://www.amazon.com/gp/offer-listing/B07XJ8...     1 Sellers   #3   \n",
       "3    https://www.amazon.com/gp/offer-listing/B07WVF...    27 Sellers   #4   \n",
       "4    https://www.amazon.com/gp/offer-listing/B08YT2...     1 Sellers   #5   \n",
       "..                                                 ...           ...  ...   \n",
       "702  https://www.amazon.com/gp/offer-listing/B007DW...    10 Sellers  #95   \n",
       "703  https://www.amazon.com/gp/offer-listing/B01N16...     5 Sellers  #96   \n",
       "704  https://www.amazon.com/gp/offer-listing/B09197...     1 Sellers  #97   \n",
       "705  https://www.amazon.com/gp/offer-listing/B015CC...    26 Sellers  #98   \n",
       "706  https://www.amazon.com/gp/offer-listing/B07TS9...     2 Sellers  #99   \n",
       "\n",
       "     Rating Reviews Count    Price  \n",
       "0       4.7       640,721  $39.99   \n",
       "1       4.7       854,114  $34.99   \n",
       "2       4.7       267,821  $44.99   \n",
       "3       4.8       114,267  $28.48   \n",
       "4       4.7       267,821  $49.99   \n",
       "..      ...           ...      ...  \n",
       "702     4.6         8,795   $6.99   \n",
       "703     4.7           649  $16.99   \n",
       "704     4.8         9,121   $8.99   \n",
       "705     4.7        18,449  $19.99   \n",
       "706     4.7        12,902  $24.99   \n",
       "\n",
       "[707 rows x 8 columns]"
      ]
     },
     "execution_count": 3,
     "metadata": {},
     "output_type": "execute_result"
    }
   ],
   "source": [
    "dataset"
   ]
  },
  {
   "cell_type": "markdown",
   "id": "2beefb84",
   "metadata": {},
   "source": [
    "    DETAILS:\n",
    "    The dataset above shows Amazon's top 100 selling products in June 2021."
   ]
  },
  {
   "cell_type": "markdown",
   "id": "291bcab2",
   "metadata": {},
   "source": [
    "- Checking for empty spaces within the dataset"
   ]
  },
  {
   "cell_type": "code",
   "execution_count": 4,
   "id": "8f1ede96",
   "metadata": {},
   "outputs": [
    {
     "data": {
      "text/plain": [
       "ASIN             0\n",
       "Category         0\n",
       "Product Link     0\n",
       "No of Sellers    0\n",
       "Rank             0\n",
       "Rating           0\n",
       "Reviews Count    0\n",
       "Price            0\n",
       "dtype: int64"
      ]
     },
     "execution_count": 4,
     "metadata": {},
     "output_type": "execute_result"
    }
   ],
   "source": [
    "dataset.isnull().sum()"
   ]
  },
  {
   "cell_type": "markdown",
   "id": "97234745",
   "metadata": {},
   "source": [
    "- Eliminating commas from the Price column"
   ]
  },
  {
   "cell_type": "code",
   "execution_count": 5,
   "id": "0d6cfbcc",
   "metadata": {},
   "outputs": [],
   "source": [
    "dataset['Reviews Count'] = dataset['Reviews Count'].replace(',','',regex = True)"
   ]
  },
  {
   "cell_type": "code",
   "execution_count": 6,
   "id": "db60965b",
   "metadata": {},
   "outputs": [],
   "source": [
    "data_clean = dataset.drop('Product Link',axis = 1)"
   ]
  },
  {
   "cell_type": "code",
   "execution_count": 7,
   "id": "9f70cbc7",
   "metadata": {},
   "outputs": [
    {
     "data": {
      "text/html": [
       "<div>\n",
       "<style scoped>\n",
       "    .dataframe tbody tr th:only-of-type {\n",
       "        vertical-align: middle;\n",
       "    }\n",
       "\n",
       "    .dataframe tbody tr th {\n",
       "        vertical-align: top;\n",
       "    }\n",
       "\n",
       "    .dataframe thead th {\n",
       "        text-align: right;\n",
       "    }\n",
       "</style>\n",
       "<table border=\"1\" class=\"dataframe\">\n",
       "  <thead>\n",
       "    <tr style=\"text-align: right;\">\n",
       "      <th></th>\n",
       "      <th>ASIN</th>\n",
       "      <th>Category</th>\n",
       "      <th>No of Sellers</th>\n",
       "      <th>Rank</th>\n",
       "      <th>Rating</th>\n",
       "      <th>Reviews Count</th>\n",
       "      <th>Price</th>\n",
       "    </tr>\n",
       "  </thead>\n",
       "  <tbody>\n",
       "    <tr>\n",
       "      <th>0</th>\n",
       "      <td>B079QHML21</td>\n",
       "      <td>Electronics</td>\n",
       "      <td>1 Sellers</td>\n",
       "      <td>#1</td>\n",
       "      <td>4.7</td>\n",
       "      <td>640721</td>\n",
       "      <td>$39.99</td>\n",
       "    </tr>\n",
       "    <tr>\n",
       "      <th>1</th>\n",
       "      <td>B07FZ8S74R</td>\n",
       "      <td>Electronics</td>\n",
       "      <td>1 Sellers</td>\n",
       "      <td>#2</td>\n",
       "      <td>4.7</td>\n",
       "      <td>854114</td>\n",
       "      <td>$34.99</td>\n",
       "    </tr>\n",
       "    <tr>\n",
       "      <th>2</th>\n",
       "      <td>B07XJ8C8F5</td>\n",
       "      <td>Electronics</td>\n",
       "      <td>1 Sellers</td>\n",
       "      <td>#3</td>\n",
       "      <td>4.7</td>\n",
       "      <td>267821</td>\n",
       "      <td>$44.99</td>\n",
       "    </tr>\n",
       "    <tr>\n",
       "      <th>3</th>\n",
       "      <td>B07WVFCVJN</td>\n",
       "      <td>Electronics</td>\n",
       "      <td>27 Sellers</td>\n",
       "      <td>#4</td>\n",
       "      <td>4.8</td>\n",
       "      <td>114267</td>\n",
       "      <td>$28.48</td>\n",
       "    </tr>\n",
       "    <tr>\n",
       "      <th>4</th>\n",
       "      <td>B08YT2N5SX</td>\n",
       "      <td>Electronics</td>\n",
       "      <td>1 Sellers</td>\n",
       "      <td>#5</td>\n",
       "      <td>4.7</td>\n",
       "      <td>267821</td>\n",
       "      <td>$49.99</td>\n",
       "    </tr>\n",
       "    <tr>\n",
       "      <th>...</th>\n",
       "      <td>...</td>\n",
       "      <td>...</td>\n",
       "      <td>...</td>\n",
       "      <td>...</td>\n",
       "      <td>...</td>\n",
       "      <td>...</td>\n",
       "      <td>...</td>\n",
       "    </tr>\n",
       "    <tr>\n",
       "      <th>702</th>\n",
       "      <td>B007DW6F34</td>\n",
       "      <td>Toys &amp; Games</td>\n",
       "      <td>10 Sellers</td>\n",
       "      <td>#95</td>\n",
       "      <td>4.6</td>\n",
       "      <td>8795</td>\n",
       "      <td>$6.99</td>\n",
       "    </tr>\n",
       "    <tr>\n",
       "      <th>703</th>\n",
       "      <td>B01N16VX79</td>\n",
       "      <td>Toys &amp; Games</td>\n",
       "      <td>5 Sellers</td>\n",
       "      <td>#96</td>\n",
       "      <td>4.7</td>\n",
       "      <td>649</td>\n",
       "      <td>$16.99</td>\n",
       "    </tr>\n",
       "    <tr>\n",
       "      <th>704</th>\n",
       "      <td>B09197N995</td>\n",
       "      <td>Toys &amp; Games</td>\n",
       "      <td>1 Sellers</td>\n",
       "      <td>#97</td>\n",
       "      <td>4.8</td>\n",
       "      <td>9121</td>\n",
       "      <td>$8.99</td>\n",
       "    </tr>\n",
       "    <tr>\n",
       "      <th>705</th>\n",
       "      <td>B015CCR1FW</td>\n",
       "      <td>Toys &amp; Games</td>\n",
       "      <td>26 Sellers</td>\n",
       "      <td>#98</td>\n",
       "      <td>4.7</td>\n",
       "      <td>18449</td>\n",
       "      <td>$19.99</td>\n",
       "    </tr>\n",
       "    <tr>\n",
       "      <th>706</th>\n",
       "      <td>B07TS96J7Q</td>\n",
       "      <td>Toys &amp; Games</td>\n",
       "      <td>2 Sellers</td>\n",
       "      <td>#99</td>\n",
       "      <td>4.7</td>\n",
       "      <td>12902</td>\n",
       "      <td>$24.99</td>\n",
       "    </tr>\n",
       "  </tbody>\n",
       "</table>\n",
       "<p>707 rows × 7 columns</p>\n",
       "</div>"
      ],
      "text/plain": [
       "           ASIN      Category No of Sellers Rank  Rating Reviews Count  \\\n",
       "0    B079QHML21   Electronics     1 Sellers   #1     4.7        640721   \n",
       "1    B07FZ8S74R   Electronics     1 Sellers   #2     4.7        854114   \n",
       "2    B07XJ8C8F5   Electronics     1 Sellers   #3     4.7        267821   \n",
       "3    B07WVFCVJN   Electronics    27 Sellers   #4     4.8        114267   \n",
       "4    B08YT2N5SX   Electronics     1 Sellers   #5     4.7        267821   \n",
       "..          ...           ...           ...  ...     ...           ...   \n",
       "702  B007DW6F34  Toys & Games    10 Sellers  #95     4.6          8795   \n",
       "703  B01N16VX79  Toys & Games     5 Sellers  #96     4.7           649   \n",
       "704  B09197N995  Toys & Games     1 Sellers  #97     4.8          9121   \n",
       "705  B015CCR1FW  Toys & Games    26 Sellers  #98     4.7         18449   \n",
       "706  B07TS96J7Q  Toys & Games     2 Sellers  #99     4.7         12902   \n",
       "\n",
       "       Price  \n",
       "0    $39.99   \n",
       "1    $34.99   \n",
       "2    $44.99   \n",
       "3    $28.48   \n",
       "4    $49.99   \n",
       "..       ...  \n",
       "702   $6.99   \n",
       "703  $16.99   \n",
       "704   $8.99   \n",
       "705  $19.99   \n",
       "706  $24.99   \n",
       "\n",
       "[707 rows x 7 columns]"
      ]
     },
     "execution_count": 7,
     "metadata": {},
     "output_type": "execute_result"
    }
   ],
   "source": [
    "data_clean"
   ]
  },
  {
   "cell_type": "markdown",
   "id": "f629c049",
   "metadata": {},
   "source": [
    "- Eliminating the $ sign"
   ]
  },
  {
   "cell_type": "code",
   "execution_count": 8,
   "id": "72ecb09d",
   "metadata": {},
   "outputs": [],
   "source": [
    "data_clean['Price'] = data_clean['Price'].str.replace('$','',regex = True)"
   ]
  },
  {
   "cell_type": "code",
   "execution_count": 9,
   "id": "96b5a5a1",
   "metadata": {},
   "outputs": [
    {
     "data": {
      "text/html": [
       "<div>\n",
       "<style scoped>\n",
       "    .dataframe tbody tr th:only-of-type {\n",
       "        vertical-align: middle;\n",
       "    }\n",
       "\n",
       "    .dataframe tbody tr th {\n",
       "        vertical-align: top;\n",
       "    }\n",
       "\n",
       "    .dataframe thead th {\n",
       "        text-align: right;\n",
       "    }\n",
       "</style>\n",
       "<table border=\"1\" class=\"dataframe\">\n",
       "  <thead>\n",
       "    <tr style=\"text-align: right;\">\n",
       "      <th></th>\n",
       "      <th>ASIN</th>\n",
       "      <th>Category</th>\n",
       "      <th>No of Sellers</th>\n",
       "      <th>Rank</th>\n",
       "      <th>Rating</th>\n",
       "      <th>Reviews Count</th>\n",
       "      <th>Price</th>\n",
       "    </tr>\n",
       "  </thead>\n",
       "  <tbody>\n",
       "    <tr>\n",
       "      <th>0</th>\n",
       "      <td>B079QHML21</td>\n",
       "      <td>Electronics</td>\n",
       "      <td>1 Sellers</td>\n",
       "      <td>#1</td>\n",
       "      <td>4.7</td>\n",
       "      <td>640721</td>\n",
       "      <td>39.99</td>\n",
       "    </tr>\n",
       "    <tr>\n",
       "      <th>1</th>\n",
       "      <td>B07FZ8S74R</td>\n",
       "      <td>Electronics</td>\n",
       "      <td>1 Sellers</td>\n",
       "      <td>#2</td>\n",
       "      <td>4.7</td>\n",
       "      <td>854114</td>\n",
       "      <td>34.99</td>\n",
       "    </tr>\n",
       "    <tr>\n",
       "      <th>2</th>\n",
       "      <td>B07XJ8C8F5</td>\n",
       "      <td>Electronics</td>\n",
       "      <td>1 Sellers</td>\n",
       "      <td>#3</td>\n",
       "      <td>4.7</td>\n",
       "      <td>267821</td>\n",
       "      <td>44.99</td>\n",
       "    </tr>\n",
       "    <tr>\n",
       "      <th>3</th>\n",
       "      <td>B07WVFCVJN</td>\n",
       "      <td>Electronics</td>\n",
       "      <td>27 Sellers</td>\n",
       "      <td>#4</td>\n",
       "      <td>4.8</td>\n",
       "      <td>114267</td>\n",
       "      <td>28.48</td>\n",
       "    </tr>\n",
       "    <tr>\n",
       "      <th>4</th>\n",
       "      <td>B08YT2N5SX</td>\n",
       "      <td>Electronics</td>\n",
       "      <td>1 Sellers</td>\n",
       "      <td>#5</td>\n",
       "      <td>4.7</td>\n",
       "      <td>267821</td>\n",
       "      <td>49.99</td>\n",
       "    </tr>\n",
       "    <tr>\n",
       "      <th>...</th>\n",
       "      <td>...</td>\n",
       "      <td>...</td>\n",
       "      <td>...</td>\n",
       "      <td>...</td>\n",
       "      <td>...</td>\n",
       "      <td>...</td>\n",
       "      <td>...</td>\n",
       "    </tr>\n",
       "    <tr>\n",
       "      <th>702</th>\n",
       "      <td>B007DW6F34</td>\n",
       "      <td>Toys &amp; Games</td>\n",
       "      <td>10 Sellers</td>\n",
       "      <td>#95</td>\n",
       "      <td>4.6</td>\n",
       "      <td>8795</td>\n",
       "      <td>6.99</td>\n",
       "    </tr>\n",
       "    <tr>\n",
       "      <th>703</th>\n",
       "      <td>B01N16VX79</td>\n",
       "      <td>Toys &amp; Games</td>\n",
       "      <td>5 Sellers</td>\n",
       "      <td>#96</td>\n",
       "      <td>4.7</td>\n",
       "      <td>649</td>\n",
       "      <td>16.99</td>\n",
       "    </tr>\n",
       "    <tr>\n",
       "      <th>704</th>\n",
       "      <td>B09197N995</td>\n",
       "      <td>Toys &amp; Games</td>\n",
       "      <td>1 Sellers</td>\n",
       "      <td>#97</td>\n",
       "      <td>4.8</td>\n",
       "      <td>9121</td>\n",
       "      <td>8.99</td>\n",
       "    </tr>\n",
       "    <tr>\n",
       "      <th>705</th>\n",
       "      <td>B015CCR1FW</td>\n",
       "      <td>Toys &amp; Games</td>\n",
       "      <td>26 Sellers</td>\n",
       "      <td>#98</td>\n",
       "      <td>4.7</td>\n",
       "      <td>18449</td>\n",
       "      <td>19.99</td>\n",
       "    </tr>\n",
       "    <tr>\n",
       "      <th>706</th>\n",
       "      <td>B07TS96J7Q</td>\n",
       "      <td>Toys &amp; Games</td>\n",
       "      <td>2 Sellers</td>\n",
       "      <td>#99</td>\n",
       "      <td>4.7</td>\n",
       "      <td>12902</td>\n",
       "      <td>24.99</td>\n",
       "    </tr>\n",
       "  </tbody>\n",
       "</table>\n",
       "<p>707 rows × 7 columns</p>\n",
       "</div>"
      ],
      "text/plain": [
       "           ASIN      Category No of Sellers Rank  Rating Reviews Count   Price\n",
       "0    B079QHML21   Electronics     1 Sellers   #1     4.7        640721  39.99 \n",
       "1    B07FZ8S74R   Electronics     1 Sellers   #2     4.7        854114  34.99 \n",
       "2    B07XJ8C8F5   Electronics     1 Sellers   #3     4.7        267821  44.99 \n",
       "3    B07WVFCVJN   Electronics    27 Sellers   #4     4.8        114267  28.48 \n",
       "4    B08YT2N5SX   Electronics     1 Sellers   #5     4.7        267821  49.99 \n",
       "..          ...           ...           ...  ...     ...           ...     ...\n",
       "702  B007DW6F34  Toys & Games    10 Sellers  #95     4.6          8795   6.99 \n",
       "703  B01N16VX79  Toys & Games     5 Sellers  #96     4.7           649  16.99 \n",
       "704  B09197N995  Toys & Games     1 Sellers  #97     4.8          9121   8.99 \n",
       "705  B015CCR1FW  Toys & Games    26 Sellers  #98     4.7         18449  19.99 \n",
       "706  B07TS96J7Q  Toys & Games     2 Sellers  #99     4.7         12902  24.99 \n",
       "\n",
       "[707 rows x 7 columns]"
      ]
     },
     "execution_count": 9,
     "metadata": {},
     "output_type": "execute_result"
    }
   ],
   "source": [
    "data_clean"
   ]
  },
  {
   "cell_type": "code",
   "execution_count": 10,
   "id": "c01d41ec",
   "metadata": {},
   "outputs": [],
   "source": [
    "data_clean['No of Sellers'] = data_clean['No of Sellers'].str.replace('Sellers','',regex = True)"
   ]
  },
  {
   "cell_type": "code",
   "execution_count": 11,
   "id": "63f4c008",
   "metadata": {},
   "outputs": [
    {
     "data": {
      "text/html": [
       "<div>\n",
       "<style scoped>\n",
       "    .dataframe tbody tr th:only-of-type {\n",
       "        vertical-align: middle;\n",
       "    }\n",
       "\n",
       "    .dataframe tbody tr th {\n",
       "        vertical-align: top;\n",
       "    }\n",
       "\n",
       "    .dataframe thead th {\n",
       "        text-align: right;\n",
       "    }\n",
       "</style>\n",
       "<table border=\"1\" class=\"dataframe\">\n",
       "  <thead>\n",
       "    <tr style=\"text-align: right;\">\n",
       "      <th></th>\n",
       "      <th>ASIN</th>\n",
       "      <th>Category</th>\n",
       "      <th>No of Sellers</th>\n",
       "      <th>Rank</th>\n",
       "      <th>Rating</th>\n",
       "      <th>Reviews Count</th>\n",
       "      <th>Price</th>\n",
       "    </tr>\n",
       "  </thead>\n",
       "  <tbody>\n",
       "    <tr>\n",
       "      <th>0</th>\n",
       "      <td>B079QHML21</td>\n",
       "      <td>Electronics</td>\n",
       "      <td>1</td>\n",
       "      <td>#1</td>\n",
       "      <td>4.7</td>\n",
       "      <td>640721</td>\n",
       "      <td>39.99</td>\n",
       "    </tr>\n",
       "    <tr>\n",
       "      <th>1</th>\n",
       "      <td>B07FZ8S74R</td>\n",
       "      <td>Electronics</td>\n",
       "      <td>1</td>\n",
       "      <td>#2</td>\n",
       "      <td>4.7</td>\n",
       "      <td>854114</td>\n",
       "      <td>34.99</td>\n",
       "    </tr>\n",
       "    <tr>\n",
       "      <th>2</th>\n",
       "      <td>B07XJ8C8F5</td>\n",
       "      <td>Electronics</td>\n",
       "      <td>1</td>\n",
       "      <td>#3</td>\n",
       "      <td>4.7</td>\n",
       "      <td>267821</td>\n",
       "      <td>44.99</td>\n",
       "    </tr>\n",
       "    <tr>\n",
       "      <th>3</th>\n",
       "      <td>B07WVFCVJN</td>\n",
       "      <td>Electronics</td>\n",
       "      <td>27</td>\n",
       "      <td>#4</td>\n",
       "      <td>4.8</td>\n",
       "      <td>114267</td>\n",
       "      <td>28.48</td>\n",
       "    </tr>\n",
       "    <tr>\n",
       "      <th>4</th>\n",
       "      <td>B08YT2N5SX</td>\n",
       "      <td>Electronics</td>\n",
       "      <td>1</td>\n",
       "      <td>#5</td>\n",
       "      <td>4.7</td>\n",
       "      <td>267821</td>\n",
       "      <td>49.99</td>\n",
       "    </tr>\n",
       "    <tr>\n",
       "      <th>...</th>\n",
       "      <td>...</td>\n",
       "      <td>...</td>\n",
       "      <td>...</td>\n",
       "      <td>...</td>\n",
       "      <td>...</td>\n",
       "      <td>...</td>\n",
       "      <td>...</td>\n",
       "    </tr>\n",
       "    <tr>\n",
       "      <th>702</th>\n",
       "      <td>B007DW6F34</td>\n",
       "      <td>Toys &amp; Games</td>\n",
       "      <td>10</td>\n",
       "      <td>#95</td>\n",
       "      <td>4.6</td>\n",
       "      <td>8795</td>\n",
       "      <td>6.99</td>\n",
       "    </tr>\n",
       "    <tr>\n",
       "      <th>703</th>\n",
       "      <td>B01N16VX79</td>\n",
       "      <td>Toys &amp; Games</td>\n",
       "      <td>5</td>\n",
       "      <td>#96</td>\n",
       "      <td>4.7</td>\n",
       "      <td>649</td>\n",
       "      <td>16.99</td>\n",
       "    </tr>\n",
       "    <tr>\n",
       "      <th>704</th>\n",
       "      <td>B09197N995</td>\n",
       "      <td>Toys &amp; Games</td>\n",
       "      <td>1</td>\n",
       "      <td>#97</td>\n",
       "      <td>4.8</td>\n",
       "      <td>9121</td>\n",
       "      <td>8.99</td>\n",
       "    </tr>\n",
       "    <tr>\n",
       "      <th>705</th>\n",
       "      <td>B015CCR1FW</td>\n",
       "      <td>Toys &amp; Games</td>\n",
       "      <td>26</td>\n",
       "      <td>#98</td>\n",
       "      <td>4.7</td>\n",
       "      <td>18449</td>\n",
       "      <td>19.99</td>\n",
       "    </tr>\n",
       "    <tr>\n",
       "      <th>706</th>\n",
       "      <td>B07TS96J7Q</td>\n",
       "      <td>Toys &amp; Games</td>\n",
       "      <td>2</td>\n",
       "      <td>#99</td>\n",
       "      <td>4.7</td>\n",
       "      <td>12902</td>\n",
       "      <td>24.99</td>\n",
       "    </tr>\n",
       "  </tbody>\n",
       "</table>\n",
       "<p>707 rows × 7 columns</p>\n",
       "</div>"
      ],
      "text/plain": [
       "           ASIN      Category No of Sellers Rank  Rating Reviews Count   Price\n",
       "0    B079QHML21   Electronics            1    #1     4.7        640721  39.99 \n",
       "1    B07FZ8S74R   Electronics            1    #2     4.7        854114  34.99 \n",
       "2    B07XJ8C8F5   Electronics            1    #3     4.7        267821  44.99 \n",
       "3    B07WVFCVJN   Electronics           27    #4     4.8        114267  28.48 \n",
       "4    B08YT2N5SX   Electronics            1    #5     4.7        267821  49.99 \n",
       "..          ...           ...           ...  ...     ...           ...     ...\n",
       "702  B007DW6F34  Toys & Games           10   #95     4.6          8795   6.99 \n",
       "703  B01N16VX79  Toys & Games            5   #96     4.7           649  16.99 \n",
       "704  B09197N995  Toys & Games            1   #97     4.8          9121   8.99 \n",
       "705  B015CCR1FW  Toys & Games           26   #98     4.7         18449  19.99 \n",
       "706  B07TS96J7Q  Toys & Games            2   #99     4.7         12902  24.99 \n",
       "\n",
       "[707 rows x 7 columns]"
      ]
     },
     "execution_count": 11,
     "metadata": {},
     "output_type": "execute_result"
    }
   ],
   "source": [
    "data_clean"
   ]
  },
  {
   "cell_type": "code",
   "execution_count": 12,
   "id": "f85cca20",
   "metadata": {},
   "outputs": [],
   "source": [
    "data_clean['Rank'] = data_clean['Rank'].str.replace('#','',regex = True)"
   ]
  },
  {
   "cell_type": "code",
   "execution_count": 13,
   "id": "304e38a1",
   "metadata": {},
   "outputs": [
    {
     "data": {
      "text/html": [
       "<div>\n",
       "<style scoped>\n",
       "    .dataframe tbody tr th:only-of-type {\n",
       "        vertical-align: middle;\n",
       "    }\n",
       "\n",
       "    .dataframe tbody tr th {\n",
       "        vertical-align: top;\n",
       "    }\n",
       "\n",
       "    .dataframe thead th {\n",
       "        text-align: right;\n",
       "    }\n",
       "</style>\n",
       "<table border=\"1\" class=\"dataframe\">\n",
       "  <thead>\n",
       "    <tr style=\"text-align: right;\">\n",
       "      <th></th>\n",
       "      <th>ASIN</th>\n",
       "      <th>Category</th>\n",
       "      <th>No of Sellers</th>\n",
       "      <th>Rank</th>\n",
       "      <th>Rating</th>\n",
       "      <th>Reviews Count</th>\n",
       "      <th>Price</th>\n",
       "    </tr>\n",
       "  </thead>\n",
       "  <tbody>\n",
       "    <tr>\n",
       "      <th>0</th>\n",
       "      <td>B079QHML21</td>\n",
       "      <td>Electronics</td>\n",
       "      <td>1</td>\n",
       "      <td>1</td>\n",
       "      <td>4.7</td>\n",
       "      <td>640721</td>\n",
       "      <td>39.99</td>\n",
       "    </tr>\n",
       "    <tr>\n",
       "      <th>1</th>\n",
       "      <td>B07FZ8S74R</td>\n",
       "      <td>Electronics</td>\n",
       "      <td>1</td>\n",
       "      <td>2</td>\n",
       "      <td>4.7</td>\n",
       "      <td>854114</td>\n",
       "      <td>34.99</td>\n",
       "    </tr>\n",
       "    <tr>\n",
       "      <th>2</th>\n",
       "      <td>B07XJ8C8F5</td>\n",
       "      <td>Electronics</td>\n",
       "      <td>1</td>\n",
       "      <td>3</td>\n",
       "      <td>4.7</td>\n",
       "      <td>267821</td>\n",
       "      <td>44.99</td>\n",
       "    </tr>\n",
       "    <tr>\n",
       "      <th>3</th>\n",
       "      <td>B07WVFCVJN</td>\n",
       "      <td>Electronics</td>\n",
       "      <td>27</td>\n",
       "      <td>4</td>\n",
       "      <td>4.8</td>\n",
       "      <td>114267</td>\n",
       "      <td>28.48</td>\n",
       "    </tr>\n",
       "    <tr>\n",
       "      <th>4</th>\n",
       "      <td>B08YT2N5SX</td>\n",
       "      <td>Electronics</td>\n",
       "      <td>1</td>\n",
       "      <td>5</td>\n",
       "      <td>4.7</td>\n",
       "      <td>267821</td>\n",
       "      <td>49.99</td>\n",
       "    </tr>\n",
       "    <tr>\n",
       "      <th>...</th>\n",
       "      <td>...</td>\n",
       "      <td>...</td>\n",
       "      <td>...</td>\n",
       "      <td>...</td>\n",
       "      <td>...</td>\n",
       "      <td>...</td>\n",
       "      <td>...</td>\n",
       "    </tr>\n",
       "    <tr>\n",
       "      <th>702</th>\n",
       "      <td>B007DW6F34</td>\n",
       "      <td>Toys &amp; Games</td>\n",
       "      <td>10</td>\n",
       "      <td>95</td>\n",
       "      <td>4.6</td>\n",
       "      <td>8795</td>\n",
       "      <td>6.99</td>\n",
       "    </tr>\n",
       "    <tr>\n",
       "      <th>703</th>\n",
       "      <td>B01N16VX79</td>\n",
       "      <td>Toys &amp; Games</td>\n",
       "      <td>5</td>\n",
       "      <td>96</td>\n",
       "      <td>4.7</td>\n",
       "      <td>649</td>\n",
       "      <td>16.99</td>\n",
       "    </tr>\n",
       "    <tr>\n",
       "      <th>704</th>\n",
       "      <td>B09197N995</td>\n",
       "      <td>Toys &amp; Games</td>\n",
       "      <td>1</td>\n",
       "      <td>97</td>\n",
       "      <td>4.8</td>\n",
       "      <td>9121</td>\n",
       "      <td>8.99</td>\n",
       "    </tr>\n",
       "    <tr>\n",
       "      <th>705</th>\n",
       "      <td>B015CCR1FW</td>\n",
       "      <td>Toys &amp; Games</td>\n",
       "      <td>26</td>\n",
       "      <td>98</td>\n",
       "      <td>4.7</td>\n",
       "      <td>18449</td>\n",
       "      <td>19.99</td>\n",
       "    </tr>\n",
       "    <tr>\n",
       "      <th>706</th>\n",
       "      <td>B07TS96J7Q</td>\n",
       "      <td>Toys &amp; Games</td>\n",
       "      <td>2</td>\n",
       "      <td>99</td>\n",
       "      <td>4.7</td>\n",
       "      <td>12902</td>\n",
       "      <td>24.99</td>\n",
       "    </tr>\n",
       "  </tbody>\n",
       "</table>\n",
       "<p>707 rows × 7 columns</p>\n",
       "</div>"
      ],
      "text/plain": [
       "           ASIN      Category No of Sellers Rank  Rating Reviews Count   Price\n",
       "0    B079QHML21   Electronics            1     1     4.7        640721  39.99 \n",
       "1    B07FZ8S74R   Electronics            1     2     4.7        854114  34.99 \n",
       "2    B07XJ8C8F5   Electronics            1     3     4.7        267821  44.99 \n",
       "3    B07WVFCVJN   Electronics           27     4     4.8        114267  28.48 \n",
       "4    B08YT2N5SX   Electronics            1     5     4.7        267821  49.99 \n",
       "..          ...           ...           ...  ...     ...           ...     ...\n",
       "702  B007DW6F34  Toys & Games           10    95     4.6          8795   6.99 \n",
       "703  B01N16VX79  Toys & Games            5    96     4.7           649  16.99 \n",
       "704  B09197N995  Toys & Games            1    97     4.8          9121   8.99 \n",
       "705  B015CCR1FW  Toys & Games           26    98     4.7         18449  19.99 \n",
       "706  B07TS96J7Q  Toys & Games            2    99     4.7         12902  24.99 \n",
       "\n",
       "[707 rows x 7 columns]"
      ]
     },
     "execution_count": 13,
     "metadata": {},
     "output_type": "execute_result"
    }
   ],
   "source": [
    "data_clean"
   ]
  },
  {
   "cell_type": "markdown",
   "id": "cc97434c",
   "metadata": {},
   "source": [
    "- Converting data from String to Integer-type"
   ]
  },
  {
   "cell_type": "code",
   "execution_count": 14,
   "id": "3f950d06",
   "metadata": {},
   "outputs": [],
   "source": [
    "data_clean['Rank'] = data_clean['Rank'].astype(int)\n",
    "data_clean['No of Sellers'] = data_clean['No of Sellers'].astype(int)\n",
    "data_clean['Price'] = data_clean['Price'].astype(float)\n",
    "data_clean['Reviews Count'] = data_clean['Reviews Count'].astype(float)\n"
   ]
  },
  {
   "cell_type": "code",
   "execution_count": 15,
   "id": "37ab94bf",
   "metadata": {},
   "outputs": [
    {
     "data": {
      "text/html": [
       "<div>\n",
       "<style scoped>\n",
       "    .dataframe tbody tr th:only-of-type {\n",
       "        vertical-align: middle;\n",
       "    }\n",
       "\n",
       "    .dataframe tbody tr th {\n",
       "        vertical-align: top;\n",
       "    }\n",
       "\n",
       "    .dataframe thead th {\n",
       "        text-align: right;\n",
       "    }\n",
       "</style>\n",
       "<table border=\"1\" class=\"dataframe\">\n",
       "  <thead>\n",
       "    <tr style=\"text-align: right;\">\n",
       "      <th></th>\n",
       "      <th>ASIN</th>\n",
       "      <th>Category</th>\n",
       "      <th>No of Sellers</th>\n",
       "      <th>Rank</th>\n",
       "      <th>Rating</th>\n",
       "      <th>Reviews Count</th>\n",
       "      <th>Price</th>\n",
       "    </tr>\n",
       "  </thead>\n",
       "  <tbody>\n",
       "    <tr>\n",
       "      <th>0</th>\n",
       "      <td>B079QHML21</td>\n",
       "      <td>Electronics</td>\n",
       "      <td>1</td>\n",
       "      <td>1</td>\n",
       "      <td>4.7</td>\n",
       "      <td>640721.0</td>\n",
       "      <td>39.99</td>\n",
       "    </tr>\n",
       "    <tr>\n",
       "      <th>1</th>\n",
       "      <td>B07FZ8S74R</td>\n",
       "      <td>Electronics</td>\n",
       "      <td>1</td>\n",
       "      <td>2</td>\n",
       "      <td>4.7</td>\n",
       "      <td>854114.0</td>\n",
       "      <td>34.99</td>\n",
       "    </tr>\n",
       "    <tr>\n",
       "      <th>2</th>\n",
       "      <td>B07XJ8C8F5</td>\n",
       "      <td>Electronics</td>\n",
       "      <td>1</td>\n",
       "      <td>3</td>\n",
       "      <td>4.7</td>\n",
       "      <td>267821.0</td>\n",
       "      <td>44.99</td>\n",
       "    </tr>\n",
       "    <tr>\n",
       "      <th>3</th>\n",
       "      <td>B07WVFCVJN</td>\n",
       "      <td>Electronics</td>\n",
       "      <td>27</td>\n",
       "      <td>4</td>\n",
       "      <td>4.8</td>\n",
       "      <td>114267.0</td>\n",
       "      <td>28.48</td>\n",
       "    </tr>\n",
       "    <tr>\n",
       "      <th>4</th>\n",
       "      <td>B08YT2N5SX</td>\n",
       "      <td>Electronics</td>\n",
       "      <td>1</td>\n",
       "      <td>5</td>\n",
       "      <td>4.7</td>\n",
       "      <td>267821.0</td>\n",
       "      <td>49.99</td>\n",
       "    </tr>\n",
       "    <tr>\n",
       "      <th>...</th>\n",
       "      <td>...</td>\n",
       "      <td>...</td>\n",
       "      <td>...</td>\n",
       "      <td>...</td>\n",
       "      <td>...</td>\n",
       "      <td>...</td>\n",
       "      <td>...</td>\n",
       "    </tr>\n",
       "    <tr>\n",
       "      <th>702</th>\n",
       "      <td>B007DW6F34</td>\n",
       "      <td>Toys &amp; Games</td>\n",
       "      <td>10</td>\n",
       "      <td>95</td>\n",
       "      <td>4.6</td>\n",
       "      <td>8795.0</td>\n",
       "      <td>6.99</td>\n",
       "    </tr>\n",
       "    <tr>\n",
       "      <th>703</th>\n",
       "      <td>B01N16VX79</td>\n",
       "      <td>Toys &amp; Games</td>\n",
       "      <td>5</td>\n",
       "      <td>96</td>\n",
       "      <td>4.7</td>\n",
       "      <td>649.0</td>\n",
       "      <td>16.99</td>\n",
       "    </tr>\n",
       "    <tr>\n",
       "      <th>704</th>\n",
       "      <td>B09197N995</td>\n",
       "      <td>Toys &amp; Games</td>\n",
       "      <td>1</td>\n",
       "      <td>97</td>\n",
       "      <td>4.8</td>\n",
       "      <td>9121.0</td>\n",
       "      <td>8.99</td>\n",
       "    </tr>\n",
       "    <tr>\n",
       "      <th>705</th>\n",
       "      <td>B015CCR1FW</td>\n",
       "      <td>Toys &amp; Games</td>\n",
       "      <td>26</td>\n",
       "      <td>98</td>\n",
       "      <td>4.7</td>\n",
       "      <td>18449.0</td>\n",
       "      <td>19.99</td>\n",
       "    </tr>\n",
       "    <tr>\n",
       "      <th>706</th>\n",
       "      <td>B07TS96J7Q</td>\n",
       "      <td>Toys &amp; Games</td>\n",
       "      <td>2</td>\n",
       "      <td>99</td>\n",
       "      <td>4.7</td>\n",
       "      <td>12902.0</td>\n",
       "      <td>24.99</td>\n",
       "    </tr>\n",
       "  </tbody>\n",
       "</table>\n",
       "<p>707 rows × 7 columns</p>\n",
       "</div>"
      ],
      "text/plain": [
       "           ASIN      Category  No of Sellers  Rank  Rating  Reviews Count  \\\n",
       "0    B079QHML21   Electronics              1     1     4.7       640721.0   \n",
       "1    B07FZ8S74R   Electronics              1     2     4.7       854114.0   \n",
       "2    B07XJ8C8F5   Electronics              1     3     4.7       267821.0   \n",
       "3    B07WVFCVJN   Electronics             27     4     4.8       114267.0   \n",
       "4    B08YT2N5SX   Electronics              1     5     4.7       267821.0   \n",
       "..          ...           ...            ...   ...     ...            ...   \n",
       "702  B007DW6F34  Toys & Games             10    95     4.6         8795.0   \n",
       "703  B01N16VX79  Toys & Games              5    96     4.7          649.0   \n",
       "704  B09197N995  Toys & Games              1    97     4.8         9121.0   \n",
       "705  B015CCR1FW  Toys & Games             26    98     4.7        18449.0   \n",
       "706  B07TS96J7Q  Toys & Games              2    99     4.7        12902.0   \n",
       "\n",
       "     Price  \n",
       "0    39.99  \n",
       "1    34.99  \n",
       "2    44.99  \n",
       "3    28.48  \n",
       "4    49.99  \n",
       "..     ...  \n",
       "702   6.99  \n",
       "703  16.99  \n",
       "704   8.99  \n",
       "705  19.99  \n",
       "706  24.99  \n",
       "\n",
       "[707 rows x 7 columns]"
      ]
     },
     "execution_count": 15,
     "metadata": {},
     "output_type": "execute_result"
    }
   ],
   "source": [
    "data_clean"
   ]
  },
  {
   "cell_type": "code",
   "execution_count": 16,
   "id": "d17967d2",
   "metadata": {},
   "outputs": [
    {
     "data": {
      "text/plain": [
       "36309"
      ]
     },
     "execution_count": 16,
     "metadata": {},
     "output_type": "execute_result"
    }
   ],
   "source": [
    "data_clean['Rank'].sum()"
   ]
  },
  {
   "cell_type": "code",
   "execution_count": 17,
   "id": "60d08f1a",
   "metadata": {},
   "outputs": [
    {
     "data": {
      "text/plain": [
       "Electronics                  147\n",
       "Gift Cards                   100\n",
       "Camera & Photo               100\n",
       "Clothing, Shoes & Jewelry    100\n",
       "Toys & Games                  95\n",
       "Video Games                   95\n",
       "Books                         70\n",
       "Name: Category, dtype: int64"
      ]
     },
     "execution_count": 17,
     "metadata": {},
     "output_type": "execute_result"
    }
   ],
   "source": [
    "data_clean['Category'].value_counts()"
   ]
  },
  {
   "cell_type": "code",
   "execution_count": 19,
   "id": "30f61097",
   "metadata": {},
   "outputs": [],
   "source": [
    "pd.set_option('display.max_row',10)"
   ]
  },
  {
   "cell_type": "code",
   "execution_count": 20,
   "id": "a1d031cf",
   "metadata": {},
   "outputs": [
    {
     "data": {
      "text/html": [
       "<div>\n",
       "<style scoped>\n",
       "    .dataframe tbody tr th:only-of-type {\n",
       "        vertical-align: middle;\n",
       "    }\n",
       "\n",
       "    .dataframe tbody tr th {\n",
       "        vertical-align: top;\n",
       "    }\n",
       "\n",
       "    .dataframe thead th {\n",
       "        text-align: right;\n",
       "    }\n",
       "</style>\n",
       "<table border=\"1\" class=\"dataframe\">\n",
       "  <thead>\n",
       "    <tr style=\"text-align: right;\">\n",
       "      <th></th>\n",
       "      <th>ASIN</th>\n",
       "      <th>Category</th>\n",
       "      <th>No of Sellers</th>\n",
       "      <th>Rank</th>\n",
       "      <th>Rating</th>\n",
       "      <th>Reviews Count</th>\n",
       "      <th>Price</th>\n",
       "    </tr>\n",
       "  </thead>\n",
       "  <tbody>\n",
       "    <tr>\n",
       "      <th>0</th>\n",
       "      <td>B079QHML21</td>\n",
       "      <td>Electronics</td>\n",
       "      <td>1</td>\n",
       "      <td>1</td>\n",
       "      <td>4.7</td>\n",
       "      <td>640721.0</td>\n",
       "      <td>39.99</td>\n",
       "    </tr>\n",
       "    <tr>\n",
       "      <th>1</th>\n",
       "      <td>B07FZ8S74R</td>\n",
       "      <td>Electronics</td>\n",
       "      <td>1</td>\n",
       "      <td>2</td>\n",
       "      <td>4.7</td>\n",
       "      <td>854114.0</td>\n",
       "      <td>34.99</td>\n",
       "    </tr>\n",
       "    <tr>\n",
       "      <th>2</th>\n",
       "      <td>B07XJ8C8F5</td>\n",
       "      <td>Electronics</td>\n",
       "      <td>1</td>\n",
       "      <td>3</td>\n",
       "      <td>4.7</td>\n",
       "      <td>267821.0</td>\n",
       "      <td>44.99</td>\n",
       "    </tr>\n",
       "    <tr>\n",
       "      <th>3</th>\n",
       "      <td>B07WVFCVJN</td>\n",
       "      <td>Electronics</td>\n",
       "      <td>27</td>\n",
       "      <td>4</td>\n",
       "      <td>4.8</td>\n",
       "      <td>114267.0</td>\n",
       "      <td>28.48</td>\n",
       "    </tr>\n",
       "    <tr>\n",
       "      <th>4</th>\n",
       "      <td>B08YT2N5SX</td>\n",
       "      <td>Electronics</td>\n",
       "      <td>1</td>\n",
       "      <td>5</td>\n",
       "      <td>4.7</td>\n",
       "      <td>267821.0</td>\n",
       "      <td>49.99</td>\n",
       "    </tr>\n",
       "    <tr>\n",
       "      <th>...</th>\n",
       "      <td>...</td>\n",
       "      <td>...</td>\n",
       "      <td>...</td>\n",
       "      <td>...</td>\n",
       "      <td>...</td>\n",
       "      <td>...</td>\n",
       "      <td>...</td>\n",
       "    </tr>\n",
       "    <tr>\n",
       "      <th>702</th>\n",
       "      <td>B007DW6F34</td>\n",
       "      <td>Toys &amp; Games</td>\n",
       "      <td>10</td>\n",
       "      <td>95</td>\n",
       "      <td>4.6</td>\n",
       "      <td>8795.0</td>\n",
       "      <td>6.99</td>\n",
       "    </tr>\n",
       "    <tr>\n",
       "      <th>703</th>\n",
       "      <td>B01N16VX79</td>\n",
       "      <td>Toys &amp; Games</td>\n",
       "      <td>5</td>\n",
       "      <td>96</td>\n",
       "      <td>4.7</td>\n",
       "      <td>649.0</td>\n",
       "      <td>16.99</td>\n",
       "    </tr>\n",
       "    <tr>\n",
       "      <th>704</th>\n",
       "      <td>B09197N995</td>\n",
       "      <td>Toys &amp; Games</td>\n",
       "      <td>1</td>\n",
       "      <td>97</td>\n",
       "      <td>4.8</td>\n",
       "      <td>9121.0</td>\n",
       "      <td>8.99</td>\n",
       "    </tr>\n",
       "    <tr>\n",
       "      <th>705</th>\n",
       "      <td>B015CCR1FW</td>\n",
       "      <td>Toys &amp; Games</td>\n",
       "      <td>26</td>\n",
       "      <td>98</td>\n",
       "      <td>4.7</td>\n",
       "      <td>18449.0</td>\n",
       "      <td>19.99</td>\n",
       "    </tr>\n",
       "    <tr>\n",
       "      <th>706</th>\n",
       "      <td>B07TS96J7Q</td>\n",
       "      <td>Toys &amp; Games</td>\n",
       "      <td>2</td>\n",
       "      <td>99</td>\n",
       "      <td>4.7</td>\n",
       "      <td>12902.0</td>\n",
       "      <td>24.99</td>\n",
       "    </tr>\n",
       "  </tbody>\n",
       "</table>\n",
       "<p>707 rows × 7 columns</p>\n",
       "</div>"
      ],
      "text/plain": [
       "           ASIN      Category  No of Sellers  Rank  Rating  Reviews Count  \\\n",
       "0    B079QHML21   Electronics              1     1     4.7       640721.0   \n",
       "1    B07FZ8S74R   Electronics              1     2     4.7       854114.0   \n",
       "2    B07XJ8C8F5   Electronics              1     3     4.7       267821.0   \n",
       "3    B07WVFCVJN   Electronics             27     4     4.8       114267.0   \n",
       "4    B08YT2N5SX   Electronics              1     5     4.7       267821.0   \n",
       "..          ...           ...            ...   ...     ...            ...   \n",
       "702  B007DW6F34  Toys & Games             10    95     4.6         8795.0   \n",
       "703  B01N16VX79  Toys & Games              5    96     4.7          649.0   \n",
       "704  B09197N995  Toys & Games              1    97     4.8         9121.0   \n",
       "705  B015CCR1FW  Toys & Games             26    98     4.7        18449.0   \n",
       "706  B07TS96J7Q  Toys & Games              2    99     4.7        12902.0   \n",
       "\n",
       "     Price  \n",
       "0    39.99  \n",
       "1    34.99  \n",
       "2    44.99  \n",
       "3    28.48  \n",
       "4    49.99  \n",
       "..     ...  \n",
       "702   6.99  \n",
       "703  16.99  \n",
       "704   8.99  \n",
       "705  19.99  \n",
       "706  24.99  \n",
       "\n",
       "[707 rows x 7 columns]"
      ]
     },
     "execution_count": 20,
     "metadata": {},
     "output_type": "execute_result"
    }
   ],
   "source": [
    "data_clean"
   ]
  },
  {
   "cell_type": "markdown",
   "id": "149143a0",
   "metadata": {},
   "source": [
    "#### 3. Exploratory Data Analysis(EDA)\n",
    "- In this section the following questions will be answered;"
   ]
  },
  {
   "cell_type": "markdown",
   "id": "8fd4035d",
   "metadata": {},
   "source": [
    "1. What are the number of unique product IDs"
   ]
  },
  {
   "cell_type": "code",
   "execution_count": 21,
   "id": "1df3f5c1",
   "metadata": {},
   "outputs": [
    {
     "data": {
      "text/plain": [
       "B095NWYQBC    3\n",
       "B081RJ8DW1    3\n",
       "B08F6L6HVP    2\n",
       "B079RKX5ZL    2\n",
       "B07CCGBB7M    2\n",
       "             ..\n",
       "B07HJHK8Y5    1\n",
       "B017SD8RWO    1\n",
       "B01CDCG4KM    1\n",
       "B08KHCR1YF    1\n",
       "B07SK4W1VJ    1\n",
       "Name: ASIN, Length: 653, dtype: int64"
      ]
     },
     "execution_count": 21,
     "metadata": {},
     "output_type": "execute_result"
    }
   ],
   "source": [
    "data_clean['ASIN'].value_counts()"
   ]
  },
  {
   "cell_type": "markdown",
   "id": "cca60130",
   "metadata": {},
   "source": [
    "2. What were the different categories of Amazon products sold?."
   ]
  },
  {
   "cell_type": "code",
   "execution_count": 22,
   "id": "24262f4b",
   "metadata": {},
   "outputs": [
    {
     "data": {
      "text/plain": [
       "Electronics                  147\n",
       "Gift Cards                   100\n",
       "Camera & Photo               100\n",
       "Clothing, Shoes & Jewelry    100\n",
       "Toys & Games                  95\n",
       "Video Games                   95\n",
       "Books                         70\n",
       "Name: Category, dtype: int64"
      ]
     },
     "execution_count": 22,
     "metadata": {},
     "output_type": "execute_result"
    }
   ],
   "source": [
    "data_clean['Category'].value_counts()"
   ]
  },
  {
   "cell_type": "markdown",
   "id": "1015a8c5",
   "metadata": {},
   "source": [
    "3. Which of the product category had the the highest number of ProductIDs?. "
   ]
  },
  {
   "cell_type": "code",
   "execution_count": 74,
   "id": "dd47c31b",
   "metadata": {},
   "outputs": [
    {
     "data": {
      "text/plain": [
       "Text(0.5, 1.0, 'Number of products IDs per Product category')"
      ]
     },
     "execution_count": 74,
     "metadata": {},
     "output_type": "execute_result"
    },
    {
     "data": {
      "image/png": "[encoded data removed]",
      "text/plain": [
       "<Figure size 576x432 with 1 Axes>"
      ]
     },
     "metadata": {
      "needs_background": "light"
     },
     "output_type": "display_data"
    }
   ],
   "source": [
    "plt.figure(figsize = (8,6))\n",
    "data_clean['Category'].value_counts().plot(kind = 'bar')\n",
    "plt.xlabel('Product Category')\n",
    "plt.ylabel('Frquency')\n",
    "plt.title('Number of products IDs per Product category')"
   ]
  },
  {
   "cell_type": "markdown",
   "id": "5d128fa8",
   "metadata": {},
   "source": [
    "4. What was the total revenue generated by Amazon for the month of June 2021."
   ]
  },
  {
   "cell_type": "code",
   "execution_count": 24,
   "id": "cf352d89",
   "metadata": {},
   "outputs": [],
   "source": [
    "data_clean = data_clean.rename(columns = {'Price':'Price($)'})"
   ]
  },
  {
   "cell_type": "code",
   "execution_count": 25,
   "id": "bba1d157",
   "metadata": {},
   "outputs": [],
   "source": [
    "data_clean['TotalIncome($)'] = data_clean['Price($)']*data_clean['Reviews Count']"
   ]
  },
  {
   "cell_type": "code",
   "execution_count": 26,
   "id": "7b5516f3",
   "metadata": {},
   "outputs": [
    {
     "data": {
      "text/html": [
       "<div>\n",
       "<style scoped>\n",
       "    .dataframe tbody tr th:only-of-type {\n",
       "        vertical-align: middle;\n",
       "    }\n",
       "\n",
       "    .dataframe tbody tr th {\n",
       "        vertical-align: top;\n",
       "    }\n",
       "\n",
       "    .dataframe thead th {\n",
       "        text-align: right;\n",
       "    }\n",
       "</style>\n",
       "<table border=\"1\" class=\"dataframe\">\n",
       "  <thead>\n",
       "    <tr style=\"text-align: right;\">\n",
       "      <th></th>\n",
       "      <th>ASIN</th>\n",
       "      <th>Category</th>\n",
       "      <th>No of Sellers</th>\n",
       "      <th>Rank</th>\n",
       "      <th>Rating</th>\n",
       "      <th>Reviews Count</th>\n",
       "      <th>Price($)</th>\n",
       "      <th>TotalIncome($)</th>\n",
       "    </tr>\n",
       "  </thead>\n",
       "  <tbody>\n",
       "    <tr>\n",
       "      <th>0</th>\n",
       "      <td>B079QHML21</td>\n",
       "      <td>Electronics</td>\n",
       "      <td>1</td>\n",
       "      <td>1</td>\n",
       "      <td>4.7</td>\n",
       "      <td>640721.0</td>\n",
       "      <td>39.99</td>\n",
       "      <td>25622432.79</td>\n",
       "    </tr>\n",
       "    <tr>\n",
       "      <th>1</th>\n",
       "      <td>B07FZ8S74R</td>\n",
       "      <td>Electronics</td>\n",
       "      <td>1</td>\n",
       "      <td>2</td>\n",
       "      <td>4.7</td>\n",
       "      <td>854114.0</td>\n",
       "      <td>34.99</td>\n",
       "      <td>29885448.86</td>\n",
       "    </tr>\n",
       "    <tr>\n",
       "      <th>2</th>\n",
       "      <td>B07XJ8C8F5</td>\n",
       "      <td>Electronics</td>\n",
       "      <td>1</td>\n",
       "      <td>3</td>\n",
       "      <td>4.7</td>\n",
       "      <td>267821.0</td>\n",
       "      <td>44.99</td>\n",
       "      <td>12049266.79</td>\n",
       "    </tr>\n",
       "    <tr>\n",
       "      <th>3</th>\n",
       "      <td>B07WVFCVJN</td>\n",
       "      <td>Electronics</td>\n",
       "      <td>27</td>\n",
       "      <td>4</td>\n",
       "      <td>4.8</td>\n",
       "      <td>114267.0</td>\n",
       "      <td>28.48</td>\n",
       "      <td>3254324.16</td>\n",
       "    </tr>\n",
       "    <tr>\n",
       "      <th>4</th>\n",
       "      <td>B08YT2N5SX</td>\n",
       "      <td>Electronics</td>\n",
       "      <td>1</td>\n",
       "      <td>5</td>\n",
       "      <td>4.7</td>\n",
       "      <td>267821.0</td>\n",
       "      <td>49.99</td>\n",
       "      <td>13388371.79</td>\n",
       "    </tr>\n",
       "    <tr>\n",
       "      <th>...</th>\n",
       "      <td>...</td>\n",
       "      <td>...</td>\n",
       "      <td>...</td>\n",
       "      <td>...</td>\n",
       "      <td>...</td>\n",
       "      <td>...</td>\n",
       "      <td>...</td>\n",
       "      <td>...</td>\n",
       "    </tr>\n",
       "    <tr>\n",
       "      <th>702</th>\n",
       "      <td>B007DW6F34</td>\n",
       "      <td>Toys &amp; Games</td>\n",
       "      <td>10</td>\n",
       "      <td>95</td>\n",
       "      <td>4.6</td>\n",
       "      <td>8795.0</td>\n",
       "      <td>6.99</td>\n",
       "      <td>61477.05</td>\n",
       "    </tr>\n",
       "    <tr>\n",
       "      <th>703</th>\n",
       "      <td>B01N16VX79</td>\n",
       "      <td>Toys &amp; Games</td>\n",
       "      <td>5</td>\n",
       "      <td>96</td>\n",
       "      <td>4.7</td>\n",
       "      <td>649.0</td>\n",
       "      <td>16.99</td>\n",
       "      <td>11026.51</td>\n",
       "    </tr>\n",
       "    <tr>\n",
       "      <th>704</th>\n",
       "      <td>B09197N995</td>\n",
       "      <td>Toys &amp; Games</td>\n",
       "      <td>1</td>\n",
       "      <td>97</td>\n",
       "      <td>4.8</td>\n",
       "      <td>9121.0</td>\n",
       "      <td>8.99</td>\n",
       "      <td>81997.79</td>\n",
       "    </tr>\n",
       "    <tr>\n",
       "      <th>705</th>\n",
       "      <td>B015CCR1FW</td>\n",
       "      <td>Toys &amp; Games</td>\n",
       "      <td>26</td>\n",
       "      <td>98</td>\n",
       "      <td>4.7</td>\n",
       "      <td>18449.0</td>\n",
       "      <td>19.99</td>\n",
       "      <td>368795.51</td>\n",
       "    </tr>\n",
       "    <tr>\n",
       "      <th>706</th>\n",
       "      <td>B07TS96J7Q</td>\n",
       "      <td>Toys &amp; Games</td>\n",
       "      <td>2</td>\n",
       "      <td>99</td>\n",
       "      <td>4.7</td>\n",
       "      <td>12902.0</td>\n",
       "      <td>24.99</td>\n",
       "      <td>322420.98</td>\n",
       "    </tr>\n",
       "  </tbody>\n",
       "</table>\n",
       "<p>707 rows × 8 columns</p>\n",
       "</div>"
      ],
      "text/plain": [
       "           ASIN      Category  No of Sellers  Rank  Rating  Reviews Count  \\\n",
       "0    B079QHML21   Electronics              1     1     4.7       640721.0   \n",
       "1    B07FZ8S74R   Electronics              1     2     4.7       854114.0   \n",
       "2    B07XJ8C8F5   Electronics              1     3     4.7       267821.0   \n",
       "3    B07WVFCVJN   Electronics             27     4     4.8       114267.0   \n",
       "4    B08YT2N5SX   Electronics              1     5     4.7       267821.0   \n",
       "..          ...           ...            ...   ...     ...            ...   \n",
       "702  B007DW6F34  Toys & Games             10    95     4.6         8795.0   \n",
       "703  B01N16VX79  Toys & Games              5    96     4.7          649.0   \n",
       "704  B09197N995  Toys & Games              1    97     4.8         9121.0   \n",
       "705  B015CCR1FW  Toys & Games             26    98     4.7        18449.0   \n",
       "706  B07TS96J7Q  Toys & Games              2    99     4.7        12902.0   \n",
       "\n",
       "     Price($)  TotalIncome($)  \n",
       "0       39.99     25622432.79  \n",
       "1       34.99     29885448.86  \n",
       "2       44.99     12049266.79  \n",
       "3       28.48      3254324.16  \n",
       "4       49.99     13388371.79  \n",
       "..        ...             ...  \n",
       "702      6.99        61477.05  \n",
       "703     16.99        11026.51  \n",
       "704      8.99        81997.79  \n",
       "705     19.99       368795.51  \n",
       "706     24.99       322420.98  \n",
       "\n",
       "[707 rows x 8 columns]"
      ]
     },
     "execution_count": 26,
     "metadata": {},
     "output_type": "execute_result"
    }
   ],
   "source": [
    "data_clean"
   ]
  },
  {
   "cell_type": "code",
   "execution_count": 27,
   "id": "bd29f92a",
   "metadata": {},
   "outputs": [],
   "source": [
    "Revenew_total = data_clean['TotalIncome($)'].sum()"
   ]
  },
  {
   "cell_type": "code",
   "execution_count": 28,
   "id": "e673436f",
   "metadata": {},
   "outputs": [
    {
     "data": {
      "text/plain": [
       "2806170921.17"
      ]
     },
     "execution_count": 28,
     "metadata": {},
     "output_type": "execute_result"
    }
   ],
   "source": [
    "Revenew_total"
   ]
  },
  {
   "cell_type": "markdown",
   "id": "7dc5b29d",
   "metadata": {},
   "source": [
    "5. Which of these categories contributed the most to Amazon total revenue in June 2021"
   ]
  },
  {
   "cell_type": "code",
   "execution_count": 29,
   "id": "67259d01",
   "metadata": {},
   "outputs": [],
   "source": [
    "grouped = data_clean.groupby('Category')['TotalIncome($)'].sum()"
   ]
  },
  {
   "cell_type": "code",
   "execution_count": 30,
   "id": "cdc86c4c",
   "metadata": {},
   "outputs": [
    {
     "data": {
      "text/plain": [
       "Category\n",
       "Gift Cards                   1.643129e+09\n",
       "Electronics                  8.970396e+08\n",
       "Video Games                  1.388568e+08\n",
       "Clothing, Shoes & Jewelry    4.765449e+07\n",
       "Camera & Photo               3.399050e+07\n",
       "Toys & Games                 2.661365e+07\n",
       "Books                        1.888677e+07\n",
       "Name: TotalIncome($), dtype: float64"
      ]
     },
     "execution_count": 30,
     "metadata": {},
     "output_type": "execute_result"
    }
   ],
   "source": [
    "grouped.sort_values(ascending = False)"
   ]
  },
  {
   "cell_type": "code",
   "execution_count": 31,
   "id": "180534a0",
   "metadata": {},
   "outputs": [
    {
     "data": {
      "text/plain": [
       "<matplotlib.legend.Legend at 0x2a26d483fd0>"
      ]
     },
     "execution_count": 31,
     "metadata": {},
     "output_type": "execute_result"
    },
    {
     "data": {
      "image/png": "[encoded data removed]",
      "text/plain": [
       "<Figure size 648x504 with 1 Axes>"
      ]
     },
     "metadata": {},
     "output_type": "display_data"
    }
   ],
   "source": [
    "plt.figure(figsize = (9,7))\n",
    "\n",
    "explode = [0]*7\n",
    "explode[4] = 0.3\n",
    "grouped.plot(kind = 'pie',explode = explode,autopct = '%1.1f%%',shadow = True,fontsize = 14 )\n",
    "plt.legend(loc = 'right',bbox_to_anchor = (1,0.25,0.7,1.3))"
   ]
  },
  {
   "cell_type": "code",
   "execution_count": 32,
   "id": "28feedca",
   "metadata": {},
   "outputs": [
    {
     "data": {
      "text/plain": [
       "Category\n",
       "Books                        1.888677e+07\n",
       "Camera & Photo               3.399050e+07\n",
       "Clothing, Shoes & Jewelry    4.765449e+07\n",
       "Electronics                  8.970396e+08\n",
       "Gift Cards                   1.643129e+09\n",
       "Toys & Games                 2.661365e+07\n",
       "Video Games                  1.388568e+08\n",
       "Name: TotalIncome($), dtype: float64"
      ]
     },
     "execution_count": 32,
     "metadata": {},
     "output_type": "execute_result"
    }
   ],
   "source": [
    "grouped"
   ]
  },
  {
   "cell_type": "markdown",
   "id": "2cf14b45",
   "metadata": {},
   "source": [
    "5. What were the productIDs with frequency above 2."
   ]
  },
  {
   "cell_type": "code",
   "execution_count": 33,
   "id": "ee6b435a",
   "metadata": {},
   "outputs": [],
   "source": [
    "Freq_above2 = data_clean['ASIN'].value_counts()"
   ]
  },
  {
   "cell_type": "code",
   "execution_count": 34,
   "id": "96b85499",
   "metadata": {},
   "outputs": [
    {
     "data": {
      "text/plain": [
       "B095NWYQBC    3\n",
       "B081RJ8DW1    3\n",
       "B08F6L6HVP    2\n",
       "B079RKX5ZL    2\n",
       "B07CCGBB7M    2\n",
       "             ..\n",
       "B08YKGZF7P    2\n",
       "B0148NNKTC    2\n",
       "B07TWFVDWT    2\n",
       "B07HZJ64WD    2\n",
       "B087RKKXM5    2\n",
       "Name: ASIN, Length: 52, dtype: int64"
      ]
     },
     "execution_count": 34,
     "metadata": {},
     "output_type": "execute_result"
    }
   ],
   "source": [
    "Freq_above2 [Freq_above2>=2]"
   ]
  },
  {
   "cell_type": "code",
   "execution_count": 75,
   "id": "a383c232",
   "metadata": {},
   "outputs": [],
   "source": [
    "grou = data_clean.groupby('ASIN')['TotalIncome($)'].sum()\n"
   ]
  },
  {
   "cell_type": "code",
   "execution_count": 76,
   "id": "b9ca2bc1",
   "metadata": {},
   "outputs": [
    {
     "data": {
      "text/plain": [
       "ASIN\n",
       "080241270X    394224.60\n",
       "1250080401    577483.46\n",
       "1250178606    854142.03\n",
       "125019623X    132140.01\n",
       "1250304458     17310.49\n",
       "                ...    \n",
       "B097CJZ9TL      4045.47\n",
       "B097H17CVQ    128395.65\n",
       "B097ZMX6ZC      9760.96\n",
       "B097ZZCJFX     16717.65\n",
       "B0982B1F1J    129809.89\n",
       "Name: TotalIncome($), Length: 653, dtype: float64"
      ]
     },
     "execution_count": 76,
     "metadata": {},
     "output_type": "execute_result"
    }
   ],
   "source": [
    "grou"
   ]
  },
  {
   "cell_type": "markdown",
   "id": "294acd00",
   "metadata": {},
   "source": [
    "6. What is the productID with the maximum TotalIncome?."
   ]
  },
  {
   "cell_type": "code",
   "execution_count": 36,
   "id": "3c24b679",
   "metadata": {},
   "outputs": [
    {
     "data": {
      "text/html": [
       "<div>\n",
       "<style scoped>\n",
       "    .dataframe tbody tr th:only-of-type {\n",
       "        vertical-align: middle;\n",
       "    }\n",
       "\n",
       "    .dataframe tbody tr th {\n",
       "        vertical-align: top;\n",
       "    }\n",
       "\n",
       "    .dataframe thead th {\n",
       "        text-align: right;\n",
       "    }\n",
       "</style>\n",
       "<table border=\"1\" class=\"dataframe\">\n",
       "  <thead>\n",
       "    <tr style=\"text-align: right;\">\n",
       "      <th></th>\n",
       "      <th>ASIN</th>\n",
       "      <th>Category</th>\n",
       "      <th>No of Sellers</th>\n",
       "      <th>Rank</th>\n",
       "      <th>Rating</th>\n",
       "      <th>Reviews Count</th>\n",
       "      <th>Price($)</th>\n",
       "      <th>TotalIncome($)</th>\n",
       "    </tr>\n",
       "  </thead>\n",
       "  <tbody>\n",
       "    <tr>\n",
       "      <th>248</th>\n",
       "      <td>B07TMNGSN4</td>\n",
       "      <td>Gift Cards</td>\n",
       "      <td>1</td>\n",
       "      <td>2</td>\n",
       "      <td>4.8</td>\n",
       "      <td>721690.0</td>\n",
       "      <td>50.0</td>\n",
       "      <td>36084500.0</td>\n",
       "    </tr>\n",
       "    <tr>\n",
       "      <th>249</th>\n",
       "      <td>B004LLIKVU</td>\n",
       "      <td>Gift Cards</td>\n",
       "      <td>1</td>\n",
       "      <td>3</td>\n",
       "      <td>4.8</td>\n",
       "      <td>721690.0</td>\n",
       "      <td>50.0</td>\n",
       "      <td>36084500.0</td>\n",
       "    </tr>\n",
       "    <tr>\n",
       "      <th>250</th>\n",
       "      <td>B07PCMWTSG</td>\n",
       "      <td>Gift Cards</td>\n",
       "      <td>1</td>\n",
       "      <td>4</td>\n",
       "      <td>4.8</td>\n",
       "      <td>721690.0</td>\n",
       "      <td>50.0</td>\n",
       "      <td>36084500.0</td>\n",
       "    </tr>\n",
       "    <tr>\n",
       "      <th>253</th>\n",
       "      <td>B07WYVVM9G</td>\n",
       "      <td>Gift Cards</td>\n",
       "      <td>1</td>\n",
       "      <td>7</td>\n",
       "      <td>4.8</td>\n",
       "      <td>721690.0</td>\n",
       "      <td>50.0</td>\n",
       "      <td>36084500.0</td>\n",
       "    </tr>\n",
       "    <tr>\n",
       "      <th>255</th>\n",
       "      <td>B01FIS88SY</td>\n",
       "      <td>Gift Cards</td>\n",
       "      <td>1</td>\n",
       "      <td>9</td>\n",
       "      <td>4.8</td>\n",
       "      <td>721690.0</td>\n",
       "      <td>50.0</td>\n",
       "      <td>36084500.0</td>\n",
       "    </tr>\n",
       "    <tr>\n",
       "      <th>...</th>\n",
       "      <td>...</td>\n",
       "      <td>...</td>\n",
       "      <td>...</td>\n",
       "      <td>...</td>\n",
       "      <td>...</td>\n",
       "      <td>...</td>\n",
       "      <td>...</td>\n",
       "      <td>...</td>\n",
       "    </tr>\n",
       "    <tr>\n",
       "      <th>327</th>\n",
       "      <td>B07J54KYP1</td>\n",
       "      <td>Gift Cards</td>\n",
       "      <td>1</td>\n",
       "      <td>81</td>\n",
       "      <td>4.8</td>\n",
       "      <td>721690.0</td>\n",
       "      <td>50.0</td>\n",
       "      <td>36084500.0</td>\n",
       "    </tr>\n",
       "    <tr>\n",
       "      <th>334</th>\n",
       "      <td>B07CG4DYNH</td>\n",
       "      <td>Gift Cards</td>\n",
       "      <td>1</td>\n",
       "      <td>88</td>\n",
       "      <td>4.8</td>\n",
       "      <td>721690.0</td>\n",
       "      <td>50.0</td>\n",
       "      <td>36084500.0</td>\n",
       "    </tr>\n",
       "    <tr>\n",
       "      <th>340</th>\n",
       "      <td>B07D3P511R</td>\n",
       "      <td>Gift Cards</td>\n",
       "      <td>1</td>\n",
       "      <td>94</td>\n",
       "      <td>4.8</td>\n",
       "      <td>721690.0</td>\n",
       "      <td>50.0</td>\n",
       "      <td>36084500.0</td>\n",
       "    </tr>\n",
       "    <tr>\n",
       "      <th>341</th>\n",
       "      <td>B06X6HSVDY</td>\n",
       "      <td>Gift Cards</td>\n",
       "      <td>1</td>\n",
       "      <td>95</td>\n",
       "      <td>4.8</td>\n",
       "      <td>721690.0</td>\n",
       "      <td>50.0</td>\n",
       "      <td>36084500.0</td>\n",
       "    </tr>\n",
       "    <tr>\n",
       "      <th>343</th>\n",
       "      <td>B07YQL38L7</td>\n",
       "      <td>Gift Cards</td>\n",
       "      <td>1</td>\n",
       "      <td>97</td>\n",
       "      <td>4.8</td>\n",
       "      <td>721690.0</td>\n",
       "      <td>50.0</td>\n",
       "      <td>36084500.0</td>\n",
       "    </tr>\n",
       "  </tbody>\n",
       "</table>\n",
       "<p>39 rows × 8 columns</p>\n",
       "</div>"
      ],
      "text/plain": [
       "           ASIN    Category  No of Sellers  Rank  Rating  Reviews Count  \\\n",
       "248  B07TMNGSN4  Gift Cards              1     2     4.8       721690.0   \n",
       "249  B004LLIKVU  Gift Cards              1     3     4.8       721690.0   \n",
       "250  B07PCMWTSG  Gift Cards              1     4     4.8       721690.0   \n",
       "253  B07WYVVM9G  Gift Cards              1     7     4.8       721690.0   \n",
       "255  B01FIS88SY  Gift Cards              1     9     4.8       721690.0   \n",
       "..          ...         ...            ...   ...     ...            ...   \n",
       "327  B07J54KYP1  Gift Cards              1    81     4.8       721690.0   \n",
       "334  B07CG4DYNH  Gift Cards              1    88     4.8       721690.0   \n",
       "340  B07D3P511R  Gift Cards              1    94     4.8       721690.0   \n",
       "341  B06X6HSVDY  Gift Cards              1    95     4.8       721690.0   \n",
       "343  B07YQL38L7  Gift Cards              1    97     4.8       721690.0   \n",
       "\n",
       "     Price($)  TotalIncome($)  \n",
       "248      50.0      36084500.0  \n",
       "249      50.0      36084500.0  \n",
       "250      50.0      36084500.0  \n",
       "253      50.0      36084500.0  \n",
       "255      50.0      36084500.0  \n",
       "..        ...             ...  \n",
       "327      50.0      36084500.0  \n",
       "334      50.0      36084500.0  \n",
       "340      50.0      36084500.0  \n",
       "341      50.0      36084500.0  \n",
       "343      50.0      36084500.0  \n",
       "\n",
       "[39 rows x 8 columns]"
      ]
     },
     "execution_count": 36,
     "metadata": {},
     "output_type": "execute_result"
    }
   ],
   "source": [
    "data_clean[data_clean['TotalIncome($)' ] == data_clean['TotalIncome($)' ].max() ]"
   ]
  },
  {
   "cell_type": "markdown",
   "id": "a6d8b600",
   "metadata": {},
   "source": [
    "7. What is the category of the product with maximum number of reviews?."
   ]
  },
  {
   "cell_type": "code",
   "execution_count": 37,
   "id": "bdca989e",
   "metadata": {},
   "outputs": [],
   "source": [
    "group2 = data_clean.groupby('Category')['Reviews Count'].sum()"
   ]
  },
  {
   "cell_type": "code",
   "execution_count": 38,
   "id": "2466bd65",
   "metadata": {},
   "outputs": [
    {
     "data": {
      "text/plain": [
       "Category\n",
       "Books                         1812958.0\n",
       "Camera & Photo                 721754.0\n",
       "Clothing, Shoes & Jewelry     2868554.0\n",
       "Electronics                  11309903.0\n",
       "Gift Cards                   33486769.0\n",
       "Toys & Games                  1680303.0\n",
       "Video Games                   2562960.0\n",
       "Name: Reviews Count, dtype: float64"
      ]
     },
     "execution_count": 38,
     "metadata": {},
     "output_type": "execute_result"
    }
   ],
   "source": [
    "group2"
   ]
  },
  {
   "cell_type": "code",
   "execution_count": 39,
   "id": "c31ffbef",
   "metadata": {},
   "outputs": [
    {
     "data": {
      "text/plain": [
       "<matplotlib.legend.Legend at 0x2a26d537310>"
      ]
     },
     "execution_count": 39,
     "metadata": {},
     "output_type": "execute_result"
    },
    {
     "data": {
      "image/png": "[encoded data removed]",
      "text/plain": [
       "<Figure size 648x504 with 1 Axes>"
      ]
     },
     "metadata": {},
     "output_type": "display_data"
    }
   ],
   "source": [
    "plt.figure(figsize = (9,7))\n",
    "explode = [0]*7\n",
    "explode[3] = 0.3\n",
    "explode[4] = 0.3\n",
    "\n",
    "group2.plot(kind = 'pie',explode = explode, autopct = '%1.1f%%', shadow = True,fontsize = 14)\n",
    "plt.legend(loc = 'right',bbox_to_anchor = (1,0.4,0.5,1))"
   ]
  },
  {
   "cell_type": "markdown",
   "id": "ed5c2258",
   "metadata": {},
   "source": [
    "8. Which of the productIDs had the max number of sellers?."
   ]
  },
  {
   "cell_type": "code",
   "execution_count": 40,
   "id": "a688944e",
   "metadata": {},
   "outputs": [
    {
     "data": {
      "text/html": [
       "<div>\n",
       "<style scoped>\n",
       "    .dataframe tbody tr th:only-of-type {\n",
       "        vertical-align: middle;\n",
       "    }\n",
       "\n",
       "    .dataframe tbody tr th {\n",
       "        vertical-align: top;\n",
       "    }\n",
       "\n",
       "    .dataframe thead th {\n",
       "        text-align: right;\n",
       "    }\n",
       "</style>\n",
       "<table border=\"1\" class=\"dataframe\">\n",
       "  <thead>\n",
       "    <tr style=\"text-align: right;\">\n",
       "      <th></th>\n",
       "      <th>ASIN</th>\n",
       "      <th>Category</th>\n",
       "      <th>No of Sellers</th>\n",
       "      <th>Rank</th>\n",
       "      <th>Rating</th>\n",
       "      <th>Reviews Count</th>\n",
       "      <th>Price($)</th>\n",
       "      <th>TotalIncome($)</th>\n",
       "    </tr>\n",
       "  </thead>\n",
       "  <tbody>\n",
       "    <tr>\n",
       "      <th>452</th>\n",
       "      <td>B07VGRJDFY</td>\n",
       "      <td>Video Games</td>\n",
       "      <td>214</td>\n",
       "      <td>39</td>\n",
       "      <td>4.9</td>\n",
       "      <td>84166.0</td>\n",
       "      <td>299.99</td>\n",
       "      <td>25248958.34</td>\n",
       "    </tr>\n",
       "    <tr>\n",
       "      <th>486</th>\n",
       "      <td>B07XV4NHHN</td>\n",
       "      <td>Video Games</td>\n",
       "      <td>214</td>\n",
       "      <td>74</td>\n",
       "      <td>4.8</td>\n",
       "      <td>22209.0</td>\n",
       "      <td>48.00</td>\n",
       "      <td>1066032.00</td>\n",
       "    </tr>\n",
       "  </tbody>\n",
       "</table>\n",
       "</div>"
      ],
      "text/plain": [
       "           ASIN     Category  No of Sellers  Rank  Rating  Reviews Count  \\\n",
       "452  B07VGRJDFY  Video Games            214    39     4.9        84166.0   \n",
       "486  B07XV4NHHN  Video Games            214    74     4.8        22209.0   \n",
       "\n",
       "     Price($)  TotalIncome($)  \n",
       "452    299.99     25248958.34  \n",
       "486     48.00      1066032.00  "
      ]
     },
     "execution_count": 40,
     "metadata": {},
     "output_type": "execute_result"
    }
   ],
   "source": [
    "data_clean[data_clean['No of Sellers' ] == data_clean['No of Sellers' ].max() ]"
   ]
  },
  {
   "cell_type": "code",
   "execution_count": 41,
   "id": "24b0316e",
   "metadata": {},
   "outputs": [],
   "source": [
    "group3 = data_clean.groupby('Category')['No of Sellers'].sum()"
   ]
  },
  {
   "cell_type": "code",
   "execution_count": 42,
   "id": "35a76d8f",
   "metadata": {},
   "outputs": [
    {
     "data": {
      "text/plain": [
       "<matplotlib.legend.Legend at 0x2a26d5cd820>"
      ]
     },
     "execution_count": 42,
     "metadata": {},
     "output_type": "execute_result"
    },
    {
     "data": {
      "image/png": "[encoded data removed]",
      "text/plain": [
       "<Figure size 648x504 with 1 Axes>"
      ]
     },
     "metadata": {},
     "output_type": "display_data"
    }
   ],
   "source": [
    "plt.figure(figsize = (9,7))\n",
    "explode = [0]*7\n",
    "explode[3] = 0.3\n",
    "explode[4] = 0.3\n",
    "\n",
    "group3.plot(kind = 'pie', autopct = '%1.1f%%', shadow = True,fontsize = 14)\n",
    "plt.legend(loc = 'right',bbox_to_anchor = (1,0.4,0.5,1))"
   ]
  },
  {
   "cell_type": "code",
   "execution_count": 43,
   "id": "39e61c1c",
   "metadata": {},
   "outputs": [],
   "source": [
    "gro_1 = data_clean.groupby('Category').get_group('Electronics')"
   ]
  },
  {
   "cell_type": "code",
   "execution_count": 44,
   "id": "9ff189ed",
   "metadata": {},
   "outputs": [
    {
     "data": {
      "text/html": [
       "<div>\n",
       "<style scoped>\n",
       "    .dataframe tbody tr th:only-of-type {\n",
       "        vertical-align: middle;\n",
       "    }\n",
       "\n",
       "    .dataframe tbody tr th {\n",
       "        vertical-align: top;\n",
       "    }\n",
       "\n",
       "    .dataframe thead th {\n",
       "        text-align: right;\n",
       "    }\n",
       "</style>\n",
       "<table border=\"1\" class=\"dataframe\">\n",
       "  <thead>\n",
       "    <tr style=\"text-align: right;\">\n",
       "      <th></th>\n",
       "      <th>ASIN</th>\n",
       "      <th>Category</th>\n",
       "      <th>No of Sellers</th>\n",
       "      <th>Rank</th>\n",
       "      <th>Rating</th>\n",
       "      <th>Reviews Count</th>\n",
       "      <th>Price($)</th>\n",
       "      <th>TotalIncome($)</th>\n",
       "    </tr>\n",
       "  </thead>\n",
       "  <tbody>\n",
       "    <tr>\n",
       "      <th>0</th>\n",
       "      <td>B079QHML21</td>\n",
       "      <td>Electronics</td>\n",
       "      <td>1</td>\n",
       "      <td>1</td>\n",
       "      <td>4.7</td>\n",
       "      <td>640721.0</td>\n",
       "      <td>39.99</td>\n",
       "      <td>25622432.79</td>\n",
       "    </tr>\n",
       "    <tr>\n",
       "      <th>1</th>\n",
       "      <td>B07FZ8S74R</td>\n",
       "      <td>Electronics</td>\n",
       "      <td>1</td>\n",
       "      <td>2</td>\n",
       "      <td>4.7</td>\n",
       "      <td>854114.0</td>\n",
       "      <td>34.99</td>\n",
       "      <td>29885448.86</td>\n",
       "    </tr>\n",
       "    <tr>\n",
       "      <th>2</th>\n",
       "      <td>B07XJ8C8F5</td>\n",
       "      <td>Electronics</td>\n",
       "      <td>1</td>\n",
       "      <td>3</td>\n",
       "      <td>4.7</td>\n",
       "      <td>267821.0</td>\n",
       "      <td>44.99</td>\n",
       "      <td>12049266.79</td>\n",
       "    </tr>\n",
       "    <tr>\n",
       "      <th>3</th>\n",
       "      <td>B07WVFCVJN</td>\n",
       "      <td>Electronics</td>\n",
       "      <td>27</td>\n",
       "      <td>4</td>\n",
       "      <td>4.8</td>\n",
       "      <td>114267.0</td>\n",
       "      <td>28.48</td>\n",
       "      <td>3254324.16</td>\n",
       "    </tr>\n",
       "    <tr>\n",
       "      <th>4</th>\n",
       "      <td>B08YT2N5SX</td>\n",
       "      <td>Electronics</td>\n",
       "      <td>1</td>\n",
       "      <td>5</td>\n",
       "      <td>4.7</td>\n",
       "      <td>267821.0</td>\n",
       "      <td>49.99</td>\n",
       "      <td>13388371.79</td>\n",
       "    </tr>\n",
       "    <tr>\n",
       "      <th>...</th>\n",
       "      <td>...</td>\n",
       "      <td>...</td>\n",
       "      <td>...</td>\n",
       "      <td>...</td>\n",
       "      <td>...</td>\n",
       "      <td>...</td>\n",
       "      <td>...</td>\n",
       "      <td>...</td>\n",
       "    </tr>\n",
       "    <tr>\n",
       "      <th>142</th>\n",
       "      <td>B0758L64L9</td>\n",
       "      <td>Electronics</td>\n",
       "      <td>1</td>\n",
       "      <td>96</td>\n",
       "      <td>4.6</td>\n",
       "      <td>23741.0</td>\n",
       "      <td>199.99</td>\n",
       "      <td>4747962.59</td>\n",
       "    </tr>\n",
       "    <tr>\n",
       "      <th>143</th>\n",
       "      <td>B08N5LNQCX</td>\n",
       "      <td>Electronics</td>\n",
       "      <td>5</td>\n",
       "      <td>97</td>\n",
       "      <td>4.8</td>\n",
       "      <td>6599.0</td>\n",
       "      <td>899.00</td>\n",
       "      <td>5932501.00</td>\n",
       "    </tr>\n",
       "    <tr>\n",
       "      <th>144</th>\n",
       "      <td>B079RKX5ZL</td>\n",
       "      <td>Electronics</td>\n",
       "      <td>12</td>\n",
       "      <td>98</td>\n",
       "      <td>4.8</td>\n",
       "      <td>21383.0</td>\n",
       "      <td>12.99</td>\n",
       "      <td>277765.17</td>\n",
       "    </tr>\n",
       "    <tr>\n",
       "      <th>145</th>\n",
       "      <td>B08F58MXQG</td>\n",
       "      <td>Electronics</td>\n",
       "      <td>1</td>\n",
       "      <td>99</td>\n",
       "      <td>4.8</td>\n",
       "      <td>4617.0</td>\n",
       "      <td>19.99</td>\n",
       "      <td>92293.83</td>\n",
       "    </tr>\n",
       "    <tr>\n",
       "      <th>146</th>\n",
       "      <td>B08DHDS4T3</td>\n",
       "      <td>Electronics</td>\n",
       "      <td>14</td>\n",
       "      <td>100</td>\n",
       "      <td>4.7</td>\n",
       "      <td>9587.0</td>\n",
       "      <td>261.16</td>\n",
       "      <td>2503740.92</td>\n",
       "    </tr>\n",
       "  </tbody>\n",
       "</table>\n",
       "<p>147 rows × 8 columns</p>\n",
       "</div>"
      ],
      "text/plain": [
       "           ASIN     Category  No of Sellers  Rank  Rating  Reviews Count  \\\n",
       "0    B079QHML21  Electronics              1     1     4.7       640721.0   \n",
       "1    B07FZ8S74R  Electronics              1     2     4.7       854114.0   \n",
       "2    B07XJ8C8F5  Electronics              1     3     4.7       267821.0   \n",
       "3    B07WVFCVJN  Electronics             27     4     4.8       114267.0   \n",
       "4    B08YT2N5SX  Electronics              1     5     4.7       267821.0   \n",
       "..          ...          ...            ...   ...     ...            ...   \n",
       "142  B0758L64L9  Electronics              1    96     4.6        23741.0   \n",
       "143  B08N5LNQCX  Electronics              5    97     4.8         6599.0   \n",
       "144  B079RKX5ZL  Electronics             12    98     4.8        21383.0   \n",
       "145  B08F58MXQG  Electronics              1    99     4.8         4617.0   \n",
       "146  B08DHDS4T3  Electronics             14   100     4.7         9587.0   \n",
       "\n",
       "     Price($)  TotalIncome($)  \n",
       "0       39.99     25622432.79  \n",
       "1       34.99     29885448.86  \n",
       "2       44.99     12049266.79  \n",
       "3       28.48      3254324.16  \n",
       "4       49.99     13388371.79  \n",
       "..        ...             ...  \n",
       "142    199.99      4747962.59  \n",
       "143    899.00      5932501.00  \n",
       "144     12.99       277765.17  \n",
       "145     19.99        92293.83  \n",
       "146    261.16      2503740.92  \n",
       "\n",
       "[147 rows x 8 columns]"
      ]
     },
     "execution_count": 44,
     "metadata": {},
     "output_type": "execute_result"
    }
   ],
   "source": [
    "gro_1"
   ]
  },
  {
   "cell_type": "markdown",
   "id": "954b63a9",
   "metadata": {},
   "source": [
    "9. what is the  productID of the electronic product with the maximum reviews"
   ]
  },
  {
   "cell_type": "code",
   "execution_count": 45,
   "id": "5cfbedee",
   "metadata": {},
   "outputs": [
    {
     "data": {
      "text/html": [
       "<div>\n",
       "<style scoped>\n",
       "    .dataframe tbody tr th:only-of-type {\n",
       "        vertical-align: middle;\n",
       "    }\n",
       "\n",
       "    .dataframe tbody tr th {\n",
       "        vertical-align: top;\n",
       "    }\n",
       "\n",
       "    .dataframe thead th {\n",
       "        text-align: right;\n",
       "    }\n",
       "</style>\n",
       "<table border=\"1\" class=\"dataframe\">\n",
       "  <thead>\n",
       "    <tr style=\"text-align: right;\">\n",
       "      <th></th>\n",
       "      <th>ASIN</th>\n",
       "      <th>Category</th>\n",
       "      <th>No of Sellers</th>\n",
       "      <th>Rank</th>\n",
       "      <th>Rating</th>\n",
       "      <th>Reviews Count</th>\n",
       "      <th>Price($)</th>\n",
       "      <th>TotalIncome($)</th>\n",
       "    </tr>\n",
       "  </thead>\n",
       "  <tbody>\n",
       "    <tr>\n",
       "      <th>1</th>\n",
       "      <td>B07FZ8S74R</td>\n",
       "      <td>Electronics</td>\n",
       "      <td>1</td>\n",
       "      <td>2</td>\n",
       "      <td>4.7</td>\n",
       "      <td>854114.0</td>\n",
       "      <td>34.99</td>\n",
       "      <td>29885448.86</td>\n",
       "    </tr>\n",
       "    <tr>\n",
       "      <th>18</th>\n",
       "      <td>B07W95GZNH</td>\n",
       "      <td>Electronics</td>\n",
       "      <td>1</td>\n",
       "      <td>20</td>\n",
       "      <td>4.7</td>\n",
       "      <td>854114.0</td>\n",
       "      <td>34.99</td>\n",
       "      <td>29885448.86</td>\n",
       "    </tr>\n",
       "  </tbody>\n",
       "</table>\n",
       "</div>"
      ],
      "text/plain": [
       "          ASIN     Category  No of Sellers  Rank  Rating  Reviews Count  \\\n",
       "1   B07FZ8S74R  Electronics              1     2     4.7       854114.0   \n",
       "18  B07W95GZNH  Electronics              1    20     4.7       854114.0   \n",
       "\n",
       "    Price($)  TotalIncome($)  \n",
       "1      34.99     29885448.86  \n",
       "18     34.99     29885448.86  "
      ]
     },
     "execution_count": 45,
     "metadata": {},
     "output_type": "execute_result"
    }
   ],
   "source": [
    "gro_1[gro_1['Reviews Count'] == gro_1['Reviews Count'].max() ]"
   ]
  },
  {
   "cell_type": "markdown",
   "id": "5e0f041b",
   "metadata": {},
   "source": [
    "10.  what is the  productID of the electronic product with the max TotalIcome?."
   ]
  },
  {
   "cell_type": "code",
   "execution_count": 46,
   "id": "4cd2d146",
   "metadata": {},
   "outputs": [
    {
     "data": {
      "text/html": [
       "<div>\n",
       "<style scoped>\n",
       "    .dataframe tbody tr th:only-of-type {\n",
       "        vertical-align: middle;\n",
       "    }\n",
       "\n",
       "    .dataframe tbody tr th {\n",
       "        vertical-align: top;\n",
       "    }\n",
       "\n",
       "    .dataframe thead th {\n",
       "        text-align: right;\n",
       "    }\n",
       "</style>\n",
       "<table border=\"1\" class=\"dataframe\">\n",
       "  <thead>\n",
       "    <tr style=\"text-align: right;\">\n",
       "      <th></th>\n",
       "      <th>ASIN</th>\n",
       "      <th>Category</th>\n",
       "      <th>No of Sellers</th>\n",
       "      <th>Rank</th>\n",
       "      <th>Rating</th>\n",
       "      <th>Reviews Count</th>\n",
       "      <th>Price($)</th>\n",
       "      <th>TotalIncome($)</th>\n",
       "    </tr>\n",
       "  </thead>\n",
       "  <tbody>\n",
       "    <tr>\n",
       "      <th>1</th>\n",
       "      <td>B07FZ8S74R</td>\n",
       "      <td>Electronics</td>\n",
       "      <td>1</td>\n",
       "      <td>2</td>\n",
       "      <td>4.7</td>\n",
       "      <td>854114.0</td>\n",
       "      <td>34.99</td>\n",
       "      <td>29885448.86</td>\n",
       "    </tr>\n",
       "    <tr>\n",
       "      <th>18</th>\n",
       "      <td>B07W95GZNH</td>\n",
       "      <td>Electronics</td>\n",
       "      <td>1</td>\n",
       "      <td>20</td>\n",
       "      <td>4.7</td>\n",
       "      <td>854114.0</td>\n",
       "      <td>34.99</td>\n",
       "      <td>29885448.86</td>\n",
       "    </tr>\n",
       "  </tbody>\n",
       "</table>\n",
       "</div>"
      ],
      "text/plain": [
       "          ASIN     Category  No of Sellers  Rank  Rating  Reviews Count  \\\n",
       "1   B07FZ8S74R  Electronics              1     2     4.7       854114.0   \n",
       "18  B07W95GZNH  Electronics              1    20     4.7       854114.0   \n",
       "\n",
       "    Price($)  TotalIncome($)  \n",
       "1      34.99     29885448.86  \n",
       "18     34.99     29885448.86  "
      ]
     },
     "execution_count": 46,
     "metadata": {},
     "output_type": "execute_result"
    }
   ],
   "source": [
    "gro_1[gro_1['TotalIncome($)'] == gro_1['TotalIncome($)'].max() ]"
   ]
  },
  {
   "cell_type": "markdown",
   "id": "72d3c00d",
   "metadata": {},
   "source": [
    "11. what is the productID of the product with the max TotalIcome?.\n"
   ]
  },
  {
   "cell_type": "code",
   "execution_count": 47,
   "id": "aabc8837",
   "metadata": {},
   "outputs": [
    {
     "data": {
      "text/html": [
       "<div>\n",
       "<style scoped>\n",
       "    .dataframe tbody tr th:only-of-type {\n",
       "        vertical-align: middle;\n",
       "    }\n",
       "\n",
       "    .dataframe tbody tr th {\n",
       "        vertical-align: top;\n",
       "    }\n",
       "\n",
       "    .dataframe thead th {\n",
       "        text-align: right;\n",
       "    }\n",
       "</style>\n",
       "<table border=\"1\" class=\"dataframe\">\n",
       "  <thead>\n",
       "    <tr style=\"text-align: right;\">\n",
       "      <th></th>\n",
       "      <th>ASIN</th>\n",
       "      <th>Category</th>\n",
       "      <th>No of Sellers</th>\n",
       "      <th>Rank</th>\n",
       "      <th>Rating</th>\n",
       "      <th>Reviews Count</th>\n",
       "      <th>Price($)</th>\n",
       "      <th>TotalIncome($)</th>\n",
       "    </tr>\n",
       "  </thead>\n",
       "  <tbody>\n",
       "    <tr>\n",
       "      <th>1</th>\n",
       "      <td>B07FZ8S74R</td>\n",
       "      <td>Electronics</td>\n",
       "      <td>1</td>\n",
       "      <td>2</td>\n",
       "      <td>4.7</td>\n",
       "      <td>854114.0</td>\n",
       "      <td>34.99</td>\n",
       "      <td>29885448.86</td>\n",
       "    </tr>\n",
       "    <tr>\n",
       "      <th>18</th>\n",
       "      <td>B07W95GZNH</td>\n",
       "      <td>Electronics</td>\n",
       "      <td>1</td>\n",
       "      <td>20</td>\n",
       "      <td>4.7</td>\n",
       "      <td>854114.0</td>\n",
       "      <td>34.99</td>\n",
       "      <td>29885448.86</td>\n",
       "    </tr>\n",
       "  </tbody>\n",
       "</table>\n",
       "</div>"
      ],
      "text/plain": [
       "          ASIN     Category  No of Sellers  Rank  Rating  Reviews Count  \\\n",
       "1   B07FZ8S74R  Electronics              1     2     4.7       854114.0   \n",
       "18  B07W95GZNH  Electronics              1    20     4.7       854114.0   \n",
       "\n",
       "    Price($)  TotalIncome($)  \n",
       "1      34.99     29885448.86  \n",
       "18     34.99     29885448.86  "
      ]
     },
     "execution_count": 47,
     "metadata": {},
     "output_type": "execute_result"
    }
   ],
   "source": [
    "data_clean[data_clean['Reviews Count'] == data_clean['Reviews Count'].max()]"
   ]
  },
  {
   "cell_type": "code",
   "execution_count": 48,
   "id": "82308a81",
   "metadata": {},
   "outputs": [
    {
     "data": {
      "text/html": [
       "<div>\n",
       "<style scoped>\n",
       "    .dataframe tbody tr th:only-of-type {\n",
       "        vertical-align: middle;\n",
       "    }\n",
       "\n",
       "    .dataframe tbody tr th {\n",
       "        vertical-align: top;\n",
       "    }\n",
       "\n",
       "    .dataframe thead th {\n",
       "        text-align: right;\n",
       "    }\n",
       "</style>\n",
       "<table border=\"1\" class=\"dataframe\">\n",
       "  <thead>\n",
       "    <tr style=\"text-align: right;\">\n",
       "      <th></th>\n",
       "      <th>ASIN</th>\n",
       "      <th>Category</th>\n",
       "      <th>No of Sellers</th>\n",
       "      <th>Rank</th>\n",
       "      <th>Rating</th>\n",
       "      <th>Reviews Count</th>\n",
       "      <th>Price($)</th>\n",
       "      <th>TotalIncome($)</th>\n",
       "    </tr>\n",
       "  </thead>\n",
       "  <tbody>\n",
       "    <tr>\n",
       "      <th>459</th>\n",
       "      <td>B088CK6GP1</td>\n",
       "      <td>Video Games</td>\n",
       "      <td>7</td>\n",
       "      <td>46</td>\n",
       "      <td>5.0</td>\n",
       "      <td>1.0</td>\n",
       "      <td>49.94</td>\n",
       "      <td>49.94</td>\n",
       "    </tr>\n",
       "  </tbody>\n",
       "</table>\n",
       "</div>"
      ],
      "text/plain": [
       "           ASIN     Category  No of Sellers  Rank  Rating  Reviews Count  \\\n",
       "459  B088CK6GP1  Video Games              7    46     5.0            1.0   \n",
       "\n",
       "     Price($)  TotalIncome($)  \n",
       "459     49.94           49.94  "
      ]
     },
     "execution_count": 48,
     "metadata": {},
     "output_type": "execute_result"
    }
   ],
   "source": [
    "data_clean[data_clean['Reviews Count'] == data_clean['Reviews Count'].min()]"
   ]
  },
  {
   "cell_type": "markdown",
   "id": "451745f8",
   "metadata": {},
   "source": [
    "12. How many of these products had reviews count above 1000?."
   ]
  },
  {
   "cell_type": "code",
   "execution_count": 49,
   "id": "9fe9ab5a",
   "metadata": {},
   "outputs": [],
   "source": [
    "dat = data_clean[data_clean['Reviews Count'] >= 1000]"
   ]
  },
  {
   "cell_type": "code",
   "execution_count": 77,
   "id": "34ee844c",
   "metadata": {},
   "outputs": [
    {
     "data": {
      "text/plain": [
       "90.94766619519095"
      ]
     },
     "execution_count": 77,
     "metadata": {},
     "output_type": "execute_result"
    }
   ],
   "source": [
    "(len(dat)/len(data_clean))*100"
   ]
  },
  {
   "cell_type": "code",
   "execution_count": 51,
   "id": "93ae6ede",
   "metadata": {},
   "outputs": [
    {
     "data": {
      "text/plain": [
       "707"
      ]
     },
     "execution_count": 51,
     "metadata": {},
     "output_type": "execute_result"
    }
   ],
   "source": [
    "len(data_clean)"
   ]
  },
  {
   "cell_type": "markdown",
   "id": "0a1bd0e7",
   "metadata": {},
   "source": [
    "- From above, about 91% of the products had reviews counts above 1000."
   ]
  },
  {
   "cell_type": "markdown",
   "id": "3d098e1e",
   "metadata": {},
   "source": [
    "### 3. Statistical analysis"
   ]
  },
  {
   "cell_type": "code",
   "execution_count": 72,
   "id": "2c97665e",
   "metadata": {},
   "outputs": [
    {
     "data": {
      "text/html": [
       "<div>\n",
       "<style scoped>\n",
       "    .dataframe tbody tr th:only-of-type {\n",
       "        vertical-align: middle;\n",
       "    }\n",
       "\n",
       "    .dataframe tbody tr th {\n",
       "        vertical-align: top;\n",
       "    }\n",
       "\n",
       "    .dataframe thead th {\n",
       "        text-align: right;\n",
       "    }\n",
       "</style>\n",
       "<table border=\"1\" class=\"dataframe\">\n",
       "  <thead>\n",
       "    <tr style=\"text-align: right;\">\n",
       "      <th></th>\n",
       "      <th>No of Sellers</th>\n",
       "      <th>Rank</th>\n",
       "      <th>Rating</th>\n",
       "      <th>Reviews Count</th>\n",
       "      <th>Price($)</th>\n",
       "      <th>TotalIncome($)</th>\n",
       "    </tr>\n",
       "  </thead>\n",
       "  <tbody>\n",
       "    <tr>\n",
       "      <th>count</th>\n",
       "      <td>707.000000</td>\n",
       "      <td>707.000000</td>\n",
       "      <td>707.000000</td>\n",
       "      <td>707.000000</td>\n",
       "      <td>707.000000</td>\n",
       "      <td>7.070000e+02</td>\n",
       "    </tr>\n",
       "    <tr>\n",
       "      <th>mean</th>\n",
       "      <td>8.333805</td>\n",
       "      <td>51.356436</td>\n",
       "      <td>4.593494</td>\n",
       "      <td>77005.942008</td>\n",
       "      <td>55.686351</td>\n",
       "      <td>3.969124e+06</td>\n",
       "    </tr>\n",
       "    <tr>\n",
       "      <th>std</th>\n",
       "      <td>20.699360</td>\n",
       "      <td>28.661702</td>\n",
       "      <td>0.284117</td>\n",
       "      <td>178407.465321</td>\n",
       "      <td>88.580862</td>\n",
       "      <td>9.222754e+06</td>\n",
       "    </tr>\n",
       "    <tr>\n",
       "      <th>min</th>\n",
       "      <td>1.000000</td>\n",
       "      <td>1.000000</td>\n",
       "      <td>1.400000</td>\n",
       "      <td>1.000000</td>\n",
       "      <td>0.880000</td>\n",
       "      <td>3.992000e+01</td>\n",
       "    </tr>\n",
       "    <tr>\n",
       "      <th>25%</th>\n",
       "      <td>1.000000</td>\n",
       "      <td>27.000000</td>\n",
       "      <td>4.500000</td>\n",
       "      <td>5138.000000</td>\n",
       "      <td>13.990000</td>\n",
       "      <td>1.265318e+05</td>\n",
       "    </tr>\n",
       "    <tr>\n",
       "      <th>50%</th>\n",
       "      <td>1.000000</td>\n",
       "      <td>52.000000</td>\n",
       "      <td>4.700000</td>\n",
       "      <td>18023.000000</td>\n",
       "      <td>25.990000</td>\n",
       "      <td>3.623500e+05</td>\n",
       "    </tr>\n",
       "    <tr>\n",
       "      <th>75%</th>\n",
       "      <td>5.000000</td>\n",
       "      <td>75.500000</td>\n",
       "      <td>4.800000</td>\n",
       "      <td>49593.500000</td>\n",
       "      <td>50.000000</td>\n",
       "      <td>1.558800e+06</td>\n",
       "    </tr>\n",
       "    <tr>\n",
       "      <th>max</th>\n",
       "      <td>214.000000</td>\n",
       "      <td>100.000000</td>\n",
       "      <td>5.000000</td>\n",
       "      <td>854114.000000</td>\n",
       "      <td>899.000000</td>\n",
       "      <td>3.608450e+07</td>\n",
       "    </tr>\n",
       "  </tbody>\n",
       "</table>\n",
       "</div>"
      ],
      "text/plain": [
       "       No of Sellers        Rank      Rating  Reviews Count    Price($)  \\\n",
       "count     707.000000  707.000000  707.000000     707.000000  707.000000   \n",
       "mean        8.333805   51.356436    4.593494   77005.942008   55.686351   \n",
       "std        20.699360   28.661702    0.284117  178407.465321   88.580862   \n",
       "min         1.000000    1.000000    1.400000       1.000000    0.880000   \n",
       "25%         1.000000   27.000000    4.500000    5138.000000   13.990000   \n",
       "50%         1.000000   52.000000    4.700000   18023.000000   25.990000   \n",
       "75%         5.000000   75.500000    4.800000   49593.500000   50.000000   \n",
       "max       214.000000  100.000000    5.000000  854114.000000  899.000000   \n",
       "\n",
       "       TotalIncome($)  \n",
       "count    7.070000e+02  \n",
       "mean     3.969124e+06  \n",
       "std      9.222754e+06  \n",
       "min      3.992000e+01  \n",
       "25%      1.265318e+05  \n",
       "50%      3.623500e+05  \n",
       "75%      1.558800e+06  \n",
       "max      3.608450e+07  "
      ]
     },
     "execution_count": 72,
     "metadata": {},
     "output_type": "execute_result"
    }
   ],
   "source": [
    "data_clean.describe()"
   ]
  },
  {
   "cell_type": "markdown",
   "id": "6ad13e41",
   "metadata": {},
   "source": [
    "- From the statistics above , it is observed that the minimum number of sellers for a particular product was 1 and the maximum was 214.\n",
    "- Also the minimum price at which a product was sold was 88cents and the maximum price was $899."
   ]
  },
  {
   "cell_type": "markdown",
   "id": "59af4a8c",
   "metadata": {},
   "source": [
    "# 4. Data Visualization"
   ]
  },
  {
   "cell_type": "code",
   "execution_count": 52,
   "id": "b3e7acca",
   "metadata": {},
   "outputs": [
    {
     "name": "stdout",
     "output_type": "stream",
     "text": [
      "                No of Sellers      Rank    Rating  Reviews Count  Price($)  \\\n",
      "No of Sellers        1.000000  0.003025  0.107523      -0.097749  0.125485   \n",
      "Rank                 0.003025  1.000000 -0.040416      -0.119950  0.121938   \n",
      "Rating               0.107523 -0.040416  1.000000       0.218048  0.026729   \n",
      "Reviews Count       -0.097749 -0.119950  0.218048       1.000000 -0.020218   \n",
      "Price($)             0.125485  0.121938  0.026729      -0.020218  1.000000   \n",
      "TotalIncome($)      -0.048694 -0.068520  0.202363       0.945915  0.191563   \n",
      "\n",
      "                TotalIncome($)  \n",
      "No of Sellers        -0.048694  \n",
      "Rank                 -0.068520  \n",
      "Rating                0.202363  \n",
      "Reviews Count         0.945915  \n",
      "Price($)              0.191563  \n",
      "TotalIncome($)        1.000000  \n"
     ]
    }
   ],
   "source": [
    "cor = data_clean.corr()\n",
    "print(cor)"
   ]
  },
  {
   "cell_type": "code",
   "execution_count": 53,
   "id": "0ef6f9e2",
   "metadata": {},
   "outputs": [
    {
     "data": {
      "text/plain": [
       "<AxesSubplot:>"
      ]
     },
     "execution_count": 53,
     "metadata": {},
     "output_type": "execute_result"
    },
    {
     "data": {
      "image/png": "[encoded data removed]",
      "text/plain": [
       "<Figure size 432x288 with 2 Axes>"
      ]
     },
     "metadata": {
      "needs_background": "light"
     },
     "output_type": "display_data"
    }
   ],
   "source": [
    "sns.heatmap(cor, annot = True)"
   ]
  },
  {
   "cell_type": "markdown",
   "id": "19625aea",
   "metadata": {},
   "source": [
    "OBSERVATION:\n",
    "From the heatmap above ,there exist a strong correlation between Reviews counts and Total Income,Reviews counts and rating"
   ]
  },
  {
   "cell_type": "code",
   "execution_count": 54,
   "id": "ad5ff60b",
   "metadata": {},
   "outputs": [
    {
     "data": {
      "text/plain": [
       "Text(0.5, 1.0, 'Reviews counts for the different product categories')"
      ]
     },
     "execution_count": 54,
     "metadata": {},
     "output_type": "execute_result"
    },
    {
     "data": {
      "image/png": "[encoded data removed]",
      "text/plain": [
       "<Figure size 648x648 with 1 Axes>"
      ]
     },
     "metadata": {
      "needs_background": "light"
     },
     "output_type": "display_data"
    }
   ],
   "source": [
    "plt.figure(figsize = (9,9))\n",
    "sns.stripplot(x = 'Category',y = 'Reviews Count',data = data_clean)\n",
    "plt.xticks( rotation = 45,ha = 'right',rotation_mode = 'anchor')\n",
    "plt.title('Reviews counts for the different product categories')"
   ]
  },
  {
   "cell_type": "markdown",
   "id": "467730b0",
   "metadata": {},
   "source": [
    "OBSERVATION:\n",
    "From the above stripplot it is seen that Electronics products had the highest number of reviews(above 600000) followed by Gift cards and Video games while toys and Games,Camera & photos ,clothing,shoes and jewellry had the least number of reviews(below 2000000)."
   ]
  },
  {
   "cell_type": "code",
   "execution_count": 55,
   "id": "1dbec745",
   "metadata": {},
   "outputs": [
    {
     "data": {
      "text/plain": [
       "<AxesSubplot:>"
      ]
     },
     "execution_count": 55,
     "metadata": {},
     "output_type": "execute_result"
    },
    {
     "data": {
      "image/png": "[encoded data removed]",
      "text/plain": [
       "<Figure size 432x288 with 1 Axes>"
      ]
     },
     "metadata": {
      "needs_background": "light"
     },
     "output_type": "display_data"
    }
   ],
   "source": [
    "data_clean[['Reviews Count','TotalIncome($)']].plot(kind = 'line')"
   ]
  },
  {
   "cell_type": "markdown",
   "id": "dce5ff9d",
   "metadata": {},
   "source": [
    "11. Determine the total number of reviews for products that had only one seller and number of reviews for products that had more than one seller."
   ]
  },
  {
   "cell_type": "code",
   "execution_count": 56,
   "id": "f3c868f1",
   "metadata": {},
   "outputs": [],
   "source": [
    "df_oneseller = data_clean[data_clean['No of Sellers'] == 1]"
   ]
  },
  {
   "cell_type": "code",
   "execution_count": 57,
   "id": "90aa3598",
   "metadata": {},
   "outputs": [
    {
     "data": {
      "text/plain": [
       "47130254.0"
      ]
     },
     "execution_count": 57,
     "metadata": {},
     "output_type": "execute_result"
    }
   ],
   "source": [
    "df_oneseller['Reviews Count'].sum()"
   ]
  },
  {
   "cell_type": "code",
   "execution_count": 58,
   "id": "3c63f7d9",
   "metadata": {},
   "outputs": [],
   "source": [
    "df_moreseller = data_clean[data_clean['No of Sellers'] > 1]"
   ]
  },
  {
   "cell_type": "code",
   "execution_count": 59,
   "id": "f2e4898b",
   "metadata": {},
   "outputs": [
    {
     "data": {
      "text/plain": [
       "7312947.0"
      ]
     },
     "execution_count": 59,
     "metadata": {},
     "output_type": "execute_result"
    }
   ],
   "source": [
    "df_moreseller['Reviews Count'].sum()"
   ]
  },
  {
   "cell_type": "markdown",
   "id": "408fa46d",
   "metadata": {},
   "source": [
    "From the above findings, it shows that products that were sold by only one seller had the maximum number of reviews."
   ]
  },
  {
   "cell_type": "code",
   "execution_count": 60,
   "id": "f378d998",
   "metadata": {},
   "outputs": [
    {
     "data": {
      "text/plain": [
       "<seaborn.axisgrid.PairGrid at 0x2a26d9b93d0>"
      ]
     },
     "execution_count": 60,
     "metadata": {},
     "output_type": "execute_result"
    },
    {
     "data": {
      "image/png": "[encoded data removed]",
      "text/plain": [
       "<Figure size 1080x1080 with 42 Axes>"
      ]
     },
     "metadata": {
      "needs_background": "light"
     },
     "output_type": "display_data"
    }
   ],
   "source": [
    "sns.pairplot(data_clean)"
   ]
  },
  {
   "cell_type": "code",
   "execution_count": 61,
   "id": "3404232b",
   "metadata": {},
   "outputs": [
    {
     "data": {
      "text/plain": [
       "(array([0, 1, 2, 3, 4, 5, 6]),\n",
       " [Text(0, 0, 'Electronics'),\n",
       "  Text(1, 0, 'Clothing, Shoes & Jewelry'),\n",
       "  Text(2, 0, 'Gift Cards'),\n",
       "  Text(3, 0, 'Books'),\n",
       "  Text(4, 0, 'Video Games'),\n",
       "  Text(5, 0, 'Camera & Photo'),\n",
       "  Text(6, 0, 'Toys & Games')])"
      ]
     },
     "execution_count": 61,
     "metadata": {},
     "output_type": "execute_result"
    },
    {
     "data": {
      "image/png": "[encoded data removed]",
      "text/plain": [
       "<Figure size 648x648 with 1 Axes>"
      ]
     },
     "metadata": {
      "needs_background": "light"
     },
     "output_type": "display_data"
    }
   ],
   "source": [
    "plt.figure(figsize = (9,9))\n",
    "sns.boxplot(x = 'Category',y = 'TotalIncome($)',data = data_clean)\n",
    "plt.xticks(rotation = 45)"
   ]
  },
  {
   "cell_type": "markdown",
   "id": "b6ac0839",
   "metadata": {},
   "source": [
    "OBSERVATION:\n",
    "From the above box plot it is observed that the median of total income for the Gift Cards is the largest as compare to those  of the other product category and followed by the median of total income for the Electronics products."
   ]
  },
  {
   "cell_type": "markdown",
   "id": "a87b1be0",
   "metadata": {},
   "source": [
    "- Variation of reviews count with total income."
   ]
  },
  {
   "cell_type": "code",
   "execution_count": 62,
   "id": "341d9aa7",
   "metadata": {},
   "outputs": [
    {
     "data": {
      "text/plain": [
       "Text(0.5, 1.0, 'Variation of reviews with total income')"
      ]
     },
     "execution_count": 62,
     "metadata": {},
     "output_type": "execute_result"
    },
    {
     "data": {
      "image/png": "[encoded data removed]",
      "text/plain": [
       "<Figure size 432x288 with 1 Axes>"
      ]
     },
     "metadata": {
      "needs_background": "light"
     },
     "output_type": "display_data"
    }
   ],
   "source": [
    "plt.scatter(data_clean['Reviews Count'],data_clean['TotalIncome($)'])\n",
    "plt.ylabel('Review counts')\n",
    "plt.xlabel('Total income')\n",
    "plt.title('Variation of reviews with total income')"
   ]
  },
  {
   "cell_type": "markdown",
   "id": "da6a529f",
   "metadata": {},
   "source": [
    "12. Which  product category had the high rating values"
   ]
  },
  {
   "cell_type": "code",
   "execution_count": 63,
   "id": "a498e94d",
   "metadata": {},
   "outputs": [
    {
     "data": {
      "text/plain": [
       "Text(0.5, 1.0, 'Product rating')"
      ]
     },
     "execution_count": 63,
     "metadata": {},
     "output_type": "execute_result"
    },
    {
     "data": {
      "image/png": "[encoded data removed]",
      "text/plain": [
       "<Figure size 576x576 with 1 Axes>"
      ]
     },
     "metadata": {
      "needs_background": "light"
     },
     "output_type": "display_data"
    }
   ],
   "source": [
    "plt.figure(figsize = (8,8))\n",
    "sns.stripplot(x= 'Category',y = 'Rating',data = data_clean)\n",
    "plt.xticks(rotation = 45)\n",
    "plt.title('Product rating')"
   ]
  },
  {
   "cell_type": "markdown",
   "id": "2b5eddbf",
   "metadata": {},
   "source": [
    "From above, Electronics,Gift Cards, Clothing,shoes & Jewelry had only high rating values,4.0 - 5, 4.5 - 5.0, 4.0 - 4.9 repectively."
   ]
  },
  {
   "cell_type": "code",
   "execution_count": 64,
   "id": "9cc44478",
   "metadata": {},
   "outputs": [],
   "source": [
    "group_3 = data_clean.groupby('Category')['Rating'].value_counts()"
   ]
  },
  {
   "cell_type": "code",
   "execution_count": 65,
   "id": "4dabc983",
   "metadata": {},
   "outputs": [
    {
     "data": {
      "text/plain": [
       "<AxesSubplot:xlabel='Rating', ylabel='Reviews Count'>"
      ]
     },
     "execution_count": 65,
     "metadata": {},
     "output_type": "execute_result"
    },
    {
     "data": {
      "image/png": "[encoded data removed]",
      "text/plain": [
       "<Figure size 648x432 with 1 Axes>"
      ]
     },
     "metadata": {
      "needs_background": "light"
     },
     "output_type": "display_data"
    }
   ],
   "source": [
    "plt.figure(figsize = (9,6))\n",
    "sns.stripplot(x = 'Rating' ,y = 'Reviews Count',hue = 'Category',data = data_clean)"
   ]
  },
  {
   "cell_type": "markdown",
   "id": "07078f49",
   "metadata": {},
   "source": [
    "13. Identify the productIDs of the products with rating greater or equal to 4."
   ]
  },
  {
   "cell_type": "code",
   "execution_count": 66,
   "id": "bdc0334a",
   "metadata": {},
   "outputs": [
    {
     "data": {
      "text/html": [
       "<div>\n",
       "<style scoped>\n",
       "    .dataframe tbody tr th:only-of-type {\n",
       "        vertical-align: middle;\n",
       "    }\n",
       "\n",
       "    .dataframe tbody tr th {\n",
       "        vertical-align: top;\n",
       "    }\n",
       "\n",
       "    .dataframe thead th {\n",
       "        text-align: right;\n",
       "    }\n",
       "</style>\n",
       "<table border=\"1\" class=\"dataframe\">\n",
       "  <thead>\n",
       "    <tr style=\"text-align: right;\">\n",
       "      <th></th>\n",
       "      <th>ASIN</th>\n",
       "      <th>Category</th>\n",
       "      <th>No of Sellers</th>\n",
       "      <th>Rank</th>\n",
       "      <th>Rating</th>\n",
       "      <th>Reviews Count</th>\n",
       "      <th>Price($)</th>\n",
       "      <th>TotalIncome($)</th>\n",
       "    </tr>\n",
       "  </thead>\n",
       "  <tbody>\n",
       "    <tr>\n",
       "      <th>49</th>\n",
       "      <td>B095NWYQBC</td>\n",
       "      <td>Electronics</td>\n",
       "      <td>1</td>\n",
       "      <td>51</td>\n",
       "      <td>5.0</td>\n",
       "      <td>4.0</td>\n",
       "      <td>9.98</td>\n",
       "      <td>39.92</td>\n",
       "    </tr>\n",
       "    <tr>\n",
       "      <th>98</th>\n",
       "      <td>B095NWYQBC</td>\n",
       "      <td>Electronics</td>\n",
       "      <td>1</td>\n",
       "      <td>51</td>\n",
       "      <td>5.0</td>\n",
       "      <td>4.0</td>\n",
       "      <td>9.98</td>\n",
       "      <td>39.92</td>\n",
       "    </tr>\n",
       "    <tr>\n",
       "      <th>389</th>\n",
       "      <td>1684510821</td>\n",
       "      <td>Books</td>\n",
       "      <td>1</td>\n",
       "      <td>47</td>\n",
       "      <td>5.0</td>\n",
       "      <td>47.0</td>\n",
       "      <td>18.57</td>\n",
       "      <td>872.79</td>\n",
       "    </tr>\n",
       "    <tr>\n",
       "      <th>407</th>\n",
       "      <td>1611806860</td>\n",
       "      <td>Books</td>\n",
       "      <td>1</td>\n",
       "      <td>72</td>\n",
       "      <td>5.0</td>\n",
       "      <td>3.0</td>\n",
       "      <td>13.49</td>\n",
       "      <td>40.47</td>\n",
       "    </tr>\n",
       "    <tr>\n",
       "      <th>459</th>\n",
       "      <td>B088CK6GP1</td>\n",
       "      <td>Video Games</td>\n",
       "      <td>7</td>\n",
       "      <td>46</td>\n",
       "      <td>5.0</td>\n",
       "      <td>1.0</td>\n",
       "      <td>49.94</td>\n",
       "      <td>49.94</td>\n",
       "    </tr>\n",
       "    <tr>\n",
       "      <th>515</th>\n",
       "      <td>B095NWYQBC</td>\n",
       "      <td>Camera &amp; Photo</td>\n",
       "      <td>1</td>\n",
       "      <td>4</td>\n",
       "      <td>5.0</td>\n",
       "      <td>4.0</td>\n",
       "      <td>9.98</td>\n",
       "      <td>39.92</td>\n",
       "    </tr>\n",
       "  </tbody>\n",
       "</table>\n",
       "</div>"
      ],
      "text/plain": [
       "           ASIN        Category  No of Sellers  Rank  Rating  Reviews Count  \\\n",
       "49   B095NWYQBC     Electronics              1    51     5.0            4.0   \n",
       "98   B095NWYQBC     Electronics              1    51     5.0            4.0   \n",
       "389  1684510821           Books              1    47     5.0           47.0   \n",
       "407  1611806860           Books              1    72     5.0            3.0   \n",
       "459  B088CK6GP1     Video Games              7    46     5.0            1.0   \n",
       "515  B095NWYQBC  Camera & Photo              1     4     5.0            4.0   \n",
       "\n",
       "     Price($)  TotalIncome($)  \n",
       "49       9.98           39.92  \n",
       "98       9.98           39.92  \n",
       "389     18.57          872.79  \n",
       "407     13.49           40.47  \n",
       "459     49.94           49.94  \n",
       "515      9.98           39.92  "
      ]
     },
     "execution_count": 66,
     "metadata": {},
     "output_type": "execute_result"
    }
   ],
   "source": [
    "data_clean[data_clean['Rating'] == data_clean['Rating'].max() ]"
   ]
  },
  {
   "cell_type": "markdown",
   "id": "11603080",
   "metadata": {},
   "source": [
    " The table above shows the different product that were rated 5 and despite the fact that they were rated high the had minimum numbers of reviews."
   ]
  },
  {
   "cell_type": "code",
   "execution_count": null,
   "id": "4f8354e5",
   "metadata": {},
   "outputs": [],
   "source": [
    "data_clean['Rating'].max()"
   ]
  },
  {
   "cell_type": "markdown",
   "id": "4171a4d0",
   "metadata": {},
   "source": [
    "#  Observations"
   ]
  },
  {
   "cell_type": "markdown",
   "id": "80e52876",
   "metadata": {},
   "source": [
    "1. In June 2021 Amazon sold out 707 of its' products.\n",
    "\n",
    "2. The products were of the following categories: Electronics(147),Camera&Photos(100),Clothing,Shoes&Jewelry(100)\n",
    " Video games(95),Gift cards(100),Toy&Games(95) and Books(70).\n",
    " \n",
    "3. It was also aboserved that Gift cards had the highest number of reviews(61.5% of the total reviews) and contributed the most to the total revenew(58.6% of total income) and followed by Electronics products with 20.8% of total reviews and contributed 32.0% of the total revenue.Camera & Photos had the least number of reviews, 1.3% of total reviews and contributed 0.4% of the total revenue.\n",
    "\n",
    "4.  Gift cards had the least number of sellers(1.7% of total sellers) but contributed the most to the total revenue while Video games had the maximum number of sellers(45.7%) but contributed only 3.1% of the total revenue. But in the case of Electronics products,\n",
    "there were more sellers(15.4% of sellers) and also they made a great contribution to the total revenue(20.8%).\n",
    "\n",
    "5. From the above findings it shows that products that were sold by single sellers had the maximum number of reviews as compared to those that were sold by multiple sellers.\n",
    "\n",
    "6. B07FZ8S74R and B07W95GZNH are the Electronics products that had the maximum number of reviews and contributed the maximum percent of totalIncome.\n",
    "7. B088CK6GP1 is Video game product that had the maximum rating.\n",
    "8. It was also observed that there was a strong correlation between Reviews and the total revenue. \n"
   ]
  },
  {
   "cell_type": "markdown",
   "id": "7c6699c3",
   "metadata": {},
   "source": [
    "### Future work\n",
    "- Here is just a proposal,I hope it will be of help to someone. I will be very grateful if you can  go through this and be able to comment on my errors for i am just a beginner as far as Data sciences is concerned.\n",
    "- Proper visualization and findings still have to be done on this dataset. "
   ]
  },
  {
   "cell_type": "markdown",
   "id": "c77208a2",
   "metadata": {},
   "source": [
    "# References"
   ]
  },
  {
   "cell_type": "markdown",
   "id": "31be16b9",
   "metadata": {},
   "source": [
    "- Dataset:https://www.kaggle.com/hussainaliarif/amazon-best-seller-june-2021-products"
   ]
  },
  {
   "cell_type": "code",
   "execution_count": 1,
   "id": "a194ef50",
   "metadata": {},
   "outputs": [],
   "source": [
    "import jovian"
   ]
  },
  {
   "cell_type": "code",
   "execution_count": 2,
   "id": "9544e894",
   "metadata": {},
   "outputs": [
    {
     "data": {
      "application/javascript": [
       "window.require && require([\"base/js/namespace\"],function(Jupyter){Jupyter.notebook.save_checkpoint()})"
      ],
      "text/plain": [
       "<IPython.core.display.Javascript object>"
      ]
     },
     "metadata": {},
     "output_type": "display_data"
    },
    {
     "name": "stdout",
     "output_type": "stream",
     "text": [
      "[jovian] Committed successfully! https://jovian.ai/abehsongkiss/data-analytics-project2-amazon-best-seller-2021\r\n"
     ]
    },
    {
     "data": {
      "text/plain": [
       "'https://jovian.ai/abehsongkiss/data-analytics-project2-amazon-best-seller-2021'"
      ]
     },
     "execution_count": 2,
     "metadata": {},
     "output_type": "execute_result"
    }
   ],
   "source": [
    "jovian.commit()"
   ]
  },
  {
   "cell_type": "code",
   "execution_count": null,
   "id": "930a1e87",
   "metadata": {},
   "outputs": [],
   "source": []
  }
 ],
 "metadata": {
  "kernelspec": {
   "display_name": "Python 3",
   "language": "python",
   "name": "python3"
  },
  "language_info": {
   "codemirror_mode": {
    "name": "ipython",
    "version": 3
   },
   "file_extension": ".py",
   "mimetype": "text/x-python",
   "name": "python",
   "nbconvert_exporter": "python",
   "pygments_lexer": "ipython3",
   "version": "3.8.8"
  }
 },
 "nbformat": 4,
 "nbformat_minor": 5
}
